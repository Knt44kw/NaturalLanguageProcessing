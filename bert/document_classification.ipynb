{
  "nbformat": 4,
  "nbformat_minor": 0,
  "metadata": {
    "colab": {
      "name": "document_classification",
      "provenance": [],
      "collapsed_sections": []
    },
    "kernelspec": {
      "name": "python3",
      "display_name": "Python 3"
    },
    "accelerator": "GPU",
    "widgets": {
      "application/vnd.jupyter.widget-state+json": {
        "47d45ee827234efca07d5f068fcca942": {
          "model_module": "@jupyter-widgets/controls",
          "model_name": "HBoxModel",
          "state": {
            "_view_name": "HBoxView",
            "_dom_classes": [],
            "_model_name": "HBoxModel",
            "_view_module": "@jupyter-widgets/controls",
            "_model_module_version": "1.5.0",
            "_view_count": null,
            "_view_module_version": "1.5.0",
            "box_style": "",
            "layout": "IPY_MODEL_74a78b30250142ab8bbf5b500577ea43",
            "_model_module": "@jupyter-widgets/controls",
            "children": [
              "IPY_MODEL_8f79d255bf86402ca1fb50722d6934ec",
              "IPY_MODEL_9bfb2f539e1c4d70a35abca08694c3c7"
            ]
          }
        },
        "74a78b30250142ab8bbf5b500577ea43": {
          "model_module": "@jupyter-widgets/base",
          "model_name": "LayoutModel",
          "state": {
            "_view_name": "LayoutView",
            "grid_template_rows": null,
            "right": null,
            "justify_content": null,
            "_view_module": "@jupyter-widgets/base",
            "overflow": null,
            "_model_module_version": "1.2.0",
            "_view_count": null,
            "flex_flow": null,
            "width": null,
            "min_width": null,
            "border": null,
            "align_items": null,
            "bottom": null,
            "_model_module": "@jupyter-widgets/base",
            "top": null,
            "grid_column": null,
            "overflow_y": null,
            "overflow_x": null,
            "grid_auto_flow": null,
            "grid_area": null,
            "grid_template_columns": null,
            "flex": null,
            "_model_name": "LayoutModel",
            "justify_items": null,
            "grid_row": null,
            "max_height": null,
            "align_content": null,
            "visibility": null,
            "align_self": null,
            "height": null,
            "min_height": null,
            "padding": null,
            "grid_auto_rows": null,
            "grid_gap": null,
            "max_width": null,
            "order": null,
            "_view_module_version": "1.2.0",
            "grid_template_areas": null,
            "object_position": null,
            "object_fit": null,
            "grid_auto_columns": null,
            "margin": null,
            "display": null,
            "left": null
          }
        },
        "8f79d255bf86402ca1fb50722d6934ec": {
          "model_module": "@jupyter-widgets/controls",
          "model_name": "FloatProgressModel",
          "state": {
            "_view_name": "ProgressView",
            "style": "IPY_MODEL_e5b7ef81cfcf4574b7c4d05e627528ae",
            "_dom_classes": [],
            "description": "Downloading: 100%",
            "_model_name": "FloatProgressModel",
            "bar_style": "success",
            "max": 257706,
            "_view_module": "@jupyter-widgets/controls",
            "_model_module_version": "1.5.0",
            "value": 257706,
            "_view_count": null,
            "_view_module_version": "1.5.0",
            "orientation": "horizontal",
            "min": 0,
            "description_tooltip": null,
            "_model_module": "@jupyter-widgets/controls",
            "layout": "IPY_MODEL_317546e00699462b95f8653d377c0bca"
          }
        },
        "9bfb2f539e1c4d70a35abca08694c3c7": {
          "model_module": "@jupyter-widgets/controls",
          "model_name": "HTMLModel",
          "state": {
            "_view_name": "HTMLView",
            "style": "IPY_MODEL_548b482397bd47d586ddb935d0832dfa",
            "_dom_classes": [],
            "description": "",
            "_model_name": "HTMLModel",
            "placeholder": "​",
            "_view_module": "@jupyter-widgets/controls",
            "_model_module_version": "1.5.0",
            "value": " 258k/258k [00:00&lt;00:00, 3.48MB/s]",
            "_view_count": null,
            "_view_module_version": "1.5.0",
            "description_tooltip": null,
            "_model_module": "@jupyter-widgets/controls",
            "layout": "IPY_MODEL_61faa46adfb646188d30b13ebf2d4aab"
          }
        },
        "e5b7ef81cfcf4574b7c4d05e627528ae": {
          "model_module": "@jupyter-widgets/controls",
          "model_name": "ProgressStyleModel",
          "state": {
            "_view_name": "StyleView",
            "_model_name": "ProgressStyleModel",
            "description_width": "initial",
            "_view_module": "@jupyter-widgets/base",
            "_model_module_version": "1.5.0",
            "_view_count": null,
            "_view_module_version": "1.2.0",
            "bar_color": null,
            "_model_module": "@jupyter-widgets/controls"
          }
        },
        "317546e00699462b95f8653d377c0bca": {
          "model_module": "@jupyter-widgets/base",
          "model_name": "LayoutModel",
          "state": {
            "_view_name": "LayoutView",
            "grid_template_rows": null,
            "right": null,
            "justify_content": null,
            "_view_module": "@jupyter-widgets/base",
            "overflow": null,
            "_model_module_version": "1.2.0",
            "_view_count": null,
            "flex_flow": null,
            "width": null,
            "min_width": null,
            "border": null,
            "align_items": null,
            "bottom": null,
            "_model_module": "@jupyter-widgets/base",
            "top": null,
            "grid_column": null,
            "overflow_y": null,
            "overflow_x": null,
            "grid_auto_flow": null,
            "grid_area": null,
            "grid_template_columns": null,
            "flex": null,
            "_model_name": "LayoutModel",
            "justify_items": null,
            "grid_row": null,
            "max_height": null,
            "align_content": null,
            "visibility": null,
            "align_self": null,
            "height": null,
            "min_height": null,
            "padding": null,
            "grid_auto_rows": null,
            "grid_gap": null,
            "max_width": null,
            "order": null,
            "_view_module_version": "1.2.0",
            "grid_template_areas": null,
            "object_position": null,
            "object_fit": null,
            "grid_auto_columns": null,
            "margin": null,
            "display": null,
            "left": null
          }
        },
        "548b482397bd47d586ddb935d0832dfa": {
          "model_module": "@jupyter-widgets/controls",
          "model_name": "DescriptionStyleModel",
          "state": {
            "_view_name": "StyleView",
            "_model_name": "DescriptionStyleModel",
            "description_width": "",
            "_view_module": "@jupyter-widgets/base",
            "_model_module_version": "1.5.0",
            "_view_count": null,
            "_view_module_version": "1.2.0",
            "_model_module": "@jupyter-widgets/controls"
          }
        },
        "61faa46adfb646188d30b13ebf2d4aab": {
          "model_module": "@jupyter-widgets/base",
          "model_name": "LayoutModel",
          "state": {
            "_view_name": "LayoutView",
            "grid_template_rows": null,
            "right": null,
            "justify_content": null,
            "_view_module": "@jupyter-widgets/base",
            "overflow": null,
            "_model_module_version": "1.2.0",
            "_view_count": null,
            "flex_flow": null,
            "width": null,
            "min_width": null,
            "border": null,
            "align_items": null,
            "bottom": null,
            "_model_module": "@jupyter-widgets/base",
            "top": null,
            "grid_column": null,
            "overflow_y": null,
            "overflow_x": null,
            "grid_auto_flow": null,
            "grid_area": null,
            "grid_template_columns": null,
            "flex": null,
            "_model_name": "LayoutModel",
            "justify_items": null,
            "grid_row": null,
            "max_height": null,
            "align_content": null,
            "visibility": null,
            "align_self": null,
            "height": null,
            "min_height": null,
            "padding": null,
            "grid_auto_rows": null,
            "grid_gap": null,
            "max_width": null,
            "order": null,
            "_view_module_version": "1.2.0",
            "grid_template_areas": null,
            "object_position": null,
            "object_fit": null,
            "grid_auto_columns": null,
            "margin": null,
            "display": null,
            "left": null
          }
        },
        "2eb2e3f2aa8f4fd5b88cc46c4b32888b": {
          "model_module": "@jupyter-widgets/controls",
          "model_name": "HBoxModel",
          "state": {
            "_view_name": "HBoxView",
            "_dom_classes": [],
            "_model_name": "HBoxModel",
            "_view_module": "@jupyter-widgets/controls",
            "_model_module_version": "1.5.0",
            "_view_count": null,
            "_view_module_version": "1.5.0",
            "box_style": "",
            "layout": "IPY_MODEL_994eaca364ed4915b525c745631efd08",
            "_model_module": "@jupyter-widgets/controls",
            "children": [
              "IPY_MODEL_3038cbcb329047008da7fac7ebabebf4",
              "IPY_MODEL_d98c27056a9a427fb4b43968b9496e3d"
            ]
          }
        },
        "994eaca364ed4915b525c745631efd08": {
          "model_module": "@jupyter-widgets/base",
          "model_name": "LayoutModel",
          "state": {
            "_view_name": "LayoutView",
            "grid_template_rows": null,
            "right": null,
            "justify_content": null,
            "_view_module": "@jupyter-widgets/base",
            "overflow": null,
            "_model_module_version": "1.2.0",
            "_view_count": null,
            "flex_flow": null,
            "width": null,
            "min_width": null,
            "border": null,
            "align_items": null,
            "bottom": null,
            "_model_module": "@jupyter-widgets/base",
            "top": null,
            "grid_column": null,
            "overflow_y": null,
            "overflow_x": null,
            "grid_auto_flow": null,
            "grid_area": null,
            "grid_template_columns": null,
            "flex": null,
            "_model_name": "LayoutModel",
            "justify_items": null,
            "grid_row": null,
            "max_height": null,
            "align_content": null,
            "visibility": null,
            "align_self": null,
            "height": null,
            "min_height": null,
            "padding": null,
            "grid_auto_rows": null,
            "grid_gap": null,
            "max_width": null,
            "order": null,
            "_view_module_version": "1.2.0",
            "grid_template_areas": null,
            "object_position": null,
            "object_fit": null,
            "grid_auto_columns": null,
            "margin": null,
            "display": null,
            "left": null
          }
        },
        "3038cbcb329047008da7fac7ebabebf4": {
          "model_module": "@jupyter-widgets/controls",
          "model_name": "FloatProgressModel",
          "state": {
            "_view_name": "ProgressView",
            "style": "IPY_MODEL_4c78eed35532415ab589bfa657aa49cf",
            "_dom_classes": [],
            "description": "Downloading: 100%",
            "_model_name": "FloatProgressModel",
            "bar_style": "success",
            "max": 433,
            "_view_module": "@jupyter-widgets/controls",
            "_model_module_version": "1.5.0",
            "value": 433,
            "_view_count": null,
            "_view_module_version": "1.5.0",
            "orientation": "horizontal",
            "min": 0,
            "description_tooltip": null,
            "_model_module": "@jupyter-widgets/controls",
            "layout": "IPY_MODEL_660d7a0a2d474489ba974a976ec50cba"
          }
        },
        "d98c27056a9a427fb4b43968b9496e3d": {
          "model_module": "@jupyter-widgets/controls",
          "model_name": "HTMLModel",
          "state": {
            "_view_name": "HTMLView",
            "style": "IPY_MODEL_10459c87bfef4161be72a29c650210cc",
            "_dom_classes": [],
            "description": "",
            "_model_name": "HTMLModel",
            "placeholder": "​",
            "_view_module": "@jupyter-widgets/controls",
            "_model_module_version": "1.5.0",
            "value": " 433/433 [00:00&lt;00:00, 2.86kB/s]",
            "_view_count": null,
            "_view_module_version": "1.5.0",
            "description_tooltip": null,
            "_model_module": "@jupyter-widgets/controls",
            "layout": "IPY_MODEL_f63aa31405a44036bbda625478bb3c5b"
          }
        },
        "4c78eed35532415ab589bfa657aa49cf": {
          "model_module": "@jupyter-widgets/controls",
          "model_name": "ProgressStyleModel",
          "state": {
            "_view_name": "StyleView",
            "_model_name": "ProgressStyleModel",
            "description_width": "initial",
            "_view_module": "@jupyter-widgets/base",
            "_model_module_version": "1.5.0",
            "_view_count": null,
            "_view_module_version": "1.2.0",
            "bar_color": null,
            "_model_module": "@jupyter-widgets/controls"
          }
        },
        "660d7a0a2d474489ba974a976ec50cba": {
          "model_module": "@jupyter-widgets/base",
          "model_name": "LayoutModel",
          "state": {
            "_view_name": "LayoutView",
            "grid_template_rows": null,
            "right": null,
            "justify_content": null,
            "_view_module": "@jupyter-widgets/base",
            "overflow": null,
            "_model_module_version": "1.2.0",
            "_view_count": null,
            "flex_flow": null,
            "width": null,
            "min_width": null,
            "border": null,
            "align_items": null,
            "bottom": null,
            "_model_module": "@jupyter-widgets/base",
            "top": null,
            "grid_column": null,
            "overflow_y": null,
            "overflow_x": null,
            "grid_auto_flow": null,
            "grid_area": null,
            "grid_template_columns": null,
            "flex": null,
            "_model_name": "LayoutModel",
            "justify_items": null,
            "grid_row": null,
            "max_height": null,
            "align_content": null,
            "visibility": null,
            "align_self": null,
            "height": null,
            "min_height": null,
            "padding": null,
            "grid_auto_rows": null,
            "grid_gap": null,
            "max_width": null,
            "order": null,
            "_view_module_version": "1.2.0",
            "grid_template_areas": null,
            "object_position": null,
            "object_fit": null,
            "grid_auto_columns": null,
            "margin": null,
            "display": null,
            "left": null
          }
        },
        "10459c87bfef4161be72a29c650210cc": {
          "model_module": "@jupyter-widgets/controls",
          "model_name": "DescriptionStyleModel",
          "state": {
            "_view_name": "StyleView",
            "_model_name": "DescriptionStyleModel",
            "description_width": "",
            "_view_module": "@jupyter-widgets/base",
            "_model_module_version": "1.5.0",
            "_view_count": null,
            "_view_module_version": "1.2.0",
            "_model_module": "@jupyter-widgets/controls"
          }
        },
        "f63aa31405a44036bbda625478bb3c5b": {
          "model_module": "@jupyter-widgets/base",
          "model_name": "LayoutModel",
          "state": {
            "_view_name": "LayoutView",
            "grid_template_rows": null,
            "right": null,
            "justify_content": null,
            "_view_module": "@jupyter-widgets/base",
            "overflow": null,
            "_model_module_version": "1.2.0",
            "_view_count": null,
            "flex_flow": null,
            "width": null,
            "min_width": null,
            "border": null,
            "align_items": null,
            "bottom": null,
            "_model_module": "@jupyter-widgets/base",
            "top": null,
            "grid_column": null,
            "overflow_y": null,
            "overflow_x": null,
            "grid_auto_flow": null,
            "grid_area": null,
            "grid_template_columns": null,
            "flex": null,
            "_model_name": "LayoutModel",
            "justify_items": null,
            "grid_row": null,
            "max_height": null,
            "align_content": null,
            "visibility": null,
            "align_self": null,
            "height": null,
            "min_height": null,
            "padding": null,
            "grid_auto_rows": null,
            "grid_gap": null,
            "max_width": null,
            "order": null,
            "_view_module_version": "1.2.0",
            "grid_template_areas": null,
            "object_position": null,
            "object_fit": null,
            "grid_auto_columns": null,
            "margin": null,
            "display": null,
            "left": null
          }
        },
        "aee43335125940fea96824a00e752167": {
          "model_module": "@jupyter-widgets/controls",
          "model_name": "HBoxModel",
          "state": {
            "_view_name": "HBoxView",
            "_dom_classes": [],
            "_model_name": "HBoxModel",
            "_view_module": "@jupyter-widgets/controls",
            "_model_module_version": "1.5.0",
            "_view_count": null,
            "_view_module_version": "1.5.0",
            "box_style": "",
            "layout": "IPY_MODEL_689972c7129745968009999aa3144053",
            "_model_module": "@jupyter-widgets/controls",
            "children": [
              "IPY_MODEL_706be044c0c245229f0311faf2274dff",
              "IPY_MODEL_687f836b5b88486ebc55afd30aac8cad"
            ]
          }
        },
        "689972c7129745968009999aa3144053": {
          "model_module": "@jupyter-widgets/base",
          "model_name": "LayoutModel",
          "state": {
            "_view_name": "LayoutView",
            "grid_template_rows": null,
            "right": null,
            "justify_content": null,
            "_view_module": "@jupyter-widgets/base",
            "overflow": null,
            "_model_module_version": "1.2.0",
            "_view_count": null,
            "flex_flow": null,
            "width": null,
            "min_width": null,
            "border": null,
            "align_items": null,
            "bottom": null,
            "_model_module": "@jupyter-widgets/base",
            "top": null,
            "grid_column": null,
            "overflow_y": null,
            "overflow_x": null,
            "grid_auto_flow": null,
            "grid_area": null,
            "grid_template_columns": null,
            "flex": null,
            "_model_name": "LayoutModel",
            "justify_items": null,
            "grid_row": null,
            "max_height": null,
            "align_content": null,
            "visibility": null,
            "align_self": null,
            "height": null,
            "min_height": null,
            "padding": null,
            "grid_auto_rows": null,
            "grid_gap": null,
            "max_width": null,
            "order": null,
            "_view_module_version": "1.2.0",
            "grid_template_areas": null,
            "object_position": null,
            "object_fit": null,
            "grid_auto_columns": null,
            "margin": null,
            "display": null,
            "left": null
          }
        },
        "706be044c0c245229f0311faf2274dff": {
          "model_module": "@jupyter-widgets/controls",
          "model_name": "FloatProgressModel",
          "state": {
            "_view_name": "ProgressView",
            "style": "IPY_MODEL_7a9193ef30c94081b6cb427e7eb5a135",
            "_dom_classes": [],
            "description": "Downloading: 100%",
            "_model_name": "FloatProgressModel",
            "bar_style": "success",
            "max": 445021143,
            "_view_module": "@jupyter-widgets/controls",
            "_model_module_version": "1.5.0",
            "value": 445021143,
            "_view_count": null,
            "_view_module_version": "1.5.0",
            "orientation": "horizontal",
            "min": 0,
            "description_tooltip": null,
            "_model_module": "@jupyter-widgets/controls",
            "layout": "IPY_MODEL_e1b1408a1525433a99f73e3732c7f1d5"
          }
        },
        "687f836b5b88486ebc55afd30aac8cad": {
          "model_module": "@jupyter-widgets/controls",
          "model_name": "HTMLModel",
          "state": {
            "_view_name": "HTMLView",
            "style": "IPY_MODEL_bcac8c6d9ecd4af9a480f5e8e1bf133b",
            "_dom_classes": [],
            "description": "",
            "_model_name": "HTMLModel",
            "placeholder": "​",
            "_view_module": "@jupyter-widgets/controls",
            "_model_module_version": "1.5.0",
            "value": " 445M/445M [00:06&lt;00:00, 73.5MB/s]",
            "_view_count": null,
            "_view_module_version": "1.5.0",
            "description_tooltip": null,
            "_model_module": "@jupyter-widgets/controls",
            "layout": "IPY_MODEL_3681f7054ca84f0caaec67938520b289"
          }
        },
        "7a9193ef30c94081b6cb427e7eb5a135": {
          "model_module": "@jupyter-widgets/controls",
          "model_name": "ProgressStyleModel",
          "state": {
            "_view_name": "StyleView",
            "_model_name": "ProgressStyleModel",
            "description_width": "initial",
            "_view_module": "@jupyter-widgets/base",
            "_model_module_version": "1.5.0",
            "_view_count": null,
            "_view_module_version": "1.2.0",
            "bar_color": null,
            "_model_module": "@jupyter-widgets/controls"
          }
        },
        "e1b1408a1525433a99f73e3732c7f1d5": {
          "model_module": "@jupyter-widgets/base",
          "model_name": "LayoutModel",
          "state": {
            "_view_name": "LayoutView",
            "grid_template_rows": null,
            "right": null,
            "justify_content": null,
            "_view_module": "@jupyter-widgets/base",
            "overflow": null,
            "_model_module_version": "1.2.0",
            "_view_count": null,
            "flex_flow": null,
            "width": null,
            "min_width": null,
            "border": null,
            "align_items": null,
            "bottom": null,
            "_model_module": "@jupyter-widgets/base",
            "top": null,
            "grid_column": null,
            "overflow_y": null,
            "overflow_x": null,
            "grid_auto_flow": null,
            "grid_area": null,
            "grid_template_columns": null,
            "flex": null,
            "_model_name": "LayoutModel",
            "justify_items": null,
            "grid_row": null,
            "max_height": null,
            "align_content": null,
            "visibility": null,
            "align_self": null,
            "height": null,
            "min_height": null,
            "padding": null,
            "grid_auto_rows": null,
            "grid_gap": null,
            "max_width": null,
            "order": null,
            "_view_module_version": "1.2.0",
            "grid_template_areas": null,
            "object_position": null,
            "object_fit": null,
            "grid_auto_columns": null,
            "margin": null,
            "display": null,
            "left": null
          }
        },
        "bcac8c6d9ecd4af9a480f5e8e1bf133b": {
          "model_module": "@jupyter-widgets/controls",
          "model_name": "DescriptionStyleModel",
          "state": {
            "_view_name": "StyleView",
            "_model_name": "DescriptionStyleModel",
            "description_width": "",
            "_view_module": "@jupyter-widgets/base",
            "_model_module_version": "1.5.0",
            "_view_count": null,
            "_view_module_version": "1.2.0",
            "_model_module": "@jupyter-widgets/controls"
          }
        },
        "3681f7054ca84f0caaec67938520b289": {
          "model_module": "@jupyter-widgets/base",
          "model_name": "LayoutModel",
          "state": {
            "_view_name": "LayoutView",
            "grid_template_rows": null,
            "right": null,
            "justify_content": null,
            "_view_module": "@jupyter-widgets/base",
            "overflow": null,
            "_model_module_version": "1.2.0",
            "_view_count": null,
            "flex_flow": null,
            "width": null,
            "min_width": null,
            "border": null,
            "align_items": null,
            "bottom": null,
            "_model_module": "@jupyter-widgets/base",
            "top": null,
            "grid_column": null,
            "overflow_y": null,
            "overflow_x": null,
            "grid_auto_flow": null,
            "grid_area": null,
            "grid_template_columns": null,
            "flex": null,
            "_model_name": "LayoutModel",
            "justify_items": null,
            "grid_row": null,
            "max_height": null,
            "align_content": null,
            "visibility": null,
            "align_self": null,
            "height": null,
            "min_height": null,
            "padding": null,
            "grid_auto_rows": null,
            "grid_gap": null,
            "max_width": null,
            "order": null,
            "_view_module_version": "1.2.0",
            "grid_template_areas": null,
            "object_position": null,
            "object_fit": null,
            "grid_auto_columns": null,
            "margin": null,
            "display": null,
            "left": null
          }
        }
      }
    }
  },
  "cells": [
    {
      "cell_type": "code",
      "metadata": {
        "id": "8-Tz_e2k-SQN"
      },
      "source": [
        "from google.colab import drive"
      ],
      "execution_count": null,
      "outputs": []
    },
    {
      "cell_type": "code",
      "metadata": {
        "id": "P6LL4PukCQIx",
        "outputId": "ef11b34e-9820-404b-b775-18fbd399b500",
        "colab": {
          "base_uri": "https://localhost:8080/"
        }
      },
      "source": [
        "drive.mount('/content/drive')"
      ],
      "execution_count": null,
      "outputs": [
        {
          "output_type": "stream",
          "text": [
            "Mounted at /content/drive\n"
          ],
          "name": "stdout"
        }
      ]
    },
    {
      "cell_type": "code",
      "metadata": {
        "id": "lbQOdy-RfnDk"
      },
      "source": [
        "import sys\n",
        "sys.path.append(f'/content/drive/My Drive/')\n",
        "import os\n",
        "os.chdir(f'/content/drive/My Drive/')"
      ],
      "execution_count": null,
      "outputs": []
    },
    {
      "cell_type": "code",
      "metadata": {
        "id": "I8lBgkRue4bm",
        "outputId": "efcdf38b-6441-4ff9-ac94-06a1e436f320",
        "colab": {
          "base_uri": "https://localhost:8080/"
        }
      },
      "source": [
        "!pip install -r requirements.txt"
      ],
      "execution_count": null,
      "outputs": [
        {
          "output_type": "stream",
          "text": [
            "Collecting fugashi==1.0.4\n",
            "\u001b[?25l  Downloading https://files.pythonhosted.org/packages/32/0c/d0bf73e1a90aeb3e696c7741a812d4b86adc31a8a9783cc92c535ae29016/fugashi-1.0.4-cp36-cp36m-manylinux1_x86_64.whl (476kB)\n",
            "\u001b[K     |████████████████████████████████| 481kB 11.8MB/s \n",
            "\u001b[?25hCollecting ipadic==1.0.0\n",
            "\u001b[?25l  Downloading https://files.pythonhosted.org/packages/e7/4e/c459f94d62a0bef89f866857bc51b9105aff236b83928618315b41a26b7b/ipadic-1.0.0.tar.gz (13.4MB)\n",
            "\u001b[K     |████████████████████████████████| 13.4MB 238kB/s \n",
            "\u001b[?25hCollecting japanize-matplotlib==1.1.2\n",
            "\u001b[?25l  Downloading https://files.pythonhosted.org/packages/2c/aa/3b24d54bd02e25d63c8f23bb316694e1aad7ffdc07ba296e7c9be2f6837d/japanize-matplotlib-1.1.2.tar.gz (4.1MB)\n",
            "\u001b[K     |████████████████████████████████| 4.1MB 51.8MB/s \n",
            "\u001b[?25hCollecting logzero==1.5.0\n",
            "  Downloading https://files.pythonhosted.org/packages/97/24/27295d318ea8976b12cf9cc51d82e7c7129220f6a3cc9e3443df3be8afdb/logzero-1.5.0-py2.py3-none-any.whl\n",
            "Collecting mojimoji==0.0.11\n",
            "\u001b[?25l  Downloading https://files.pythonhosted.org/packages/1d/0e/eb8297652315519ccc0ca3da9e06f0457d87e27f1000f696ca537914856f/mojimoji-0.0.11-cp36-cp36m-manylinux1_x86_64.whl (126kB)\n",
            "\u001b[K     |████████████████████████████████| 133kB 46.0MB/s \n",
            "\u001b[?25hCollecting sentence-transformers==0.3.7.2\n",
            "\u001b[?25l  Downloading https://files.pythonhosted.org/packages/ce/4b/0add07b1eebbbe83e77fb5ac4e72e87046c3fc2c9cb16f7d1cd8c6921a1d/sentence-transformers-0.3.7.2.tar.gz (59kB)\n",
            "\u001b[K     |████████████████████████████████| 61kB 9.8MB/s \n",
            "\u001b[?25hCollecting shap==0.36.0\n",
            "\u001b[?25l  Downloading https://files.pythonhosted.org/packages/d2/17/37ee6c79cafbd9bb7423b54e55ea90beec66aa7638664d607bcc28de0bae/shap-0.36.0.tar.gz (319kB)\n",
            "\u001b[K     |████████████████████████████████| 327kB 57.2MB/s \n",
            "\u001b[?25hCollecting slicer==0.0.4\n",
            "  Downloading https://files.pythonhosted.org/packages/46/cf/f37ac7f61214ed044b0df91252ab19376de5587926c5b572f060eb7bf257/slicer-0.0.4-py3-none-any.whl\n",
            "Collecting transformers==3.3.1\n",
            "\u001b[?25l  Downloading https://files.pythonhosted.org/packages/19/22/aff234f4a841f8999e68a7a94bdd4b60b4cebcfeca5d67d61cd08c9179de/transformers-3.3.1-py3-none-any.whl (1.1MB)\n",
            "\u001b[K     |████████████████████████████████| 1.1MB 41.6MB/s \n",
            "\u001b[?25hRequirement already satisfied: matplotlib in /usr/local/lib/python3.6/dist-packages (from japanize-matplotlib==1.1.2->-r requirements.txt (line 3)) (3.2.2)\n",
            "Requirement already satisfied: tqdm in /usr/local/lib/python3.6/dist-packages (from sentence-transformers==0.3.7.2->-r requirements.txt (line 6)) (4.41.1)\n",
            "Requirement already satisfied: torch>=1.2.0 in /usr/local/lib/python3.6/dist-packages (from sentence-transformers==0.3.7.2->-r requirements.txt (line 6)) (1.6.0+cu101)\n",
            "Requirement already satisfied: numpy in /usr/local/lib/python3.6/dist-packages (from sentence-transformers==0.3.7.2->-r requirements.txt (line 6)) (1.18.5)\n",
            "Requirement already satisfied: scikit-learn in /usr/local/lib/python3.6/dist-packages (from sentence-transformers==0.3.7.2->-r requirements.txt (line 6)) (0.22.2.post1)\n",
            "Requirement already satisfied: scipy in /usr/local/lib/python3.6/dist-packages (from sentence-transformers==0.3.7.2->-r requirements.txt (line 6)) (1.4.1)\n",
            "Requirement already satisfied: nltk in /usr/local/lib/python3.6/dist-packages (from sentence-transformers==0.3.7.2->-r requirements.txt (line 6)) (3.2.5)\n",
            "Requirement already satisfied: pandas in /usr/local/lib/python3.6/dist-packages (from shap==0.36.0->-r requirements.txt (line 7)) (1.1.3)\n",
            "Requirement already satisfied: numba in /usr/local/lib/python3.6/dist-packages (from shap==0.36.0->-r requirements.txt (line 7)) (0.48.0)\n",
            "Collecting tokenizers==0.8.1.rc2\n",
            "\u001b[?25l  Downloading https://files.pythonhosted.org/packages/80/83/8b9fccb9e48eeb575ee19179e2bdde0ee9a1904f97de5f02d19016b8804f/tokenizers-0.8.1rc2-cp36-cp36m-manylinux1_x86_64.whl (3.0MB)\n",
            "\u001b[K     |████████████████████████████████| 3.0MB 48.2MB/s \n",
            "\u001b[?25hRequirement already satisfied: filelock in /usr/local/lib/python3.6/dist-packages (from transformers==3.3.1->-r requirements.txt (line 9)) (3.0.12)\n",
            "Requirement already satisfied: requests in /usr/local/lib/python3.6/dist-packages (from transformers==3.3.1->-r requirements.txt (line 9)) (2.23.0)\n",
            "Requirement already satisfied: dataclasses; python_version < \"3.7\" in /usr/local/lib/python3.6/dist-packages (from transformers==3.3.1->-r requirements.txt (line 9)) (0.7)\n",
            "Collecting sacremoses\n",
            "\u001b[?25l  Downloading https://files.pythonhosted.org/packages/7d/34/09d19aff26edcc8eb2a01bed8e98f13a1537005d31e95233fd48216eed10/sacremoses-0.0.43.tar.gz (883kB)\n",
            "\u001b[K     |████████████████████████████████| 890kB 49.5MB/s \n",
            "\u001b[?25hRequirement already satisfied: packaging in /usr/local/lib/python3.6/dist-packages (from transformers==3.3.1->-r requirements.txt (line 9)) (20.4)\n",
            "Collecting sentencepiece!=0.1.92\n",
            "\u001b[?25l  Downloading https://files.pythonhosted.org/packages/e5/2d/6d4ca4bef9a67070fa1cac508606328329152b1df10bdf31fb6e4e727894/sentencepiece-0.1.94-cp36-cp36m-manylinux2014_x86_64.whl (1.1MB)\n",
            "\u001b[K     |████████████████████████████████| 1.1MB 46.8MB/s \n",
            "\u001b[?25hRequirement already satisfied: regex!=2019.12.17 in /usr/local/lib/python3.6/dist-packages (from transformers==3.3.1->-r requirements.txt (line 9)) (2019.12.20)\n",
            "Requirement already satisfied: pyparsing!=2.0.4,!=2.1.2,!=2.1.6,>=2.0.1 in /usr/local/lib/python3.6/dist-packages (from matplotlib->japanize-matplotlib==1.1.2->-r requirements.txt (line 3)) (2.4.7)\n",
            "Requirement already satisfied: cycler>=0.10 in /usr/local/lib/python3.6/dist-packages (from matplotlib->japanize-matplotlib==1.1.2->-r requirements.txt (line 3)) (0.10.0)\n",
            "Requirement already satisfied: kiwisolver>=1.0.1 in /usr/local/lib/python3.6/dist-packages (from matplotlib->japanize-matplotlib==1.1.2->-r requirements.txt (line 3)) (1.2.0)\n",
            "Requirement already satisfied: python-dateutil>=2.1 in /usr/local/lib/python3.6/dist-packages (from matplotlib->japanize-matplotlib==1.1.2->-r requirements.txt (line 3)) (2.8.1)\n",
            "Requirement already satisfied: future in /usr/local/lib/python3.6/dist-packages (from torch>=1.2.0->sentence-transformers==0.3.7.2->-r requirements.txt (line 6)) (0.16.0)\n",
            "Requirement already satisfied: joblib>=0.11 in /usr/local/lib/python3.6/dist-packages (from scikit-learn->sentence-transformers==0.3.7.2->-r requirements.txt (line 6)) (0.17.0)\n",
            "Requirement already satisfied: six in /usr/local/lib/python3.6/dist-packages (from nltk->sentence-transformers==0.3.7.2->-r requirements.txt (line 6)) (1.15.0)\n",
            "Requirement already satisfied: pytz>=2017.2 in /usr/local/lib/python3.6/dist-packages (from pandas->shap==0.36.0->-r requirements.txt (line 7)) (2018.9)\n",
            "Requirement already satisfied: llvmlite<0.32.0,>=0.31.0dev0 in /usr/local/lib/python3.6/dist-packages (from numba->shap==0.36.0->-r requirements.txt (line 7)) (0.31.0)\n",
            "Requirement already satisfied: setuptools in /usr/local/lib/python3.6/dist-packages (from numba->shap==0.36.0->-r requirements.txt (line 7)) (50.3.2)\n",
            "Requirement already satisfied: idna<3,>=2.5 in /usr/local/lib/python3.6/dist-packages (from requests->transformers==3.3.1->-r requirements.txt (line 9)) (2.10)\n",
            "Requirement already satisfied: chardet<4,>=3.0.2 in /usr/local/lib/python3.6/dist-packages (from requests->transformers==3.3.1->-r requirements.txt (line 9)) (3.0.4)\n",
            "Requirement already satisfied: urllib3!=1.25.0,!=1.25.1,<1.26,>=1.21.1 in /usr/local/lib/python3.6/dist-packages (from requests->transformers==3.3.1->-r requirements.txt (line 9)) (1.24.3)\n",
            "Requirement already satisfied: certifi>=2017.4.17 in /usr/local/lib/python3.6/dist-packages (from requests->transformers==3.3.1->-r requirements.txt (line 9)) (2020.6.20)\n",
            "Requirement already satisfied: click in /usr/local/lib/python3.6/dist-packages (from sacremoses->transformers==3.3.1->-r requirements.txt (line 9)) (7.1.2)\n",
            "Building wheels for collected packages: ipadic, japanize-matplotlib, sentence-transformers, shap, sacremoses\n",
            "  Building wheel for ipadic (setup.py) ... \u001b[?25l\u001b[?25hdone\n",
            "  Created wheel for ipadic: filename=ipadic-1.0.0-cp36-none-any.whl size=13556725 sha256=6a898ae589649b5f82f05e1662a183855508d4e402dc61c97c0ec2ec8860b5f2\n",
            "  Stored in directory: /root/.cache/pip/wheels/ff/00/d1/0c094a0ce58a77199a0c5801f0ecf510c80f0ecbec27f07d2c\n",
            "  Building wheel for japanize-matplotlib (setup.py) ... \u001b[?25l\u001b[?25hdone\n",
            "  Created wheel for japanize-matplotlib: filename=japanize_matplotlib-1.1.2-cp36-none-any.whl size=4120193 sha256=d85e9a7a1f50d467464c9f8f9be40a4215bdb7f1e6f28d9fabe857a326329f07\n",
            "  Stored in directory: /root/.cache/pip/wheels/9c/f9/fc/bc052ce743a03f94ccc7fda73d1d389ce98216c6ffaaf65afc\n",
            "  Building wheel for sentence-transformers (setup.py) ... \u001b[?25l\u001b[?25hdone\n",
            "  Created wheel for sentence-transformers: filename=sentence_transformers-0.3.7.2-cp36-none-any.whl size=91190 sha256=5ac6bda50c94146cf17cd210b64c9853ba191bf2a892de25357d1b73a5a9c4ef\n",
            "  Stored in directory: /root/.cache/pip/wheels/4b/8f/23/7f93e91176acc7c2d651b54fa9f01e3624a47904145c4d133e\n",
            "  Building wheel for shap (setup.py) ... \u001b[?25l\u001b[?25hdone\n",
            "  Created wheel for shap: filename=shap-0.36.0-cp36-cp36m-linux_x86_64.whl size=456467 sha256=93b1c68f450945f9caa4a2d296f00af9e85836a8ec60b6894c2ff989b2a87253\n",
            "  Stored in directory: /root/.cache/pip/wheels/fb/15/e1/8f61106790da27e0765aaa6e664550ca2c50ea339099e799f4\n",
            "  Building wheel for sacremoses (setup.py) ... \u001b[?25l\u001b[?25hdone\n",
            "  Created wheel for sacremoses: filename=sacremoses-0.0.43-cp36-none-any.whl size=893257 sha256=e5fe37904bc45d2e9eb4849ea5a41e379410ef2f0c2baacc7573ab4ffd850aaf\n",
            "  Stored in directory: /root/.cache/pip/wheels/29/3c/fd/7ce5c3f0666dab31a50123635e6fb5e19ceb42ce38d4e58f45\n",
            "Successfully built ipadic japanize-matplotlib sentence-transformers shap sacremoses\n",
            "Installing collected packages: fugashi, ipadic, japanize-matplotlib, logzero, mojimoji, tokenizers, sacremoses, sentencepiece, transformers, sentence-transformers, slicer, shap\n",
            "Successfully installed fugashi-1.0.4 ipadic-1.0.0 japanize-matplotlib-1.1.2 logzero-1.5.0 mojimoji-0.0.11 sacremoses-0.0.43 sentence-transformers-0.3.7.2 sentencepiece-0.1.94 shap-0.36.0 slicer-0.0.4 tokenizers-0.8.1rc2 transformers-3.3.1\n"
          ],
          "name": "stdout"
        }
      ]
    },
    {
      "cell_type": "code",
      "metadata": {
        "id": "JIbixM-XDMOI"
      },
      "source": [
        "from transformers import BertJapaneseTokenizer, BertForSequenceClassification\n",
        "from torchtext.data import Field, Dataset, Example\n",
        "from sklearn.metrics import f1_score, classification_report, accuracy_score\n",
        "from sklearn.metrics import confusion_matrix, ConfusionMatrixDisplay\n",
        "from sklearn.model_selection import StratifiedKFold, train_test_split\n",
        "from IPython.display import display, HTML\n",
        "from logzero import logger\n",
        "from pathlib import Path\n",
        "from tqdm import tqdm\n",
        "import pandas as pd\n",
        "import numpy as np\n",
        "import matplotlib.pyplot as plt\n",
        "import torch\n",
        "import torch.nn as nn\n",
        "import torch.nn.functional as F\n",
        "import torch.optim as optim\n",
        "import torchtext\n",
        "import mojimoji\n",
        "import collections\n",
        "import time\n",
        "import random\n",
        "import re"
      ],
      "execution_count": null,
      "outputs": []
    },
    {
      "cell_type": "code",
      "metadata": {
        "id": "VpO1nTRiTjmC"
      },
      "source": [
        "class EarlyStopping:\n",
        "    \"\"\"\n",
        "    Early stops the training if validation loss doesn't improve after a given patience.\n",
        "    based on: https://github.com/Bjarten/early-stopping-pytorch\n",
        "    \"\"\"\n",
        "    def __init__(self, patience=7, verbose=False, delta=0):\n",
        "        \"\"\"\n",
        "        Args:\n",
        "            patience (int): How long to wait after last time validation loss improved.\n",
        "                            Default: 7\n",
        "            verbose (bool): If True, prints a message for each validation loss improvement. \n",
        "                            Default: False\n",
        "            delta (float): Minimum change in the monitored quantity to qualify as an improvement.\n",
        "                            Default: 0\n",
        "        \"\"\"\n",
        "        self.patience = patience\n",
        "        self.verbose = verbose\n",
        "        self.counter = 0\n",
        "        self.best_score = None\n",
        "        self.early_stop = False\n",
        "        self.val_loss_min = np.Inf\n",
        "        self.delta = delta\n",
        "\n",
        "    def __call__(self, val_loss, model):\n",
        "\n",
        "        score = -val_loss\n",
        "\n",
        "        if self.best_score is None:\n",
        "            self.best_score = score\n",
        "            self.save_checkpoint(val_loss, model)\n",
        "        elif score < self.best_score + self.delta:\n",
        "            self.counter += 1\n",
        "            logger.info(f'EarlyStopping counter: {self.counter} out of {self.patience}')\n",
        "            if self.counter >= self.patience:\n",
        "                self.early_stop = True\n",
        "        else:\n",
        "            self.best_score = score\n",
        "            self.save_checkpoint(val_loss, model)\n",
        "            self.counter = 0\n",
        "\n",
        "    def save_checkpoint(self, val_loss, model):\n",
        "        '''Saves model when validation loss decrease.'''\n",
        "        if self.verbose:\n",
        "            logger.info(f'Validation loss decreased ({self.val_loss_min:.6f} --> {val_loss:.6f}).  Saving model ...')\n",
        "        torch.save(model.state_dict(), 'checkpoint.pt')\n",
        "        self.val_loss_min = val_loss"
      ],
      "execution_count": null,
      "outputs": []
    },
    {
      "cell_type": "code",
      "metadata": {
        "id": "eoIwyC5kTmOU"
      },
      "source": [
        "class DataFrameDataset(Dataset):\n",
        "    \"\"\"\n",
        "    pandas DataFrameからtorchtextのdatasetつくる\n",
        "    https://stackoverflow.com/questions/52602071/dataframe-as-datasource-in-torchtext\n",
        "    \"\"\"\n",
        "    def __init__(self, examples, fields, filter_pred=None):\n",
        "        \"\"\"\n",
        "         Create a dataset from a pandas dataframe of examples and Fields\n",
        "         Arguments:\n",
        "             examples pd.DataFrame: DataFrame of examples\n",
        "             fields {str: Field}: The Fields to use in this tuple. The\n",
        "                 string is a field name, and the Field is the associated field.\n",
        "             filter_pred (callable or None): use only exanples for which\n",
        "                 filter_pred(example) is true, or use all examples if None.\n",
        "                 Default is None\n",
        "        \"\"\"\n",
        "        self.examples = examples.apply(SeriesExample.fromSeries, args=(fields,), axis=1).tolist()\n",
        "        if filter_pred is not None:\n",
        "            self.examples = filter(filter_pred, self.examples)\n",
        "        self.fields = dict(fields)\n",
        "        # Unpack field tuples\n",
        "        for n, f in list(self.fields.items()):\n",
        "            if isinstance(n, tuple):\n",
        "                self.fields.update(zip(n, f))\n",
        "                del self.fields[n]"
      ],
      "execution_count": null,
      "outputs": []
    },
    {
      "cell_type": "code",
      "metadata": {
        "id": "ljbEk2fPTugC"
      },
      "source": [
        "class SeriesExample(Example):\n",
        "    \"\"\"Class to convert a pandas Series to an Example\"\"\"\n",
        "    @classmethod\n",
        "    def fromSeries(cls, data, fields):\n",
        "        return cls.fromdict(data.to_dict(), fields)\n",
        "\n",
        "    @classmethod\n",
        "    def fromdict(cls, data, fields):\n",
        "        ex = cls()\n",
        "\n",
        "        for key, field in fields.items():\n",
        "            if key not in data:\n",
        "                raise ValueError(\"Specified key {} was not found in \"\n",
        "                \"the input data\".format(key))\n",
        "            if field is not None:\n",
        "                setattr(ex, key, field.preprocess(data[key]))\n",
        "            else:\n",
        "                setattr(ex, key, data[key])\n",
        "        return ex"
      ],
      "execution_count": null,
      "outputs": []
    },
    {
      "cell_type": "code",
      "metadata": {
        "id": "ENF3WS56UCr6"
      },
      "source": [
        "class BertClassifier:\n",
        "    def __init__(self, net_dir=None, tokenizer_dir=None, max_length=512, batch_size=32, num_labels=2, num_epochs=100, random_seed=None):\n",
        "        self.max_length = max_length\n",
        "        self.batch_size = batch_size\n",
        "        self.num_labels = num_labels\n",
        "        self.num_epochs = num_epochs\n",
        "        \n",
        "        if random_seed is not None:\n",
        "            self.seed_everything(random_seed)\n",
        "            \n",
        "        if tokenizer_dir is None:\n",
        "          self.tokenizer = BertJapaneseTokenizer.from_pretrained(\"cl-tohoku/bert-base-japanese-whole-word-masking\")\n",
        "          # self.tokenizer.save_pretrained('tokenizer_dir') 形態素解析の結果を保存\n",
        "        if net_dir is None:\n",
        "          self.net = BertForSequenceClassification.from_pretrained(\"cl-tohoku/bert-base-japanese-whole-word-masking\", num_labels=num_labels)\n",
        "          # self.net.save_pretrained('model_dir') モデルを保存\n",
        "        else:\n",
        "            self.net = BertForSequenceClassification.from_pretrained(net_dir)\n",
        "        self.TEXT = torchtext.data.Field(\n",
        "            sequential=True,\n",
        "            tokenize=self.tokenizer_with_preprocessing,\n",
        "            use_vocab=True,\n",
        "            lower=False,\n",
        "            include_lengths=True,\n",
        "            batch_first=True,\n",
        "            fix_length=max_length,\n",
        "            init_token='[CLS]',\n",
        "            eos_token='[SEP]',\n",
        "            pad_token='[PAD]',\n",
        "            unk_token='[UNK]'\n",
        "        )\n",
        "        self.LABEL = torchtext.data.Field(sequential=False, use_vocab=False)\n",
        "    \n",
        "    def seed_everything(self, seed):\n",
        "        random.seed(seed)\n",
        "        os.environ['PYTHONHASHSEED'] = str(seed)\n",
        "        np.random.seed(seed)\n",
        "        torch.manual_seed(seed)\n",
        "        torch.cuda.manual_seed(seed)\n",
        "        torch.backends.cudnn.deterministic = True\n",
        "        torch.backends.cudnn.benchmark = False\n",
        "        logger.info('Set random seeds')\n",
        "\n",
        "    def tokenizer_with_preprocessing(self, text):\n",
        "        # 半角、全角の変換\n",
        "        text = mojimoji.han_to_zen(text)\n",
        "        # 改行、半角スペース、全角スペースを削除\n",
        "        text = re.sub('\\r', '', text)\n",
        "        text = re.sub('\\n', '', text)\n",
        "        text = re.sub('　', '', text)\n",
        "        text = re.sub(' ', '', text)\n",
        "        # 数字文字の一律「0」化\n",
        "        text = re.sub(r'[0-9 ０-９]', '0', text)  # 数字\n",
        "        ret = self.tokenizer.tokenize(text)\n",
        "        return ret\n",
        "\n",
        "    def _build_vocab(self, ds, min_freq=1):\n",
        "        self.TEXT.build_vocab(ds, min_freq=min_freq)\n",
        "        self.TEXT.vocab.stoi = self.tokenizer.vocab\n",
        "        \n",
        "    def fit(self, train_df, test_df, early_stopping_rounds=10, fine_tuning_type='fast'):\n",
        "        print(\"-------------------------Training Phase----------------------------\\n\")\n",
        "        print('Creating Datasets from pandas dataframes')\n",
        "        train_ds = DataFrameDataset(train_df, fields={'Text': self.TEXT, 'Label': self.LABEL})\n",
        "        test_ds = DataFrameDataset(test_df, fields={'Text': self.TEXT, 'Label': self.LABEL})\n",
        "        logger.info('Creating datasets from  pandas dataframes has finished ')\n",
        "        if not hasattr(self.TEXT, 'vocab'):\n",
        "            self._build_vocab(train_ds, min_freq=1)\n",
        "        \n",
        "        print('Creating dataLoaders')\n",
        "        train_dl = torchtext.data.Iterator(train_ds, batch_size=self.batch_size, train=True)\n",
        "        test_dl = torchtext.data.Iterator(test_ds, batch_size=self.batch_size, train=False, sort=False)\n",
        "        logger.info('Creating dataLoaders has finished ')\n",
        "\n",
        "        dataloaders_dict = {\n",
        "            'train': train_dl,\n",
        "            'test': test_dl\n",
        "        }\n",
        "        if fine_tuning_type == 'fast':\n",
        "            # 1. まず全部を、勾配計算Falseにしてしまう\n",
        "            for name, param in self.net.named_parameters():\n",
        "                param.requires_grad = False\n",
        "            # 2. 最後のBertLayerモジュールを勾配計算ありに変更\n",
        "            for name, param in self.net.bert.encoder.layer[-1].named_parameters():\n",
        "                param.requires_grad = True\n",
        "            # 3. 識別器を勾配計算ありに変更\n",
        "            for name, param in self.net.classifier.named_parameters():\n",
        "                param.requires_grad = True\n",
        "        elif fine_tuning_type == 'full':\n",
        "            for name, param in self.net.named_parameters():\n",
        "                param.requires_grad = True\n",
        "        else:\n",
        "            logger.error('please input fine_tuning_type \"fast\" or \"full\"')\n",
        "            raise ValueError\n",
        "\n",
        "        # 最適化手法の設定\n",
        "        # BERTの元の部分はファインチューニング\n",
        "        optimizer = optim.Adam([\n",
        "            {'params': self.net.bert.encoder.layer[-1].parameters(), 'lr': 5e-5},\n",
        "            {'params': self.net.classifier.parameters(), 'lr': 5e-5}\n",
        "        ], betas=(0.9, 0.999))\n",
        "\n",
        "        # 損失関数の設定\n",
        "        criterion = nn.CrossEntropyLoss()\n",
        "\n",
        "        # 学習・検証を実行。\n",
        "        self.net = self._train_model(\n",
        "            self.net, dataloaders_dict, criterion, optimizer, num_epochs=self.num_epochs,\n",
        "            patience=early_stopping_rounds)\n",
        "\n",
        "        return self\n",
        "\n",
        "    @staticmethod\n",
        "    def _train_model(net, dataloaders_dict, criterion, optimizer, num_epochs, patience):\n",
        "\n",
        "        # GPUが使えるかを確認\n",
        "        device = torch.device(\"cuda\" if torch.cuda.is_available() else \"cpu\") \n",
        "        logger.info(f\"使用デバイス：{device}\")\n",
        "        logger.info('-----start-------')\n",
        "\n",
        "        # ネットワークをGPUへ送る\n",
        "        net.to(device)\n",
        "\n",
        "        # ネットワークがある程度固定であれば、高速化させる\n",
        "        torch.backends.cudnn.benchmark = True\n",
        "\n",
        "        # ミニバッチのサイズ\n",
        "        batch_size = dataloaders_dict[\"train\"].batch_size\n",
        "\n",
        "        # early stopping\n",
        "        # initialize the early_stopping object\n",
        "        early_stopping = EarlyStopping(patience=patience, verbose=True)\n",
        "\n",
        "        # epochのループ\n",
        "        for epoch in range(num_epochs):\n",
        "            # epochごとの訓練と検証のループ\n",
        "            for phase in ['train', 'test']:\n",
        "                if phase == 'train':\n",
        "                    net.train()  # モデルを訓練モードに\n",
        "                else:\n",
        "                    net.eval()   # モデルを検証モードに\n",
        "\n",
        "                epoch_loss = 0.0  # epochの損失和\n",
        "                epoch_corrects = 0  # epochの正解数\n",
        "                iteration = 1\n",
        "\n",
        "                # 開始時刻を保存\n",
        "                t_epoch_start = time.time()\n",
        "                t_iter_start = time.time()\n",
        "                predictions = []\n",
        "                ground_truths = []\n",
        "\n",
        "                # データローダーからミニバッチを取り出すループ\n",
        "                for batch in (dataloaders_dict[phase]):\n",
        "                    # batchはTextとLableの辞書型変数\n",
        "\n",
        "                    # GPUが使えるならGPUにデータを送る\n",
        "                    inputs = batch.Text[0].to(device)  # 文章\n",
        "                    labels = batch.Label.to(device)  # ラベル\n",
        "\n",
        "                    # optimizerを初期化\n",
        "                    optimizer.zero_grad()\n",
        "\n",
        "                    # 順伝搬（forward）計算\n",
        "                    with torch.set_grad_enabled(phase == 'train'):\n",
        "\n",
        "                        loss, logit = net(input_ids=inputs, labels=labels)                    \n",
        "                        _, preds = torch.max(logit, axis=1)  # ラベルを予測\n",
        "                        predictions.append(preds.cpu().numpy())\n",
        "                        ground_truths.append(labels.data.cpu().numpy())\n",
        "\n",
        "                        # 訓練時はバックプロパゲーション\n",
        "                        if phase == 'train':\n",
        "                            loss.backward()\n",
        "                            optimizer.step()\n",
        "\n",
        "                            if (iteration % 10 == 0):  # 10回の学習を行う終えるたびににlossを表示\n",
        "                                t_iter_finish = time.time()\n",
        "                                duration = t_iter_finish - t_iter_start\n",
        "                                acc = (torch.sum(preds == labels.data))\n",
        "                                t_iter_start = time.time()\n",
        "\n",
        "                        iteration += 1\n",
        "\n",
        "                        # 損失と正解数の合計を更新\n",
        "                        epoch_loss += loss.item() * batch_size\n",
        "                        epoch_corrects += torch.sum(preds == labels.data)\n",
        "\n",
        "                # epochごとのlossと正解率\n",
        "                t_epoch_finish = time.time()\n",
        "                epoch_loss = epoch_loss / len(dataloaders_dict[phase].dataset)\n",
        "                epoch_acc = epoch_corrects.double() / len(dataloaders_dict[phase].dataset)\n",
        "                if net.num_labels > 2:\n",
        "                    calc_f1_average = 'macro'\n",
        "                else:\n",
        "                    calc_f1_average = 'binary'\n",
        "                epoch_f1_score = f1_score(np.concatenate(np.array(ground_truths)), np.concatenate(np.array(predictions)), average=calc_f1_average)\n",
        "                logger.info('Epoch {}/{} | {:^5} |  Loss: {:.4f} Acc: {:.4f} F1-Score: {:4f}'.format(epoch+1, num_epochs,\n",
        "                                                                            phase, epoch_loss, epoch_acc, epoch_f1_score))\n",
        "    \n",
        "                if phase == 'val':\n",
        "                    early_stopping(epoch_loss, net)\n",
        "        \n",
        "                if early_stopping.early_stop:\n",
        "                    logger.info(\"Early stopping\")\n",
        "                    # load the last checkpoint with the best model\n",
        "                    net.load_state_dict(torch.load('checkpoint.pt'))\n",
        "                    return net\n",
        "        \n",
        "                t_epoch_start = time.time()\n",
        "        \n",
        "        torch.cuda.empty_cache()\n",
        "        return net\n",
        "    \n",
        "    def predict(self, test_df):\n",
        "        print(\"-------------------------Prediction Phase----------------------------\\n\")\n",
        "        print('Creating dataaet and dataloader from pandas dataframe')\n",
        "        test_ds = DataFrameDataset(test_df, fields={'Text': self.TEXT})\n",
        "        if not hasattr(self.TEXT, 'vocab'):\n",
        "            self._build_vocab(test_ds, min_freq=1)\n",
        "        test_dl = torchtext.data.Iterator(test_ds, batch_size=self.batch_size, train=False, sort=False)\n",
        "        logger.info('Dataset and DataLoader from pandas dataframe has finished')\n",
        "        device = torch.device(\"cuda\" if torch.cuda.is_available() else \"cpu\")\n",
        "        logger.info(f\"使用デバイス：{device}\")\n",
        "        logger.info('-----Start Prediction -------')\n",
        "        self.net.eval()\n",
        "        self.net.to(device)\n",
        "\n",
        "        logits = []\n",
        "        for batch in tqdm(test_dl):\n",
        "            inputs = batch.Text[0].to(device)\n",
        "            with torch.set_grad_enabled(False):\n",
        "                logit = self.net(input_ids=inputs)\n",
        "                logit = F.softmax(logit[0], dim=1).cpu().numpy()\n",
        "                logits.append(logit)\n",
        "\n",
        "        y_pred = []\n",
        "        for i in range(len(logits)):\n",
        "            for each_pred_label in logits[i]:\n",
        "                y_pred.append(np.argmax(each_pred_label))\n",
        "\n",
        "        logger.info('------Finished Prediction------')\n",
        "        return np.array(y_pred)\n",
        "        \n",
        "    def predict_proba(self, test_df):\n",
        "        test_ds = DataFrameDataset(test_df, fields={'Text': self.TEXT})\n",
        "        if not hasattr(self.TEXT, 'vocab'):\n",
        "          self._build_vocab(test_ds, min_freq=1)\n",
        "        test_dl = torchtext.data.Iterator(test_ds, batch_size=self.batch_size, train=False, sort=False)\n",
        "        device = torch.device(\"cuda\" if torch.cuda.is_available() else \"cpu\")\n",
        "        logger.info(f\"使用デバイス：{device}\")\n",
        "        logger.info('-----start-------')\n",
        "        self.net.eval()\n",
        "        self.net.to(device)\n",
        "        \n",
        "        logits = []\n",
        "        for batch in tqdm(test_dl):\n",
        "            inputs = batch.Text[0].to(device)\n",
        "            with torch.set_grad_enabled(False):\n",
        "              logit = self.net(input_ids=inputs)\n",
        "              logit = F.softmax(logit[0], dim=1).cpu().numpy()\n",
        "              logits.append(logit)\n",
        "        \n",
        "        pred_proba = []\n",
        "        for i in range(len(logits)):\n",
        "            for each_pred_proba in logits[i]:\n",
        "                pred_proba.append(each_pred_proba)\n",
        "\n",
        "        logger.info('-----finished-------')\n",
        "        return np.array(pred_proba)\n",
        "\n",
        "      \n",
        "    def highlight_important_word(self, word, attention):\n",
        "        html_color = '#%02X%02X%02X' % (255, int(255*(1 - attention)), int(255*(1 - attention)))\n",
        "        return '<span style=\"background-color: {}\">{}</span>'.format(html_color, word)\n",
        "\n",
        "\n",
        "    def make_attention_html(self, index, batch, preds, attention_weight, categories, device):\n",
        "        sentence = batch.Text[0][index]\n",
        "        label = batch.Label[index].item()\n",
        "        pred =  preds[index].item()\n",
        "\n",
        "        # ニュースのIDとラベルの対応関係を辞書により生成\n",
        "        id2label = dict(zip(list(range(len(categories))), categories))\n",
        "\n",
        "        label_str = id2label[label]\n",
        "        pred_str = id2label[pred]\n",
        "\n",
        "        html = \"正解: {}<br>予測: {}<br>\".format(label_str, pred_str)\n",
        "\n",
        "        # 文章の長さ分のzero tensorを宣言\n",
        "        seq_len = attention_weight.size()[2]\n",
        "        all_attentions = torch.zeros(seq_len).to(device)\n",
        "\n",
        "        for i in range(12):\n",
        "            all_attentions += attention_weight[index, i, 0, :]\n",
        "\n",
        "        for word, attention in zip(sentence, all_attentions):\n",
        "            if self.tokenizer.convert_ids_to_tokens([word.tolist()])[0] == \"[SEP]\":\n",
        "                break\n",
        "            html += self.highlight_important_word(self.tokenizer.convert_ids_to_tokens([word.numpy().tolist()])[0], attention)\n",
        "            \n",
        "        html += \"<br><br>\"\n",
        "        return html \n",
        "\n",
        "\n",
        "    def visualize_attention(self, test_df, categories):\n",
        "        print(\"-------------------------Explanation Phase----------------------------\\n\")\n",
        "        print('Creating dataset and dataloader from pandas dataframe')\n",
        "        test_ds = DataFrameDataset(test_df, fields={'Text': self.TEXT, 'Label': self.LABEL})\n",
        "        if not hasattr(self.TEXT, 'vocab'):\n",
        "            self._build_vocab(test_ds, min_freq=1)\n",
        "        test_dl = torchtext.data.Iterator(test_ds, batch_size=self.batch_size, train=False, sort=False)\n",
        "        logger.info('Dataset and DataLoader from pandas dataframe has finished')\n",
        "        \n",
        "        batch_for_visualization = next(iter(test_dl))\n",
        "\n",
        "        # GPUが使えるかを確認\n",
        "        device = torch.device(\"cuda\" if torch.cuda.is_available() else \"cpu\")\n",
        "        logger.info(f\"使用デバイス：{device}\")\n",
        "        logger.info('-----Start Explanation-------')\n",
        "        self.net.eval()\n",
        "        self.net.to(device)\n",
        "\n",
        "        preds = []\n",
        "        attentions = []\n",
        "        for batch_for_pred_attention in tqdm(test_dl):\n",
        "            inputs = batch_for_pred_attention.Text[0].to(device)\n",
        "            with torch.set_grad_enabled(False):\n",
        "                logit, attention = self.net(input_ids=inputs, output_attentions=True)\n",
        "                _, pred = torch.max(logit, axis=1)\n",
        "                preds.append(pred.cpu().numpy())\n",
        "                attentions.append(attention)\n",
        "              \n",
        "        # デモ用のデータの数(test_df.shape[0])だけ，重要な箇所を赤で強調したHTML形式の文章を出力\n",
        "        for index in range(test_df.shape[0]):\n",
        "            html_output =  self.make_attention_html(index=index, batch=batch_for_visualization, preds=preds[0],\n",
        "                                                    attention_weight=attentions[0][-1], \n",
        "                                                    categories=categories, device=device)\n",
        "\n",
        "            display(HTML(html_output))\n",
        "\n",
        "        logger.info('------Finished Explanation------')"
      ],
      "execution_count": null,
      "outputs": []
    },
    {
      "cell_type": "code",
      "metadata": {
        "id": "IwfJA3rNdrUV"
      },
      "source": [
        "import glob\n",
        "\n",
        "# 分類のテスト用コーパスを生成するための関数 \n",
        "def load_livedoor_news_corpus():\n",
        "    # カテゴリー辞書を定義\n",
        "    category = {\n",
        "        \"dokujo-tsushin\": 0,\n",
        "        \"it-life-hack\":1,\n",
        "        \"kaden-channel\": 2,\n",
        "        \"livedoor-homme\": 3,\n",
        "        \"movie-enter\": 4,\n",
        "        \"peachy\": 5,\n",
        "        \"smax\": 6,\n",
        "        \"sports-watch\": 7,\n",
        "        \"topic-news\":8\n",
        "    }\n",
        " \n",
        "    docs  = []\n",
        "    labels = []\n",
        "    \n",
        "    \n",
        "    # 全てのカテゴリーのディレクトリについて実行\n",
        "    for c_name, c_id in category.items():\n",
        "        # ファイルのパスを取得\n",
        "        files = glob.glob(\"/content/drive/My Drive/corpus/text/{c_name}/{c_name}*.txt\".format(c_name=c_name))\n",
        "        # カテゴリー名とファイル数を表示\n",
        "        print(\"category: \", c_name, \", \",  len(files))\n",
        " \n",
        "        # 各記事について、URL、 日付、タイトル、 本文の情報を以下のようにして取得\n",
        "        for file in files:\n",
        "            with open(file, \"r\", encoding=\"utf-8\") as f:\n",
        "                # 改行文字で分割してリストで返す\n",
        "                lines = f.read().splitlines()\n",
        "                # url, 日付、タイトル、本文を取得\n",
        "                url = lines[0]  \n",
        "                datetime = lines[1]   \n",
        "                subject = lines[2] \n",
        "                # 記事中の本文を1行にまとめる\n",
        "                body = \"\".join(lines[3:])\n",
        "                # タイトルと本文をまとめる\n",
        "                text = subject + body\n",
        "  \n",
        "            # textをdocsに追加\n",
        "            docs.append(text)\n",
        "            # c_idをlabelsに追加\n",
        "            labels.append(c_id)\n",
        " \n",
        "    return docs, labels"
      ],
      "execution_count": null,
      "outputs": []
    },
    {
      "cell_type": "code",
      "metadata": {
        "id": "U4Fol7AwoUYQ"
      },
      "source": [
        "if os.path.exists(\"/content/drive/My Drive/corpus/test_corpus_using_livedoor_dataset.csv\"):\n",
        "    df = pd.read_csv(\"/content/drive/My Drive/corpus/test_corpus_using_livedoor_dataset.csv\")\n",
        "else:\n",
        "    docs, labels = load_livedoor_news_corpus()\n",
        "    df_text = pd.DataFrame(docs, columns=[\"Text\"])\n",
        "    df_label = pd.DataFrame(labels, columns=[\"Label\"])\n",
        "    df = pd.concat([df_text, df_label], axis=1)\n",
        "    df.to_csv(\"/content/drive/My Drive/corpus/test_corpus_using_livedoor_dataset.csv\")"
      ],
      "execution_count": null,
      "outputs": []
    },
    {
      "cell_type": "code",
      "metadata": {
        "id": "9a6qXiNu5gBn"
      },
      "source": [
        "def execute_crossvalidation(estimator, X, y, cv=3, random_state=0, \n",
        "                             early_stopping_rounds=10):\n",
        "    accuracy_scores = []\n",
        "    y_preds = []\n",
        "    y_trues = []\n",
        "    estimators = []\n",
        "\n",
        "    skf = StratifiedKFold(n_splits=cv, random_state=random_state, shuffle=True)\n",
        "\n",
        "    for train_index, test_index in skf.split(X, y):\n",
        "\n",
        "        train_df, test_df = X.iloc[train_index, :], X.iloc[test_index, :]\n",
        "\n",
        "        estimator.fit(train_df=train_df, test_df=test_df, \n",
        "                      early_stopping_rounds=early_stopping_rounds)\n",
        "        y_pred = estimator.predict(test_df)\n",
        "        y_true = test_df[\"Label\"]\n",
        "                   \n",
        "        accuracy_scores.append(accuracy_score(y_true, y_pred))\n",
        "        y_trues.extend(y_true)\n",
        "        y_preds.extend(y_pred)\n",
        "        estimators.append(estimator)\n",
        "\n",
        "    y_true = np.array(y_trues, dtype=int)\n",
        "    y_pred = np.array(y_preds, dtype=int)\n",
        "    \n",
        "    return accuracy_scores, y_trues, y_preds, estimators"
      ],
      "execution_count": null,
      "outputs": []
    },
    {
      "cell_type": "code",
      "metadata": {
        "id": "_3F8Vixifj9r",
        "outputId": "a1c698cf-c5b9-45e1-f844-c46bee8746d8",
        "colab": {
          "base_uri": "https://localhost:8080/",
          "height": 269,
          "referenced_widgets": [
            "47d45ee827234efca07d5f068fcca942",
            "74a78b30250142ab8bbf5b500577ea43",
            "8f79d255bf86402ca1fb50722d6934ec",
            "9bfb2f539e1c4d70a35abca08694c3c7",
            "e5b7ef81cfcf4574b7c4d05e627528ae",
            "317546e00699462b95f8653d377c0bca",
            "548b482397bd47d586ddb935d0832dfa",
            "61faa46adfb646188d30b13ebf2d4aab",
            "2eb2e3f2aa8f4fd5b88cc46c4b32888b",
            "994eaca364ed4915b525c745631efd08",
            "3038cbcb329047008da7fac7ebabebf4",
            "d98c27056a9a427fb4b43968b9496e3d",
            "4c78eed35532415ab589bfa657aa49cf",
            "660d7a0a2d474489ba974a976ec50cba",
            "10459c87bfef4161be72a29c650210cc",
            "f63aa31405a44036bbda625478bb3c5b",
            "aee43335125940fea96824a00e752167",
            "689972c7129745968009999aa3144053",
            "706be044c0c245229f0311faf2274dff",
            "687f836b5b88486ebc55afd30aac8cad",
            "7a9193ef30c94081b6cb427e7eb5a135",
            "e1b1408a1525433a99f73e3732c7f1d5",
            "bcac8c6d9ecd4af9a480f5e8e1bf133b",
            "3681f7054ca84f0caaec67938520b289"
          ]
        }
      },
      "source": [
        "model = BertClassifier(num_labels=len(np.unique(df[\"Label\"])), num_epochs=10)"
      ],
      "execution_count": null,
      "outputs": [
        {
          "output_type": "display_data",
          "data": {
            "application/vnd.jupyter.widget-view+json": {
              "model_id": "47d45ee827234efca07d5f068fcca942",
              "version_minor": 0,
              "version_major": 2
            },
            "text/plain": [
              "HBox(children=(FloatProgress(value=0.0, description='Downloading', max=257706.0, style=ProgressStyle(descripti…"
            ]
          },
          "metadata": {
            "tags": []
          }
        },
        {
          "output_type": "stream",
          "text": [
            "\n"
          ],
          "name": "stdout"
        },
        {
          "output_type": "display_data",
          "data": {
            "application/vnd.jupyter.widget-view+json": {
              "model_id": "2eb2e3f2aa8f4fd5b88cc46c4b32888b",
              "version_minor": 0,
              "version_major": 2
            },
            "text/plain": [
              "HBox(children=(FloatProgress(value=0.0, description='Downloading', max=433.0, style=ProgressStyle(description_…"
            ]
          },
          "metadata": {
            "tags": []
          }
        },
        {
          "output_type": "stream",
          "text": [
            "\n"
          ],
          "name": "stdout"
        },
        {
          "output_type": "display_data",
          "data": {
            "application/vnd.jupyter.widget-view+json": {
              "model_id": "aee43335125940fea96824a00e752167",
              "version_minor": 0,
              "version_major": 2
            },
            "text/plain": [
              "HBox(children=(FloatProgress(value=0.0, description='Downloading', max=445021143.0, style=ProgressStyle(descri…"
            ]
          },
          "metadata": {
            "tags": []
          }
        },
        {
          "output_type": "stream",
          "text": [
            "\n"
          ],
          "name": "stdout"
        },
        {
          "output_type": "stream",
          "text": [
            "Some weights of the model checkpoint at cl-tohoku/bert-base-japanese-whole-word-masking were not used when initializing BertForSequenceClassification: ['cls.predictions.bias', 'cls.predictions.transform.dense.weight', 'cls.predictions.transform.dense.bias', 'cls.predictions.transform.LayerNorm.weight', 'cls.predictions.transform.LayerNorm.bias', 'cls.predictions.decoder.weight', 'cls.seq_relationship.weight', 'cls.seq_relationship.bias']\n",
            "- This IS expected if you are initializing BertForSequenceClassification from the checkpoint of a model trained on another task or with another architecture (e.g. initializing a BertForSequenceClassification model from a BertForPretraining model).\n",
            "- This IS NOT expected if you are initializing BertForSequenceClassification from the checkpoint of a model that you expect to be exactly identical (initializing a BertForSequenceClassification model from a BertForSequenceClassification model).\n",
            "Some weights of BertForSequenceClassification were not initialized from the model checkpoint at cl-tohoku/bert-base-japanese-whole-word-masking and are newly initialized: ['classifier.weight', 'classifier.bias']\n",
            "You should probably TRAIN this model on a down-stream task to be able to use it for predictions and inference.\n"
          ],
          "name": "stderr"
        }
      ]
    },
    {
      "cell_type": "code",
      "metadata": {
        "id": "KWxY7lKz6WPC",
        "outputId": "bced9483-94d2-49a2-9b45-f90684cd9500",
        "colab": {
          "base_uri": "https://localhost:8080/"
        }
      },
      "source": [
        "accuracy_scores, y_trues, y_preds, estimators = execute_crossvalidation(estimator=model, X=df, y=df[\"Label\"], cv=5)"
      ],
      "execution_count": null,
      "outputs": [
        {
          "output_type": "stream",
          "text": [
            "-------------------------Training Phase----------------------------\n",
            "\n",
            "Creating Datasets from pandas dataframes\n"
          ],
          "name": "stdout"
        },
        {
          "output_type": "stream",
          "text": [
            "[I 201102 03:26:16 <ipython-input-9-589a59641233>:66] Creating datasets from  pandas dataframes has finished \n",
            "[I 201102 03:26:17 <ipython-input-9-589a59641233>:73] Creating dataLoaders has finished \n",
            "[I 201102 03:26:17 <ipython-input-9-589a59641233>:118] 使用デバイス：cuda\n",
            "[I 201102 03:26:17 <ipython-input-9-589a59641233>:119] -----start-------\n"
          ],
          "name": "stderr"
        },
        {
          "output_type": "stream",
          "text": [
            "Creating dataLoaders\n"
          ],
          "name": "stdout"
        },
        {
          "output_type": "stream",
          "text": [
            "[I 201102 03:30:50 <ipython-input-9-589a59641233>:199] Epoch 1/10 | train |  Loss: 1.1030 Acc: 0.6742 F1-Score: 0.638186\n",
            "[I 201102 03:31:46 <ipython-input-9-589a59641233>:199] Epoch 1/10 | test  |  Loss: 0.4584 Acc: 0.8555 F1-Score: 0.831330\n",
            "[I 201102 03:36:07 <ipython-input-9-589a59641233>:199] Epoch 2/10 | train |  Loss: 0.3795 Acc: 0.8941 F1-Score: 0.884790\n",
            "[I 201102 03:37:04 <ipython-input-9-589a59641233>:199] Epoch 2/10 | test  |  Loss: 0.3084 Acc: 0.9057 F1-Score: 0.896366\n",
            "[I 201102 03:41:25 <ipython-input-9-589a59641233>:199] Epoch 3/10 | train |  Loss: 0.2346 Acc: 0.9370 F1-Score: 0.931940\n",
            "[I 201102 03:42:21 <ipython-input-9-589a59641233>:199] Epoch 3/10 | test  |  Loss: 0.2279 Acc: 0.9315 F1-Score: 0.923593\n",
            "[I 201102 03:46:42 <ipython-input-9-589a59641233>:199] Epoch 4/10 | train |  Loss: 0.1644 Acc: 0.9545 F1-Score: 0.950196\n",
            "[I 201102 03:47:39 <ipython-input-9-589a59641233>:199] Epoch 4/10 | test  |  Loss: 0.2025 Acc: 0.9423 F1-Score: 0.935156\n",
            "[I 201102 03:52:00 <ipython-input-9-589a59641233>:199] Epoch 5/10 | train |  Loss: 0.1254 Acc: 0.9669 F1-Score: 0.963832\n",
            "[I 201102 03:52:56 <ipython-input-9-589a59641233>:199] Epoch 5/10 | test  |  Loss: 0.2030 Acc: 0.9430 F1-Score: 0.936750\n",
            "[I 201102 03:57:17 <ipython-input-9-589a59641233>:199] Epoch 6/10 | train |  Loss: 0.0948 Acc: 0.9752 F1-Score: 0.973034\n",
            "[I 201102 03:58:13 <ipython-input-9-589a59641233>:199] Epoch 6/10 | test  |  Loss: 0.1810 Acc: 0.9471 F1-Score: 0.940658\n",
            "[I 201102 04:02:34 <ipython-input-9-589a59641233>:199] Epoch 7/10 | train |  Loss: 0.0689 Acc: 0.9820 F1-Score: 0.980595\n",
            "[I 201102 04:03:31 <ipython-input-9-589a59641233>:199] Epoch 7/10 | test  |  Loss: 0.1772 Acc: 0.9471 F1-Score: 0.941016\n",
            "[I 201102 04:07:52 <ipython-input-9-589a59641233>:199] Epoch 8/10 | train |  Loss: 0.0517 Acc: 0.9878 F1-Score: 0.986750\n",
            "[I 201102 04:08:48 <ipython-input-9-589a59641233>:199] Epoch 8/10 | test  |  Loss: 0.1935 Acc: 0.9491 F1-Score: 0.943928\n",
            "[I 201102 04:13:09 <ipython-input-9-589a59641233>:199] Epoch 9/10 | train |  Loss: 0.0444 Acc: 0.9891 F1-Score: 0.988426\n",
            "[I 201102 04:14:06 <ipython-input-9-589a59641233>:199] Epoch 9/10 | test  |  Loss: 0.1958 Acc: 0.9505 F1-Score: 0.945195\n",
            "[I 201102 04:18:27 <ipython-input-9-589a59641233>:199] Epoch 10/10 | train |  Loss: 0.0327 Acc: 0.9927 F1-Score: 0.992294\n",
            "[I 201102 04:19:23 <ipython-input-9-589a59641233>:199] Epoch 10/10 | test  |  Loss: 0.1961 Acc: 0.9539 F1-Score: 0.948706\n"
          ],
          "name": "stderr"
        },
        {
          "output_type": "stream",
          "text": [
            "-------------------------Prediction Phase----------------------------\n",
            "\n",
            "Creating dataaet and dataloader from pandas dataframe\n"
          ],
          "name": "stdout"
        },
        {
          "output_type": "stream",
          "text": [
            "[I 201102 04:19:27 <ipython-input-9-589a59641233>:222] Dataset and DataLoader from pandas dataframe has finished\n",
            "[I 201102 04:19:27 <ipython-input-9-589a59641233>:224] 使用デバイス：cuda\n",
            "[I 201102 04:19:27 <ipython-input-9-589a59641233>:225] -----Start Prediction -------\n",
            "100%|██████████| 47/47 [00:56<00:00,  1.20s/it]\n",
            "[I 201102 04:20:23 <ipython-input-9-589a59641233>:242] ------Finished Prediction------\n"
          ],
          "name": "stderr"
        },
        {
          "output_type": "stream",
          "text": [
            "-------------------------Training Phase----------------------------\n",
            "\n",
            "Creating Datasets from pandas dataframes\n"
          ],
          "name": "stdout"
        },
        {
          "output_type": "stream",
          "text": [
            "[I 201102 04:20:41 <ipython-input-9-589a59641233>:66] Creating datasets from  pandas dataframes has finished \n",
            "[I 201102 04:20:41 <ipython-input-9-589a59641233>:73] Creating dataLoaders has finished \n",
            "[I 201102 04:20:41 <ipython-input-9-589a59641233>:118] 使用デバイス：cuda\n",
            "[I 201102 04:20:41 <ipython-input-9-589a59641233>:119] -----start-------\n"
          ],
          "name": "stderr"
        },
        {
          "output_type": "stream",
          "text": [
            "Creating dataLoaders\n"
          ],
          "name": "stdout"
        },
        {
          "output_type": "stream",
          "text": [
            "[I 201102 04:25:03 <ipython-input-9-589a59641233>:199] Epoch 1/10 | train |  Loss: 0.0802 Acc: 0.9786 F1-Score: 0.977247\n",
            "[I 201102 04:26:00 <ipython-input-9-589a59641233>:199] Epoch 1/10 | test  |  Loss: 0.0258 Acc: 0.9919 F1-Score: 0.991136\n",
            "[I 201102 04:30:21 <ipython-input-9-589a59641233>:199] Epoch 2/10 | train |  Loss: 0.0544 Acc: 0.9851 F1-Score: 0.984015\n",
            "[I 201102 04:31:17 <ipython-input-9-589a59641233>:199] Epoch 2/10 | test  |  Loss: 0.0138 Acc: 0.9973 F1-Score: 0.997390\n",
            "[I 201102 04:35:38 <ipython-input-9-589a59641233>:199] Epoch 3/10 | train |  Loss: 0.0410 Acc: 0.9886 F1-Score: 0.987478\n",
            "[I 201102 04:36:34 <ipython-input-9-589a59641233>:199] Epoch 3/10 | test  |  Loss: 0.0191 Acc: 0.9939 F1-Score: 0.993282\n",
            "[I 201102 04:40:55 <ipython-input-9-589a59641233>:199] Epoch 4/10 | train |  Loss: 0.0288 Acc: 0.9920 F1-Score: 0.991316\n",
            "[I 201102 04:41:51 <ipython-input-9-589a59641233>:199] Epoch 4/10 | test  |  Loss: 0.0189 Acc: 0.9953 F1-Score: 0.995053\n",
            "[I 201102 04:46:12 <ipython-input-9-589a59641233>:199] Epoch 5/10 | train |  Loss: 0.0284 Acc: 0.9910 F1-Score: 0.990192\n",
            "[I 201102 04:47:08 <ipython-input-9-589a59641233>:199] Epoch 5/10 | test  |  Loss: 0.0180 Acc: 0.9953 F1-Score: 0.994813\n",
            "[I 201102 04:51:29 <ipython-input-9-589a59641233>:199] Epoch 6/10 | train |  Loss: 0.0204 Acc: 0.9947 F1-Score: 0.994299\n",
            "[I 201102 04:52:25 <ipython-input-9-589a59641233>:199] Epoch 6/10 | test  |  Loss: 0.0149 Acc: 0.9953 F1-Score: 0.995023\n",
            "[I 201102 04:56:46 <ipython-input-9-589a59641233>:199] Epoch 7/10 | train |  Loss: 0.0238 Acc: 0.9942 F1-Score: 0.993714\n",
            "[I 201102 04:57:43 <ipython-input-9-589a59641233>:199] Epoch 7/10 | test  |  Loss: 0.0233 Acc: 0.9932 F1-Score: 0.992621\n",
            "[I 201102 05:02:04 <ipython-input-9-589a59641233>:199] Epoch 8/10 | train |  Loss: 0.0202 Acc: 0.9942 F1-Score: 0.993943\n",
            "[I 201102 05:03:00 <ipython-input-9-589a59641233>:199] Epoch 8/10 | test  |  Loss: 0.0243 Acc: 0.9925 F1-Score: 0.990980\n",
            "[I 201102 05:07:21 <ipython-input-9-589a59641233>:199] Epoch 9/10 | train |  Loss: 0.0152 Acc: 0.9961 F1-Score: 0.996030\n",
            "[I 201102 05:08:17 <ipython-input-9-589a59641233>:199] Epoch 9/10 | test  |  Loss: 0.0168 Acc: 0.9959 F1-Score: 0.995437\n",
            "[I 201102 05:12:38 <ipython-input-9-589a59641233>:199] Epoch 10/10 | train |  Loss: 0.0148 Acc: 0.9954 F1-Score: 0.994998\n",
            "[I 201102 05:13:35 <ipython-input-9-589a59641233>:199] Epoch 10/10 | test  |  Loss: 0.0311 Acc: 0.9919 F1-Score: 0.991515\n"
          ],
          "name": "stderr"
        },
        {
          "output_type": "stream",
          "text": [
            "-------------------------Prediction Phase----------------------------\n",
            "\n",
            "Creating dataaet and dataloader from pandas dataframe\n"
          ],
          "name": "stdout"
        },
        {
          "output_type": "stream",
          "text": [
            "[I 201102 05:13:39 <ipython-input-9-589a59641233>:222] Dataset and DataLoader from pandas dataframe has finished\n",
            "[I 201102 05:13:39 <ipython-input-9-589a59641233>:224] 使用デバイス：cuda\n",
            "[I 201102 05:13:39 <ipython-input-9-589a59641233>:225] -----Start Prediction -------\n",
            "100%|██████████| 47/47 [00:56<00:00,  1.20s/it]\n",
            "[I 201102 05:14:35 <ipython-input-9-589a59641233>:242] ------Finished Prediction------\n"
          ],
          "name": "stderr"
        },
        {
          "output_type": "stream",
          "text": [
            "-------------------------Training Phase----------------------------\n",
            "\n",
            "Creating Datasets from pandas dataframes\n"
          ],
          "name": "stdout"
        },
        {
          "output_type": "stream",
          "text": [
            "[I 201102 05:14:54 <ipython-input-9-589a59641233>:66] Creating datasets from  pandas dataframes has finished \n",
            "[I 201102 05:14:54 <ipython-input-9-589a59641233>:73] Creating dataLoaders has finished \n",
            "[I 201102 05:14:54 <ipython-input-9-589a59641233>:118] 使用デバイス：cuda\n",
            "[I 201102 05:14:54 <ipython-input-9-589a59641233>:119] -----start-------\n"
          ],
          "name": "stderr"
        },
        {
          "output_type": "stream",
          "text": [
            "Creating dataLoaders\n"
          ],
          "name": "stdout"
        },
        {
          "output_type": "stream",
          "text": [
            "[I 201102 05:19:16 <ipython-input-9-589a59641233>:199] Epoch 1/10 | train |  Loss: 0.0242 Acc: 0.9929 F1-Score: 0.992563\n",
            "[I 201102 05:20:12 <ipython-input-9-589a59641233>:199] Epoch 1/10 | test  |  Loss: 0.0015 Acc: 1.0000 F1-Score: 1.000000\n",
            "[I 201102 05:24:33 <ipython-input-9-589a59641233>:199] Epoch 2/10 | train |  Loss: 0.0178 Acc: 0.9941 F1-Score: 0.993982\n",
            "[I 201102 05:25:29 <ipython-input-9-589a59641233>:199] Epoch 2/10 | test  |  Loss: 0.0018 Acc: 1.0000 F1-Score: 1.000000\n",
            "[I 201102 05:29:51 <ipython-input-9-589a59641233>:199] Epoch 3/10 | train |  Loss: 0.0139 Acc: 0.9958 F1-Score: 0.995485\n",
            "[I 201102 05:30:47 <ipython-input-9-589a59641233>:199] Epoch 3/10 | test  |  Loss: 0.0011 Acc: 1.0000 F1-Score: 1.000000\n",
            "[I 201102 05:35:08 <ipython-input-9-589a59641233>:199] Epoch 4/10 | train |  Loss: 0.0112 Acc: 0.9973 F1-Score: 0.997136\n",
            "[I 201102 05:36:04 <ipython-input-9-589a59641233>:199] Epoch 4/10 | test  |  Loss: 0.0011 Acc: 1.0000 F1-Score: 1.000000\n",
            "[I 201102 05:40:25 <ipython-input-9-589a59641233>:199] Epoch 5/10 | train |  Loss: 0.0112 Acc: 0.9973 F1-Score: 0.997237\n",
            "[I 201102 05:41:22 <ipython-input-9-589a59641233>:199] Epoch 5/10 | test  |  Loss: 0.0010 Acc: 1.0000 F1-Score: 1.000000\n",
            "[I 201102 05:45:43 <ipython-input-9-589a59641233>:199] Epoch 6/10 | train |  Loss: 0.0147 Acc: 0.9949 F1-Score: 0.994353\n",
            "[I 201102 05:46:39 <ipython-input-9-589a59641233>:199] Epoch 6/10 | test  |  Loss: 0.0022 Acc: 1.0000 F1-Score: 1.000000\n",
            "[I 201102 05:51:01 <ipython-input-9-589a59641233>:199] Epoch 7/10 | train |  Loss: 0.0112 Acc: 0.9969 F1-Score: 0.996711\n",
            "[I 201102 05:51:57 <ipython-input-9-589a59641233>:199] Epoch 7/10 | test  |  Loss: 0.0023 Acc: 1.0000 F1-Score: 1.000000\n",
            "[I 201102 05:56:17 <ipython-input-9-589a59641233>:199] Epoch 8/10 | train |  Loss: 0.0121 Acc: 0.9969 F1-Score: 0.996781\n",
            "[I 201102 05:57:13 <ipython-input-9-589a59641233>:199] Epoch 8/10 | test  |  Loss: 0.0048 Acc: 0.9993 F1-Score: 0.999350\n",
            "[I 201102 06:01:34 <ipython-input-9-589a59641233>:199] Epoch 9/10 | train |  Loss: 0.0112 Acc: 0.9959 F1-Score: 0.995753\n",
            "[I 201102 06:02:30 <ipython-input-9-589a59641233>:199] Epoch 9/10 | test  |  Loss: 0.0043 Acc: 0.9993 F1-Score: 0.999350\n",
            "[I 201102 06:06:52 <ipython-input-9-589a59641233>:199] Epoch 10/10 | train |  Loss: 0.0121 Acc: 0.9971 F1-Score: 0.996802\n",
            "[I 201102 06:07:48 <ipython-input-9-589a59641233>:199] Epoch 10/10 | test  |  Loss: 0.0017 Acc: 1.0000 F1-Score: 1.000000\n"
          ],
          "name": "stderr"
        },
        {
          "output_type": "stream",
          "text": [
            "-------------------------Prediction Phase----------------------------\n",
            "\n",
            "Creating dataaet and dataloader from pandas dataframe\n"
          ],
          "name": "stdout"
        },
        {
          "output_type": "stream",
          "text": [
            "[I 201102 06:07:51 <ipython-input-9-589a59641233>:222] Dataset and DataLoader from pandas dataframe has finished\n",
            "[I 201102 06:07:51 <ipython-input-9-589a59641233>:224] 使用デバイス：cuda\n",
            "[I 201102 06:07:51 <ipython-input-9-589a59641233>:225] -----Start Prediction -------\n",
            "100%|██████████| 47/47 [00:56<00:00,  1.20s/it]\n",
            "[I 201102 06:08:48 <ipython-input-9-589a59641233>:242] ------Finished Prediction------\n"
          ],
          "name": "stderr"
        },
        {
          "output_type": "stream",
          "text": [
            "-------------------------Training Phase----------------------------\n",
            "\n",
            "Creating Datasets from pandas dataframes\n"
          ],
          "name": "stdout"
        },
        {
          "output_type": "stream",
          "text": [
            "[I 201102 06:09:06 <ipython-input-9-589a59641233>:66] Creating datasets from  pandas dataframes has finished \n",
            "[I 201102 06:09:06 <ipython-input-9-589a59641233>:73] Creating dataLoaders has finished \n",
            "[I 201102 06:09:06 <ipython-input-9-589a59641233>:118] 使用デバイス：cuda\n",
            "[I 201102 06:09:06 <ipython-input-9-589a59641233>:119] -----start-------\n"
          ],
          "name": "stderr"
        },
        {
          "output_type": "stream",
          "text": [
            "Creating dataLoaders\n"
          ],
          "name": "stdout"
        },
        {
          "output_type": "stream",
          "text": [
            "[I 201102 06:13:27 <ipython-input-9-589a59641233>:199] Epoch 1/10 | train |  Loss: 0.0139 Acc: 0.9951 F1-Score: 0.994791\n",
            "[I 201102 06:14:24 <ipython-input-9-589a59641233>:199] Epoch 1/10 | test  |  Loss: 0.0007 Acc: 1.0000 F1-Score: 1.000000\n",
            "[I 201102 06:18:45 <ipython-input-9-589a59641233>:199] Epoch 2/10 | train |  Loss: 0.0087 Acc: 0.9971 F1-Score: 0.997121\n",
            "[I 201102 06:19:41 <ipython-input-9-589a59641233>:199] Epoch 2/10 | test  |  Loss: 0.0018 Acc: 0.9993 F1-Score: 0.999361\n",
            "[I 201102 06:24:03 <ipython-input-9-589a59641233>:199] Epoch 3/10 | train |  Loss: 0.0119 Acc: 0.9958 F1-Score: 0.995570\n",
            "[I 201102 06:24:59 <ipython-input-9-589a59641233>:199] Epoch 3/10 | test  |  Loss: 0.0011 Acc: 1.0000 F1-Score: 1.000000\n",
            "[I 201102 06:29:21 <ipython-input-9-589a59641233>:199] Epoch 4/10 | train |  Loss: 0.0130 Acc: 0.9968 F1-Score: 0.996494\n",
            "[I 201102 06:30:17 <ipython-input-9-589a59641233>:199] Epoch 4/10 | test  |  Loss: 0.0049 Acc: 0.9980 F1-Score: 0.997847\n",
            "[I 201102 06:34:38 <ipython-input-9-589a59641233>:199] Epoch 5/10 | train |  Loss: 0.0122 Acc: 0.9959 F1-Score: 0.995512\n",
            "[I 201102 06:35:34 <ipython-input-9-589a59641233>:199] Epoch 5/10 | test  |  Loss: 0.0020 Acc: 0.9993 F1-Score: 0.999350\n",
            "[I 201102 06:39:56 <ipython-input-9-589a59641233>:199] Epoch 6/10 | train |  Loss: 0.0081 Acc: 0.9971 F1-Score: 0.996879\n",
            "[I 201102 06:40:52 <ipython-input-9-589a59641233>:199] Epoch 6/10 | test  |  Loss: 0.0047 Acc: 0.9986 F1-Score: 0.998488\n",
            "[I 201102 06:45:13 <ipython-input-9-589a59641233>:199] Epoch 7/10 | train |  Loss: 0.0072 Acc: 0.9976 F1-Score: 0.997346\n",
            "[I 201102 06:46:10 <ipython-input-9-589a59641233>:199] Epoch 7/10 | test  |  Loss: 0.0036 Acc: 0.9986 F1-Score: 0.998488\n",
            "[I 201102 06:50:31 <ipython-input-9-589a59641233>:199] Epoch 8/10 | train |  Loss: 0.0042 Acc: 0.9990 F1-Score: 0.998852\n",
            "[I 201102 06:51:27 <ipython-input-9-589a59641233>:199] Epoch 8/10 | test  |  Loss: 0.0044 Acc: 0.9986 F1-Score: 0.998710\n",
            "[I 201102 06:55:48 <ipython-input-9-589a59641233>:199] Epoch 9/10 | train |  Loss: 0.0052 Acc: 0.9988 F1-Score: 0.998676\n",
            "[I 201102 06:56:45 <ipython-input-9-589a59641233>:199] Epoch 9/10 | test  |  Loss: 0.0050 Acc: 0.9980 F1-Score: 0.997847\n",
            "[I 201102 07:01:06 <ipython-input-9-589a59641233>:199] Epoch 10/10 | train |  Loss: 0.0084 Acc: 0.9971 F1-Score: 0.997195\n",
            "[I 201102 07:02:02 <ipython-input-9-589a59641233>:199] Epoch 10/10 | test  |  Loss: 0.0026 Acc: 0.9993 F1-Score: 0.999350\n"
          ],
          "name": "stderr"
        },
        {
          "output_type": "stream",
          "text": [
            "-------------------------Prediction Phase----------------------------\n",
            "\n",
            "Creating dataaet and dataloader from pandas dataframe\n"
          ],
          "name": "stdout"
        },
        {
          "output_type": "stream",
          "text": [
            "[I 201102 07:02:06 <ipython-input-9-589a59641233>:222] Dataset and DataLoader from pandas dataframe has finished\n",
            "[I 201102 07:02:06 <ipython-input-9-589a59641233>:224] 使用デバイス：cuda\n",
            "[I 201102 07:02:06 <ipython-input-9-589a59641233>:225] -----Start Prediction -------\n",
            "100%|██████████| 47/47 [00:56<00:00,  1.20s/it]\n",
            "[I 201102 07:03:02 <ipython-input-9-589a59641233>:242] ------Finished Prediction------\n"
          ],
          "name": "stderr"
        },
        {
          "output_type": "stream",
          "text": [
            "-------------------------Training Phase----------------------------\n",
            "\n",
            "Creating Datasets from pandas dataframes\n"
          ],
          "name": "stdout"
        },
        {
          "output_type": "stream",
          "text": [
            "[I 201102 07:03:20 <ipython-input-9-589a59641233>:66] Creating datasets from  pandas dataframes has finished \n",
            "[I 201102 07:03:20 <ipython-input-9-589a59641233>:73] Creating dataLoaders has finished \n",
            "[I 201102 07:03:20 <ipython-input-9-589a59641233>:118] 使用デバイス：cuda\n",
            "[I 201102 07:03:20 <ipython-input-9-589a59641233>:119] -----start-------\n"
          ],
          "name": "stderr"
        },
        {
          "output_type": "stream",
          "text": [
            "Creating dataLoaders\n"
          ],
          "name": "stdout"
        },
        {
          "output_type": "stream",
          "text": [
            "[I 201102 07:07:42 <ipython-input-9-589a59641233>:199] Epoch 1/10 | train |  Loss: 0.0102 Acc: 0.9969 F1-Score: 0.996914\n",
            "[I 201102 07:08:38 <ipython-input-9-589a59641233>:199] Epoch 1/10 | test  |  Loss: 0.0005 Acc: 1.0000 F1-Score: 1.000000\n",
            "[I 201102 07:12:59 <ipython-input-9-589a59641233>:199] Epoch 2/10 | train |  Loss: 0.0062 Acc: 0.9980 F1-Score: 0.997734\n",
            "[I 201102 07:13:56 <ipython-input-9-589a59641233>:199] Epoch 2/10 | test  |  Loss: 0.0007 Acc: 1.0000 F1-Score: 1.000000\n",
            "[I 201102 07:18:17 <ipython-input-9-589a59641233>:199] Epoch 3/10 | train |  Loss: 0.0095 Acc: 0.9968 F1-Score: 0.996379\n",
            "[I 201102 07:19:13 <ipython-input-9-589a59641233>:199] Epoch 3/10 | test  |  Loss: 0.0012 Acc: 0.9993 F1-Score: 0.999128\n",
            "[I 201102 07:23:35 <ipython-input-9-589a59641233>:199] Epoch 4/10 | train |  Loss: 0.0062 Acc: 0.9976 F1-Score: 0.997494\n",
            "[I 201102 07:24:31 <ipython-input-9-589a59641233>:199] Epoch 4/10 | test  |  Loss: 0.0005 Acc: 1.0000 F1-Score: 1.000000\n",
            "[I 201102 07:28:53 <ipython-input-9-589a59641233>:199] Epoch 5/10 | train |  Loss: 0.0058 Acc: 0.9988 F1-Score: 0.998820\n",
            "[I 201102 07:29:49 <ipython-input-9-589a59641233>:199] Epoch 5/10 | test  |  Loss: 0.0141 Acc: 0.9966 F1-Score: 0.996577\n",
            "[I 201102 07:34:11 <ipython-input-9-589a59641233>:199] Epoch 6/10 | train |  Loss: 0.0080 Acc: 0.9971 F1-Score: 0.996897\n",
            "[I 201102 07:35:08 <ipython-input-9-589a59641233>:199] Epoch 6/10 | test  |  Loss: 0.0013 Acc: 0.9993 F1-Score: 0.999350\n",
            "[I 201102 07:39:29 <ipython-input-9-589a59641233>:199] Epoch 7/10 | train |  Loss: 0.0052 Acc: 0.9978 F1-Score: 0.997726\n",
            "[I 201102 07:40:26 <ipython-input-9-589a59641233>:199] Epoch 7/10 | test  |  Loss: 0.0009 Acc: 1.0000 F1-Score: 1.000000\n",
            "[I 201102 07:44:48 <ipython-input-9-589a59641233>:199] Epoch 8/10 | train |  Loss: 0.0086 Acc: 0.9971 F1-Score: 0.996975\n",
            "[I 201102 07:45:45 <ipython-input-9-589a59641233>:199] Epoch 8/10 | test  |  Loss: 0.0024 Acc: 0.9993 F1-Score: 0.999331\n",
            "[I 201102 07:50:06 <ipython-input-9-589a59641233>:199] Epoch 9/10 | train |  Loss: 0.0061 Acc: 0.9981 F1-Score: 0.998091\n",
            "[I 201102 07:51:02 <ipython-input-9-589a59641233>:199] Epoch 9/10 | test  |  Loss: 0.0029 Acc: 0.9986 F1-Score: 0.998253\n",
            "[I 201102 07:55:24 <ipython-input-9-589a59641233>:199] Epoch 10/10 | train |  Loss: 0.0061 Acc: 0.9978 F1-Score: 0.997590\n",
            "[I 201102 07:56:20 <ipython-input-9-589a59641233>:199] Epoch 10/10 | test  |  Loss: 0.0011 Acc: 1.0000 F1-Score: 1.000000\n"
          ],
          "name": "stderr"
        },
        {
          "output_type": "stream",
          "text": [
            "-------------------------Prediction Phase----------------------------\n",
            "\n",
            "Creating dataaet and dataloader from pandas dataframe\n"
          ],
          "name": "stdout"
        },
        {
          "output_type": "stream",
          "text": [
            "[I 201102 07:56:24 <ipython-input-9-589a59641233>:222] Dataset and DataLoader from pandas dataframe has finished\n",
            "[I 201102 07:56:24 <ipython-input-9-589a59641233>:224] 使用デバイス：cuda\n",
            "[I 201102 07:56:24 <ipython-input-9-589a59641233>:225] -----Start Prediction -------\n",
            "100%|██████████| 47/47 [00:56<00:00,  1.20s/it]\n",
            "[I 201102 07:57:20 <ipython-input-9-589a59641233>:242] ------Finished Prediction------\n"
          ],
          "name": "stderr"
        }
      ]
    },
    {
      "cell_type": "code",
      "metadata": {
        "id": "hmrsIiutgfrs",
        "outputId": "5b7df6a1-18f0-4a12-e1df-a02b09f0d8d1",
        "colab": {
          "base_uri": "https://localhost:8080/"
        }
      },
      "source": [
        "label_names = [\"dokujo\", \"IT\",  \"kaden\", \"homme\", \"movie\",  \"peachy\", \"smax\", \"sports\",\"news\"]\n",
        "print(\"Accuracy: {:.4f} +/- {:.4f} \".format(np.mean(accuracy_scores), np.std(accuracy_scores)))\n",
        "print(\"\\n{}\\n\".format(classification_report(y_true=y_trues, y_pred=y_preds, target_names = label_names)))"
      ],
      "execution_count": null,
      "outputs": [
        {
          "output_type": "stream",
          "text": [
            "Accuracy: 0.9890 +/- 0.0178 \n",
            "\n",
            "              precision    recall  f1-score   support\n",
            "\n",
            "      dokujo       0.99      0.98      0.98       870\n",
            "          IT       0.99      0.99      0.99       870\n",
            "       kaden       0.99      1.00      0.99       864\n",
            "       homme       0.99      0.95      0.97       511\n",
            "       movie       0.99      0.99      0.99       870\n",
            "      peachy       0.97      0.99      0.98       842\n",
            "        smax       1.00      1.00      1.00       870\n",
            "      sports       1.00      1.00      1.00       900\n",
            "        news       0.99      0.99      0.99       770\n",
            "\n",
            "    accuracy                           0.99      7367\n",
            "   macro avg       0.99      0.99      0.99      7367\n",
            "weighted avg       0.99      0.99      0.99      7367\n",
            "\n",
            "\n"
          ],
          "name": "stdout"
        }
      ]
    },
    {
      "cell_type": "code",
      "metadata": {
        "id": "wBZlC_n9z-mk"
      },
      "source": [
        "plt.rcParams[\"figure.figsize\"]=(10,10)\n",
        "plt.rcParams[\"axes.labelsize\"] = 18"
      ],
      "execution_count": null,
      "outputs": []
    },
    {
      "cell_type": "code",
      "metadata": {
        "id": "YLYjTSya7Aj9",
        "outputId": "1f593ec8-1c98-4f08-90ad-4b81583316cd",
        "colab": {
          "base_uri": "https://localhost:8080/",
          "height": 580
        }
      },
      "source": [
        "cm = confusion_matrix(y_true=y_trues, y_pred=y_preds)\n",
        "cm_display = ConfusionMatrixDisplay(confusion_matrix=cm, display_labels=label_names).plot(cmap=\"Blues\", values_format=\"d\")"
      ],
      "execution_count": null,
      "outputs": [
        {
          "output_type": "display_data",
          "data": {
            "image/png": "[encoded data removed]",
            "text/plain": [
              "<Figure size 720x720 with 2 Axes>"
            ]
          },
          "metadata": {
            "tags": [],
            "needs_background": "light"
          }
        }
      ]
    },
    {
      "cell_type": "code",
      "metadata": {
        "id": "hzdOTzWi7DeG"
      },
      "source": [
        "os.makedirs(\"./result\", exist_ok=True)\n",
        "cm_display.figure_.savefig(\"./result/result_newsclassification.png\", transparent=True, dpi=300, bbox_inches=\"tight\", pad_inches=0.0)"
      ],
      "execution_count": null,
      "outputs": []
    },
    {
      "cell_type": "code",
      "metadata": {
        "id": "--B1LyxU7hWq"
      },
      "source": [
        "# 判断根拠の説明をするためのデモとして、test_sizeで指定した割合 or 数 だけ、テキストとラベルを抽出\n",
        "_, examples = train_test_split(df, test_size=10, stratify=df[\"Label\"])"
      ],
      "execution_count": null,
      "outputs": []
    },
    {
      "cell_type": "code",
      "metadata": {
        "id": "XvRr7mX47hjs"
      },
      "source": [
        "# クロスバリデーションの中で正答率が最も高かったときの識別器をattentionの可視化に利用\n",
        "best_index = np.argmax(accuracy_scores)\n",
        "best_model = estimators[best_index]"
      ],
      "execution_count": null,
      "outputs": []
    },
    {
      "cell_type": "code",
      "metadata": {
        "id": "fAEpuDFQ71Ls",
        "outputId": "62f429b6-7a2d-4cd4-c123-5b4772f2f8c2",
        "colab": {
          "base_uri": "https://localhost:8080/",
          "height": 1000
        }
      },
      "source": [
        "# 判断根拠の説明を抽出した文章に対して行う\n",
        "# 赤く示した箇所が、該当のラベルを判断するために重要だと判断した箇所 \n",
        "best_model.visualize_attention(test_df=examples, categories=label_names)"
      ],
      "execution_count": null,
      "outputs": [
        {
          "output_type": "stream",
          "text": [
            "[I 201102 07:57:22 <ipython-input-9-589a59641233>:314] Dataset and DataLoader from pandas dataframe has finished\n",
            "[I 201102 07:57:22 <ipython-input-9-589a59641233>:320] 使用デバイス：cuda\n",
            "[I 201102 07:57:22 <ipython-input-9-589a59641233>:321] -----Start Explanation-------\n",
            "  0%|          | 0/1 [00:00<?, ?it/s]"
          ],
          "name": "stderr"
        },
        {
          "output_type": "stream",
          "text": [
            "-------------------------Explanation Phase----------------------------\n",
            "\n",
            "Creating dataset and dataloader from pandas dataframe\n"
          ],
          "name": "stdout"
        },
        {
          "output_type": "stream",
          "text": [
            "100%|██████████| 1/1 [00:00<00:00,  2.46it/s]\n"
          ],
          "name": "stderr"
        },
        {
          "output_type": "display_data",
          "data": {
            "text/html": [
              "正解: peachy<br>予測: peachy<br><span style=\"background-color: #FFFEFE\">[CLS]</span><span style=\"background-color: #FFE3E3\">宮崎</span><span style=\"background-color: #FF8D8D\">あお</span><span style=\"background-color: #FFDBDB\">##い</span><span style=\"background-color: #FF5454\">さん</span><span style=\"background-color: #FFF9F9\">の</span><span style=\"background-color: #FFFEFE\">大人</span><span style=\"background-color: #FFE8E8\">##気</span><span style=\"background-color: #FFE7E7\">CM</span><span style=\"background-color: #FFE8E8\">!</span><span style=\"background-color: #FFF5F5\">最新</span><span style=\"background-color: #FF9E9E\">作</span><span style=\"background-color: #FFFBFB\">は</span><span style=\"background-color: #FFFEFE\">“</span><span style=\"background-color: #FFF2F2\">雪</span><span style=\"background-color: #FFFEFE\">”</span><span style=\"background-color: #FFFEFE\">と</span><span style=\"background-color: #FFFEFE\">奮闘</span><span style=\"background-color: #FFF8F8\">「</span><span style=\"background-color: #FFFEFE\">あし</span><span style=\"background-color: #FFFBFB\">##た</span><span style=\"background-color: #FFFEFE\">、</span><span style=\"background-color: #FFFEFE\">なに</span><span style=\"background-color: #FFDCDC\">着</span><span style=\"background-color: #FFFDFD\">て</span><span style=\"background-color: #FFE9E9\">生き</span><span style=\"background-color: #FFFEFE\">て</span><span style=\"background-color: #FFFDFD\">いく</span><span style=\"background-color: #FFFEFE\">?」</span><span style=\"background-color: #FFFEFE\">を</span><span style=\"background-color: #FFFEFE\">テーマ</span><span style=\"background-color: #FFFEFE\">に</span><span style=\"background-color: #FFFDFD\">展開</span><span style=\"background-color: #FFFCFC\">する</span><span style=\"background-color: #FFFDFD\">人気</span><span style=\"background-color: #FFCECE\">ブランド</span><span style=\"background-color: #FFFEFE\">「</span><span style=\"background-color: #FFFEFE\">e</span><span style=\"background-color: #FFFEFE\">##art</span><span style=\"background-color: #FFFEFE\">##h</span><span style=\"background-color: #FFFEFE\">##mu</span><span style=\"background-color: #FFFEFE\">##s</span><span style=\"background-color: #FFFEFE\">##ic</span><span style=\"background-color: #FFFEFE\">&</span><span style=\"background-color: #FFFDFD\">e</span><span style=\"background-color: #FFFEFE\">##co</span><span style=\"background-color: #FFFEFE\">##lo</span><span style=\"background-color: #FFFEFE\">##g</span><span style=\"background-color: #FFFDFD\">##y</span><span style=\"background-color: #FFFEFE\">(</span><span style=\"background-color: #FFFDFD\">アース</span><span style=\"background-color: #FFFEFE\">・</span><span style=\"background-color: #FFFDFD\">ミュージック</span><span style=\"background-color: #FFFEFE\">&</span><span style=\"background-color: #FFFEFE\">エコ</span><span style=\"background-color: #FFFDFD\">##ロジー</span><span style=\"background-color: #FFF3F3\">)」。</span><span style=\"background-color: #FFFEFE\">00</span><span style=\"background-color: #FFE1E1\">日</span><span style=\"background-color: #FFFEFE\">(</span><span style=\"background-color: #FFFAFA\">水</span><span style=\"background-color: #FFFDFD\">)</span><span style=\"background-color: #FFFEFE\">明日</span><span style=\"background-color: #FFFEFE\">より</span><span style=\"background-color: #FFF1F1\">全国</span><span style=\"background-color: #FFFDFD\">オンエア</span><span style=\"background-color: #FFFEFE\">を</span><span style=\"background-color: #FFF8F8\">開始</span><span style=\"background-color: #FFF8F8\">する</span><span style=\"background-color: #FFFCFC\">冬</span><span style=\"background-color: #FFD7D7\">ver</span><span style=\"background-color: #FFF6F6\">.</span><span style=\"background-color: #FFFDFD\">の</span><span style=\"background-color: #FFF1F1\">テレビ</span><span style=\"background-color: #FFF0F0\">CM</span><span style=\"background-color: #FFFCFC\">が</span><span style=\"background-color: #FFD1D1\">完成</span><span style=\"background-color: #FFDBDB\">。</span><span style=\"background-color: #FFD9D9\">話題</span><span style=\"background-color: #FFF7F7\">の</span><span style=\"background-color: #FFC1C1\">“</span><span style=\"background-color: #FFFCFC\">宮崎</span><span style=\"background-color: #FFF8F8\">あお</span><span style=\"background-color: #FFF9F9\">##い</span><span style=\"background-color: #FFC3C3\">×</span><span style=\"background-color: #FFFEFE\">THE</span><span style=\"background-color: #FFFEFE\">##BL</span><span style=\"background-color: #FFFEFE\">##UE</span><span style=\"background-color: #FFFEFE\">##HE</span><span style=\"background-color: #FFFDFD\">##ART</span><span style=\"background-color: #FFECEC\">##S</span><span style=\"background-color: #FF9999\">”</span><span style=\"background-color: #FFFAFA\">最新</span><span style=\"background-color: #FFCECE\">作</span><span style=\"background-color: #FFFAFA\">は</span><span style=\"background-color: #FFC6C6\">ニュージーランド</span><span style=\"background-color: #FFFEFE\">で</span><span style=\"background-color: #FFFEFE\">“</span><span style=\"background-color: #FFFDFD\">雪</span><span style=\"background-color: #FFFEFE\">”</span><span style=\"background-color: #FFFEFE\">と</span><span style=\"background-color: #FFF2F2\">奮闘</span><span style=\"background-color: #FFFDFD\">する</span><span style=\"background-color: #FFFEFE\">、</span><span style=\"background-color: #FFB6B6\">女性</span><span style=\"background-color: #FFFEFE\">らしい</span><span style=\"background-color: #FFFEFE\">「</span><span style=\"background-color: #FFFEFE\">強</span><span style=\"background-color: #FFFCFC\">さ</span><span style=\"background-color: #FFFEFE\">」</span><span style=\"background-color: #FFFEFE\">が</span><span style=\"background-color: #FFFEFE\">印象</span><span style=\"background-color: #FFFEFE\">的</span><span style=\"background-color: #FFFEFE\">な</span><span style=\"background-color: #FFFEFE\">仕</span><span style=\"background-color: #FFFEFE\">##上がり</span><span style=\"background-color: #FFFDFD\">と</span><span style=\"background-color: #FFFDFD\">なっ</span><span style=\"background-color: #FFFAFA\">て</span><span style=\"background-color: #FFF6F6\">い</span><span style=\"background-color: #FF-6A-6A\">ます</span><span style=\"background-color: #FFFEFE\">。</span><span style=\"background-color: #FFFCFC\">冬</span><span style=\"background-color: #FFFEFE\">は</span><span style=\"background-color: #FFFEFE\">誰</span><span style=\"background-color: #FFFEFE\">も</span><span style=\"background-color: #FFFEFE\">が</span><span style=\"background-color: #FFFEFE\">暖</span><span style=\"background-color: #FFFEFE\">を</span><span style=\"background-color: #FFFEFE\">とり</span><span style=\"background-color: #FFFEFE\">ながら</span><span style=\"background-color: #FFFEFE\">ジ</span><span style=\"background-color: #FFFEFE\">##ッ</span><span style=\"background-color: #FFFEFE\">として</span><span style=\"background-color: #FFFEFE\">い</span><span style=\"background-color: #FFFEFE\">なく</span><span style=\"background-color: #FFFEFE\">なる</span><span style=\"background-color: #FFFDFD\">季節</span><span style=\"background-color: #FFFAFA\">。</span><span style=\"background-color: #FFD5D5\">女性</span><span style=\"background-color: #FFFEFE\">だけ</span><span style=\"background-color: #FFFEFE\">で</span><span style=\"background-color: #FFFEFE\">なく</span><span style=\"background-color: #FFFEFE\">人間</span><span style=\"background-color: #FFFEFE\">も</span><span style=\"background-color: #FFFCFC\">動物</span><span style=\"background-color: #FFFEFE\">も</span><span style=\"background-color: #FFFDFD\">自然</span><span style=\"background-color: #FFFEFE\">も</span><span style=\"background-color: #FFFEFE\">、</span><span style=\"background-color: #FFFEFE\">寒</span><span style=\"background-color: #FFFEFE\">さ</span><span style=\"background-color: #FFFEFE\">を</span><span style=\"background-color: #FFFEFE\">乗り越え</span><span style=\"background-color: #FFFEFE\">##る</span><span style=\"background-color: #FFFEFE\">為</span><span style=\"background-color: #FFFEFE\">に</span><span style=\"background-color: #FFFEFE\">“</span><span style=\"background-color: #FFFEFE\">おこ</span><span style=\"background-color: #FFFEFE\">##も</span><span style=\"background-color: #FFF7F7\">り</span><span style=\"background-color: #FFFEFE\">”</span><span style=\"background-color: #FFF0F0\">モード</span><span style=\"background-color: #FFFEFE\">に</span><span style=\"background-color: #FFFEFE\">なっ</span><span style=\"background-color: #FFFEFE\">て</span><span style=\"background-color: #FFFEFE\">しまい</span><span style=\"background-color: #FFF4F4\">ます</span><span style=\"background-color: #FFFEFE\">。</span><span style=\"background-color: #FFFEFE\">そんな</span><span style=\"background-color: #FFFEFE\">“</span><span style=\"background-color: #FFF1F1\">静</span><span style=\"background-color: #FFEEEE\">”</span><span style=\"background-color: #FFFAFA\">の</span><span style=\"background-color: #FFF7F7\">シーズン</span><span style=\"background-color: #FFFEFE\">を</span><span style=\"background-color: #FFFEFE\">打ち破</span><span style=\"background-color: #FFFEFE\">##る</span><span style=\"background-color: #FFFDFD\">様</span><span style=\"background-color: #FFFEFE\">に</span><span style=\"background-color: #FFFEFE\">、</span><span style=\"background-color: #FFF4F4\">宮崎</span><span style=\"background-color: #FFD5D5\">あお</span><span style=\"background-color: #FFFBFB\">##い</span><span style=\"background-color: #FFF5F5\">さん</span><span style=\"background-color: #FFFEFE\">が</span><span style=\"background-color: #FFF9F9\">雪</span><span style=\"background-color: #FFFEFE\">の</span><span style=\"background-color: #FFFEFE\">中</span><span style=\"background-color: #FFFEFE\">で</span><span style=\"background-color: #FFFEFE\">力</span><span style=\"background-color: #FFFEFE\">##い</span><span style=\"background-color: #FFFEFE\">##っぱ</span><span style=\"background-color: #FFFEFE\">##い</span><span style=\"background-color: #FFFEFE\">笑い</span><span style=\"background-color: #FFFEFE\">、</span><span style=\"background-color: #FFFCFC\">歌う</span><span style=\"background-color: #FFFEFE\">姿</span><span style=\"background-color: #FFFEFE\">は</span><span style=\"background-color: #FFFEFE\">キュー</span><span style=\"background-color: #FFFEFE\">##ト</span><span style=\"background-color: #FFFEFE\">かつ</span><span style=\"background-color: #FFFEFE\">、</span><span style=\"background-color: #FFFEFE\">パワ</span><span style=\"background-color: #FFFEFE\">##フル</span><span style=\"background-color: #FFF8F8\">。</span><span style=\"background-color: #FFFEFE\">寒い</span><span style=\"background-color: #FFF5F5\">冬</span><span style=\"background-color: #FFFEFE\">に</span><span style=\"background-color: #FFFEFE\">オシ</span><span style=\"background-color: #FFFEFE\">##ャ</span><span style=\"background-color: #FFFCFC\">##レ</span><span style=\"background-color: #FFFEFE\">し</span><span style=\"background-color: #FFFEFE\">て</span><span style=\"background-color: #FFFCFC\">街</span><span style=\"background-color: #FFFEFE\">に</span><span style=\"background-color: #FFFEFE\">飛び</span><span style=\"background-color: #FFFEFE\">##出す</span><span style=\"background-color: #FFFDFD\">楽し</span><span style=\"background-color: #FFFCFC\">さ</span><span style=\"background-color: #FFFEFE\">を</span><span style=\"background-color: #FFFEFE\">届け</span><span style=\"background-color: #FFFDFD\">て</span><span style=\"background-color: #FFF9F9\">くれ</span><span style=\"background-color: #FFF0F0\">ます</span><span style=\"background-color: #FFFEFE\">。</span><span style=\"background-color: #FFF0F0\">宮崎</span><span style=\"background-color: #FFFBFB\">さん</span><span style=\"background-color: #FFFEFE\">が</span><span style=\"background-color: #FFFEFE\">、</span><span style=\"background-color: #FFFEFE\">スキー</span><span style=\"background-color: #FFFEFE\">で</span><span style=\"background-color: #FFFEFE\">カニ</span><span style=\"background-color: #FFFEFE\">歩き</span><span style=\"background-color: #FFFEFE\">し</span><span style=\"background-color: #FFFEFE\">ながら</span><span style=\"background-color: #FFFEFE\">、</span><span style=\"background-color: #FFFEFE\">雪</span><span style=\"background-color: #FFFEFE\">##山</span><span style=\"background-color: #FFFEFE\">を</span><span style=\"background-color: #FFFEFE\">ザク</span><span style=\"background-color: #FFFEFE\">##ザ</span><span style=\"background-color: #FFFEFE\">##ク</span><span style=\"background-color: #FFFEFE\">ある</span><span style=\"background-color: #FFFEFE\">気</span><span style=\"background-color: #FFFEFE\">ながら</span><span style=\"background-color: #FFFEFE\">、</span><span style=\"background-color: #FFFEFE\">スコ</span><span style=\"background-color: #FFFEFE\">##ップ</span><span style=\"background-color: #FFFEFE\">で</span><span style=\"background-color: #FFFEFE\">雪</span><span style=\"background-color: #FFFEFE\">##か</span><span style=\"background-color: #FFFEFE\">##き</span><span style=\"background-color: #FFFEFE\">を</span><span style=\"background-color: #FFFEFE\">し</span><span style=\"background-color: #FFFEFE\">ながら</span><span style=\"background-color: #FFFAFA\">歌う</span><span style=\"background-color: #FFFEFE\">の</span><span style=\"background-color: #FFFEFE\">は</span><span style=\"background-color: #FFFEFE\">「</span><span style=\"background-color: #FFFEFE\">情熱</span><span style=\"background-color: #FFFEFE\">の</span><span style=\"background-color: #FFFCFC\">薔薇</span><span style=\"background-color: #FFF5F5\">」</span><span style=\"background-color: #FFEEEE\">。</span><span style=\"background-color: #FFFEFE\">000</span><span style=\"background-color: #FFFEFE\">##0</span><span style=\"background-color: #FFDADA\">年</span><span style=\"background-color: #FFFEFE\">0</span><span style=\"background-color: #FFFDFD\">月</span><span style=\"background-color: #FFFEFE\">より</span><span style=\"background-color: #FFFDFD\">オンエア</span><span style=\"background-color: #FFFEFE\">が</span><span style=\"background-color: #FFF8F8\">開始</span><span style=\"background-color: #FF8D8D\">し</span><span style=\"background-color: #FFF1F1\">た</span><span style=\"background-color: #FFFEFE\">「</span><span style=\"background-color: #FFFEFE\">e</span><span style=\"background-color: #FFFEFE\">##art</span><span style=\"background-color: #FFFEFE\">##h</span><span style=\"background-color: #FFFEFE\">##mu</span><span style=\"background-color: #FFFEFE\">##s</span><span style=\"background-color: #FFFEFE\">##ic</span><span style=\"background-color: #FFFEFE\">&</span><span style=\"background-color: #FFFDFD\">e</span><span style=\"background-color: #FFFEFE\">##co</span><span style=\"background-color: #FFFAFA\">##lo</span><span style=\"background-color: #FFFDFD\">##g</span><span style=\"background-color: #FFE4E4\">##y</span><span style=\"background-color: #FF5555\">」</span><span style=\"background-color: #FFFBFB\">の</span><span style=\"background-color: #FFFBFB\">CM</span><span style=\"background-color: #FFFDFD\">は</span><span style=\"background-color: #FFFEFE\">、</span><span style=\"background-color: #FFDCDC\">宮崎</span><span style=\"background-color: #FFFCFC\">さん</span><span style=\"background-color: #FFFEFE\">が</span><span style=\"background-color: #FFFEFE\">THE</span><span style=\"background-color: #FFFEFE\">##BL</span><span style=\"background-color: #FFFEFE\">##UE</span><span style=\"background-color: #FFFEFE\">##HE</span><span style=\"background-color: #FFFEFE\">##ART</span><span style=\"background-color: #FFFEFE\">##S</span><span style=\"background-color: #FFFEFE\">の</span><span style=\"background-color: #FFFEFE\">「</span><span style=\"background-color: #FFFEFE\">000</span><span style=\"background-color: #FFFEFE\">##0</span><span style=\"background-color: #FFFEFE\">の</span><span style=\"background-color: #FFFEFE\">バイオ</span><span style=\"background-color: #FFF7F7\">##リン</span><span style=\"background-color: #FFF3F3\">」</span><span style=\"background-color: #FFFEFE\">を</span><span style=\"background-color: #FFFEFE\">熱</span><span style=\"background-color: #FFFEFE\">##唱</span><span style=\"background-color: #FFFEFE\">する</span><span style=\"background-color: #FFFEFE\">という</span><span style=\"background-color: #FFFEFE\">ユニーク</span><span style=\"background-color: #FFFEFE\">な</span><span style=\"background-color: #FFFEFE\">演出</span><span style=\"background-color: #FFFEFE\">が</span><span style=\"background-color: #FFFEFE\">話題</span><span style=\"background-color: #FFFEFE\">を</span><span style=\"background-color: #FFFDFD\">呼び</span><span style=\"background-color: #FFFEFE\">、</span><span style=\"background-color: #FFF9F9\">同局</span><span style=\"background-color: #FFFEFE\">の</span><span style=\"background-color: #FFFEFE\">配信</span><span style=\"background-color: #FFFEFE\">ダウンロード</span><span style=\"background-color: #FFFEFE\">数</span><span style=\"background-color: #FFFEFE\">が</span><span style=\"background-color: #FFFEFE\">圏</span><span style=\"background-color: #FFFEFE\">##外</span><span style=\"background-color: #FFFEFE\">から</span><span style=\"background-color: #FFFEFE\">一気に</span><span style=\"background-color: #FFFEFE\">0</span><span style=\"background-color: #FFFEFE\">位</span><span style=\"background-color: #FFFEFE\">を</span><span style=\"background-color: #FFFEFE\">獲得</span><span style=\"background-color: #FFFEFE\">する</span><span style=\"background-color: #FFFEFE\">という</span><span style=\"background-color: #FFFDFD\">、</span><span style=\"background-color: #FFFDFD\">予想</span><span style=\"background-color: #FFFEFE\">外</span><span style=\"background-color: #FFFEFE\">の</span><span style=\"background-color: #FFFEFE\">反響</span><span style=\"background-color: #FFFDFD\">を</span><span style=\"background-color: #FFF8F8\">得</span><span style=\"background-color: #FFC9C9\">まし</span><span style=\"background-color: #FFF8F8\">た</span><span style=\"background-color: #FFFEFE\">。</span><span style=\"background-color: #FFFCFC\">また</span><span style=\"background-color: #FFFEFE\">、</span><span style=\"background-color: #FFFEFE\">0</span><span style=\"background-color: #FFF0F0\">月</span><span style=\"background-color: #FFFEFE\">から</span><span style=\"background-color: #FFFDFD\">展開</span><span style=\"background-color: #FFFAFA\">し</span><span style=\"background-color: #FFFDFD\">た</span><span style=\"background-color: #FFFDFD\">秋</span><span style=\"background-color: #FFEBEB\">CM</span><span style=\"background-color: #FFFCFC\">で</span><span style=\"background-color: #FFF4F4\">も</span><span style=\"background-color: #FFFDFD\">、</span><span style=\"background-color: #FFF2F2\">宮崎</span><span style=\"background-color: #FFFEFE\">さん</span><span style=\"background-color: #FFFEFE\">着用</span><span style=\"background-color: #FFFBFB\">の</span><span style=\"background-color: #FFFEFE\">ミネ</span><span style=\"background-color: #FFFEFE\">##トン</span><span style=\"background-color: #FFFEFE\">##カ</span><span style=\"background-color: #FFFEFE\">##コラ</span><span style=\"background-color: #FFFEFE\">##ボ</span><span style=\"background-color: #FFFEFE\">##ブー</span><span style=\"background-color: #FFFEFE\">##ツ</span><span style=\"background-color: #FFFDFD\">約</span><span style=\"background-color: #FFFEFE\">0</span><span style=\"background-color: #FFFEFE\">万</span><span style=\"background-color: #FFFEFE\">0</span><span style=\"background-color: #FFFEFE\">,</span><span style=\"background-color: #FFFEFE\">000</span><span style=\"background-color: #FFFDFD\">足</span><span style=\"background-color: #FFFEFE\">が</span><span style=\"background-color: #FFFEFE\">わずか</span><span style=\"background-color: #FFFEFE\">0</span><span style=\"background-color: #FFFEFE\">ヶ月</span><span style=\"background-color: #FFFEFE\">で</span><span style=\"background-color: #FFFEFE\">完売</span><span style=\"background-color: #FFFEFE\">し</span><span style=\"background-color: #FFFEFE\">た</span><span style=\"background-color: #FFFEFE\">他</span><span style=\"background-color: #FFFEFE\">、</span><span style=\"background-color: #FFFEFE\">Web</span><span style=\"background-color: #FFFEFE\">サイト</span><span style=\"background-color: #FFFEFE\">の</span><span style=\"background-color: #FFFEFE\">アクセス</span><span style=\"background-color: #FFFEFE\">数</span><span style=\"background-color: #FFFDFD\">が</span><span style=\"background-color: #FFFCFC\">一時</span><span style=\"background-color: #FFFEFE\">、</span><span style=\"background-color: #FFFEFE\">対</span><span style=\"background-color: #FFFEFE\">前年</span><span style=\"background-color: #FFFEFE\">比</span><span style=\"background-color: #FFFEFE\">000</span><span style=\"background-color: #FFFEFE\">%</span><span style=\"background-color: #FFFEFE\">まで</span><span style=\"background-color: #FFFEFE\">伸びる</span><span style=\"background-color: #FFFEFE\">など</span><span style=\"background-color: #FFFEFE\">引き続き</span><span style=\"background-color: #FFFEFE\">高い</span><span style=\"background-color: #FFFEFE\">人気</span><span style=\"background-color: #FFFEFE\">を</span><span style=\"background-color: #FFFDFD\">誇っ</span><span style=\"background-color: #FFF5F5\">て</span><span style=\"background-color: #FFF2F2\">い</span><span style=\"background-color: #FFE9E9\">ます</span><span style=\"background-color: #FFFEFE\">。</span><span style=\"background-color: #FFF8F8\">こうして</span><span style=\"background-color: #FFFEFE\">、</span><span style=\"background-color: #FFF6F6\">ナチュラル</span><span style=\"background-color: #FFFEFE\">##テイ</span><span style=\"background-color: #FFFEFE\">##スト</span><span style=\"background-color: #FFFEFE\">の</span><span style=\"background-color: #FFCFCF\">ファッション</span><span style=\"background-color: #FFFEFE\">が</span><span style=\"background-color: #FFFEFE\">注目</span><span style=\"background-color: #FFFEFE\">を</span><span style=\"background-color: #FFFEFE\">集める</span><span style=\"background-color: #FFFDFD\">中</span><span style=\"background-color: #FFFEFE\">、</span><span style=\"background-color: #FFF6F6\">新</span><span style=\"background-color: #FFE8E8\">CM</span><span style=\"background-color: #FFFBFB\">で</span><span style=\"background-color: #FFF3F3\">宮崎</span><span style=\"background-color: #FFFEFE\">さん</span><span style=\"background-color: #FFFEFE\">が</span><span style=\"background-color: #FFFDFD\">着用</span><span style=\"background-color: #FFFEFE\">し</span><span style=\"background-color: #FFFEFE\">て</span><span style=\"background-color: #FFF7F7\">いる</span><span style=\"background-color: #FFFEFE\">の</span><span style=\"background-color: #FFFEFE\">は</span><span style=\"background-color: #FFFDFD\">冬</span><span style=\"background-color: #FFFEFE\">に</span><span style=\"background-color: #FFFEFE\">大</span><span style=\"background-color: #FFFEFE\">活躍</span><span style=\"background-color: #FFFCFC\">の</span><span style=\"background-color: #FFFEFE\">「</span><span style=\"background-color: #FFFEFE\">モ</span><span style=\"background-color: #FFFEFE\">##ッズ</span><span style=\"background-color: #FFFEFE\">##コート</span><span style=\"background-color: #FFFEFE\">」</span><span style=\"background-color: #FFFDFD\">と</span><span style=\"background-color: #FFFEFE\">「</span><span style=\"background-color: #FFFEFE\">P</span><span style=\"background-color: #FFF6F6\">コート</span><span style=\"background-color: #FFFEFE\">」</span><span style=\"background-color: #FFFAFA\">。</span><span style=\"background-color: #FFFEFE\">全国</span><span style=\"background-color: #FFFEFE\">の</span><span style=\"background-color: #FFFEFE\">「</span><span style=\"background-color: #FFFEFE\">e</span><span style=\"background-color: #FFFEFE\">##art</span><span style=\"background-color: #FFFEFE\">##h</span><span style=\"background-color: #FFFEFE\">##mu</span><span style=\"background-color: #FFFEFE\">##s</span><span style=\"background-color: #FFFEFE\">##ic</span><span style=\"background-color: #FFFEFE\">&</span><span style=\"background-color: #FFFDFD\">e</span><span style=\"background-color: #FFFEFE\">##co</span><span style=\"background-color: #FFFEFE\">##lo</span><span style=\"background-color: #FFFEFE\">##g</span><span style=\"background-color: #FFFBFB\">##y</span><span style=\"background-color: #FFFEFE\">」</span><span style=\"background-color: #FFFEFE\">で</span><span style=\"background-color: #FFFEFE\">00</span><span style=\"background-color: #FFFEFE\">月</span><span style=\"background-color: #FFFEFE\">00</span><span style=\"background-color: #FFFEFE\">日</span><span style=\"background-color: #FFFEFE\">より</span><span style=\"background-color: #FFFEFE\">販売</span><span style=\"background-color: #FFFDFD\">が</span><span style=\"background-color: #FFC3C3\">開始</span><span style=\"background-color: #FFECEC\">。</span><span style=\"background-color: #FFFBFB\">あなた</span><span style=\"background-color: #FFFDFD\">も</span><span style=\"background-color: #FFFEFE\">「</span><span style=\"background-color: #FFFEFE\">e</span><span style=\"background-color: #FFFEFE\">##art</span><span style=\"background-color: #FFFEFE\">##h</span><span style=\"background-color: #FFFEFE\">##mu</span><span style=\"background-color: #FFFEFE\">##s</span><span style=\"background-color: #FFFEFE\">##ic</span><span style=\"background-color: #FFFEFE\">&</span><span style=\"background-color: #FFFEFE\">e</span><span style=\"background-color: #FFFEFE\">##co</span><span style=\"background-color: #FFFEFE\">##lo</span><span style=\"background-color: #FFFEFE\">##g</span><span style=\"background-color: #FFFCFC\">##y</span><span style=\"background-color: #FFFDFD\">」</span><span style=\"background-color: #FFFDFD\">で</span><span style=\"background-color: #FFFEFE\">冬</span><span style=\"background-color: #FFFEFE\">に</span><span style=\"background-color: #FFF7F7\">負け</span><span style=\"background-color: #FFFEFE\">ない</span><span style=\"background-color: #FFFEFE\">、</span><span style=\"background-color: #FFFEFE\">自分</span><span style=\"background-color: #FFFEFE\">らしい</span><span style=\"background-color: #FFFEFE\">オシ</span><span style=\"background-color: #FFFEFE\">##ャ</span><span style=\"background-color: #FFFBFB\">##レ</span><span style=\"background-color: #FFFEFE\">を</span><br><br>"
            ],
            "text/plain": [
              "<IPython.core.display.HTML object>"
            ]
          },
          "metadata": {
            "tags": []
          }
        },
        {
          "output_type": "display_data",
          "data": {
            "text/html": [
              "正解: smax<br>予測: smax<br><span style=\"background-color: #FFFEFE\">[CLS]</span><span style=\"background-color: #FFECEC\">NTT</span><span style=\"background-color: #FF5F5F\">ドコモ</span><span style=\"background-color: #FFF7F7\">、</span><span style=\"background-color: #FFFEFE\">GA</span><span style=\"background-color: #FFFEFE\">##LA</span><span style=\"background-color: #FFFEFE\">##X</span><span style=\"background-color: #FFFEFE\">##Y</span><span style=\"background-color: #FFDADA\">##T</span><span style=\"background-color: #FFF9F9\">##ab</span><span style=\"background-color: #FFFEFE\">0</span><span style=\"background-color: #FFFEFE\">.</span><span style=\"background-color: #FFFEFE\">0</span><span style=\"background-color: #FFFDFD\">SC</span><span style=\"background-color: #FFFEFE\">-</span><span style=\"background-color: #FFFAFA\">00</span><span style=\"background-color: #FFCACA\">D</span><span style=\"background-color: #FFFEFE\">で</span><span style=\"background-color: #FFFBFB\">Wi</span><span style=\"background-color: #FFFEFE\">-</span><span style=\"background-color: #FFFBFB\">Fi</span><span style=\"background-color: #FFFEFE\">利用</span><span style=\"background-color: #FFFEFE\">時</span><span style=\"background-color: #FFFEFE\">に</span><span style=\"background-color: #FFFEFE\">再</span><span style=\"background-color: #FFFEFE\">起動</span><span style=\"background-color: #FFFEFE\">する</span><span style=\"background-color: #FFFEFE\">不具合</span><span style=\"background-color: #FFFEFE\">で</span><span style=\"background-color: #FFFEFE\">ソフトウェア</span><span style=\"background-color: #FFFEFE\">更新</span><span style=\"background-color: #FFFEFE\">を</span><span style=\"background-color: #FFFEFE\">提供</span><span style=\"background-color: #FFFBFB\">開始</span><span style=\"background-color: #FFFEFE\">GA</span><span style=\"background-color: #FFFEFE\">##LA</span><span style=\"background-color: #FFFEFE\">##X</span><span style=\"background-color: #FFFEFE\">##Y</span><span style=\"background-color: #FFF7F7\">##T</span><span style=\"background-color: #FFEFEF\">##ab</span><span style=\"background-color: #FFFEFE\">0</span><span style=\"background-color: #FFFEFE\">.</span><span style=\"background-color: #FFFEFE\">0</span><span style=\"background-color: #FFFEFE\">SC</span><span style=\"background-color: #FFFDFD\">-</span><span style=\"background-color: #FFFEFE\">00</span><span style=\"background-color: #FFEDED\">D</span><span style=\"background-color: #FFFEFE\">に</span><span style=\"background-color: #FFFEFE\">ソフトウェア</span><span style=\"background-color: #FFF8F8\">更新</span><span style=\"background-color: #FFABAB\">!</span><span style=\"background-color: #FFF4F4\">NTT</span><span style=\"background-color: #FF2F2F\">ドコモ</span><span style=\"background-color: #FFFCFC\">は</span><span style=\"background-color: #FFFEFE\">0</span><span style=\"background-color: #FF0E0E\">日</span><span style=\"background-color: #FFFEFE\">、</span><span style=\"background-color: #FFFEFE\">Android</span><span style=\"background-color: #FFFEFE\">0</span><span style=\"background-color: #FFFEFE\">.</span><span style=\"background-color: #FFFEFE\">x</span><span style=\"background-color: #FFFEFE\">(</span><span style=\"background-color: #FFEBEB\">開発</span><span style=\"background-color: #FFFEFE\">コード</span><span style=\"background-color: #FFFEFE\">名</span><span style=\"background-color: #FFFEFE\">:</span><span style=\"background-color: #FFFEFE\">H</span><span style=\"background-color: #FFFDFD\">##oney</span><span style=\"background-color: #FFFEFE\">##C</span><span style=\"background-color: #FFFEFE\">##omb</span><span style=\"background-color: #FFFEFE\">)</span><span style=\"background-color: #FFFEFE\">を</span><span style=\"background-color: #FFFEFE\">搭載</span><span style=\"background-color: #FFFEFE\">し</span><span style=\"background-color: #FFFEFE\">た</span><span style=\"background-color: #FFFEFE\">0</span><span style=\"background-color: #FFFEFE\">インチ</span><span style=\"background-color: #FFFEFE\">サイズ</span><span style=\"background-color: #FFD3D3\">タブレット</span><span style=\"background-color: #FFFEFE\">「</span><span style=\"background-color: #FFFEFE\">GA</span><span style=\"background-color: #FFFEFE\">##LA</span><span style=\"background-color: #FFFEFE\">##X</span><span style=\"background-color: #FFFEFE\">##Y</span><span style=\"background-color: #FFD7D7\">##T</span><span style=\"background-color: #FFFCFC\">##ab</span><span style=\"background-color: #FFFEFE\">0</span><span style=\"background-color: #FFFEFE\">.</span><span style=\"background-color: #FFFEFE\">0</span><span style=\"background-color: #FFFEFE\">SC</span><span style=\"background-color: #FFFEFE\">-</span><span style=\"background-color: #FFFEFE\">00</span><span style=\"background-color: #FF7979\">D</span><span style=\"background-color: #FFFEFE\">」</span><span style=\"background-color: #FFFEFE\">(</span><span style=\"background-color: #FFFEFE\">サム</span><span style=\"background-color: #FFFDFD\">##スン</span><span style=\"background-color: #FFFEFE\">電子</span><span style=\"background-color: #FFFEFE\">製</span><span style=\"background-color: #FFFEFE\">)</span><span style=\"background-color: #FFFEFE\">において</span><span style=\"background-color: #FFF6F6\">Wi</span><span style=\"background-color: #FFFEFE\">-</span><span style=\"background-color: #FFFDFD\">Fi</span><span style=\"background-color: #FFFEFE\">利用</span><span style=\"background-color: #FFFEFE\">時</span><span style=\"background-color: #FFFEFE\">に</span><span style=\"background-color: #FFFEFE\">まれ</span><span style=\"background-color: #FFFEFE\">に</span><span style=\"background-color: #FFFEFE\">再</span><span style=\"background-color: #FFFEFE\">起動</span><span style=\"background-color: #FFFEFE\">する</span><span style=\"background-color: #FFFEFE\">不具合</span><span style=\"background-color: #FFFEFE\">が</span><span style=\"background-color: #FFFEFE\">ある</span><span style=\"background-color: #FFFDFD\">として</span><span style=\"background-color: #FFFBFB\">ネットワーク</span><span style=\"background-color: #FFFEFE\">経由</span><span style=\"background-color: #FFFEFE\">による</span><span style=\"background-color: #FFFEFE\">本体</span><span style=\"background-color: #FFFEFE\">ファーム</span><span style=\"background-color: #FFFEFE\">##ウェア</span><span style=\"background-color: #FFFEFE\">の</span><span style=\"background-color: #FFFEFE\">アップデート</span><span style=\"background-color: #FFFEFE\">サービス</span><span style=\"background-color: #FFFEFE\">「</span><span style=\"background-color: #FF6464\">ソフトウェア</span><span style=\"background-color: #FFF7F7\">更新</span><span style=\"background-color: #FFFEFE\">」</span><span style=\"background-color: #FFFEFE\">を</span><span style=\"background-color: #FFFEFE\">提供</span><span style=\"background-color: #FFFDFD\">開始</span><span style=\"background-color: #FFFEFE\">し</span><span style=\"background-color: #FFFCFC\">た</span><span style=\"background-color: #FFFEFE\">こと</span><span style=\"background-color: #FFFEFE\">を</span><span style=\"background-color: #FFFEFE\">お</span><span style=\"background-color: #FFEDED\">##知</span><span style=\"background-color: #FFD9D9\">##らせ</span><span style=\"background-color: #FFE4E4\">し</span><span style=\"background-color: #FFF9F9\">て</span><span style=\"background-color: #FFEAEA\">い</span><span style=\"background-color: #FF-DD-DD\">ます</span><span style=\"background-color: #FFFEFE\">。</span><span style=\"background-color: #FFFEFE\">今回</span><span style=\"background-color: #FFFEFE\">の</span><span style=\"background-color: #FFF0F0\">ソフトウェア</span><span style=\"background-color: #FFFBFB\">更新</span><span style=\"background-color: #FFFEFE\">で</span><span style=\"background-color: #FFFEFE\">改善</span><span style=\"background-color: #FFFEFE\">さ</span><span style=\"background-color: #FFFEFE\">れる</span><span style=\"background-color: #FFFEFE\">事象</span><span style=\"background-color: #FFFEFE\">は</span><span style=\"background-color: #FFFEFE\">以下</span><span style=\"background-color: #FFFEFE\">の</span><span style=\"background-color: #FFFEFE\">0</span><span style=\"background-color: #FFFEFE\">点</span><span style=\"background-color: #FFFEFE\">のみ</span><span style=\"background-color: #FF6B6B\">です</span><span style=\"background-color: #FFFEFE\">。</span><span style=\"background-color: #FFFDFD\">更新</span><span style=\"background-color: #FFFEFE\">提供</span><span style=\"background-color: #FFFEFE\">期間</span><span style=\"background-color: #FFF8F8\">は</span><span style=\"background-color: #FFFEFE\">000</span><span style=\"background-color: #FFFDFD\">##0</span><span style=\"background-color: #FFFDFD\">年</span><span style=\"background-color: #FFFEFE\">0</span><span style=\"background-color: #FFFEFE\">月</span><span style=\"background-color: #FFFEFE\">00</span><span style=\"background-color: #FFFEFE\">日</span><span style=\"background-color: #FFFEFE\">まで</span><span style=\"background-color: #FFF7F7\">で</span><span style=\"background-color: #FFFEFE\">、</span><span style=\"background-color: #FFFEFE\">更新</span><span style=\"background-color: #FFFEFE\">に</span><span style=\"background-color: #FFD7D7\">かかる</span><span style=\"background-color: #FFFEFE\">時間</span><span style=\"background-color: #FFFEFE\">は</span><span style=\"background-color: #FFFEFE\">端末</span><span style=\"background-color: #FFFEFE\">本体</span><span style=\"background-color: #FFFEFE\">による</span><span style=\"background-color: #FFFEFE\">方法</span><span style=\"background-color: #FFFEFE\">で</span><span style=\"background-color: #FFFEFE\">約</span><span style=\"background-color: #FFFEFE\">0</span><span style=\"background-color: #FFFEFE\">分</span><span style=\"background-color: #FFFEFE\">、</span><span style=\"background-color: #FFFEFE\">パソコン</span><span style=\"background-color: #FFFEFE\">接続</span><span style=\"background-color: #FFFEFE\">による</span><span style=\"background-color: #FFFEFE\">方法</span><span style=\"background-color: #FFFEFE\">で</span><span style=\"background-color: #FFFEFE\">約</span><span style=\"background-color: #FFFEFE\">00</span><span style=\"background-color: #FFFEFE\">分</span><span style=\"background-color: #FFFEFE\">(</span><span style=\"background-color: #FFFEFE\">更新</span><span style=\"background-color: #FFFEFE\">を</span><span style=\"background-color: #FFFDFD\">行う</span><span style=\"background-color: #FFFDFD\">インターネット</span><span style=\"background-color: #FFFEFE\">回線</span><span style=\"background-color: #FFFEFE\">環境</span><span style=\"background-color: #FFFEFE\">や</span><span style=\"background-color: #FFFEFE\">バックアップ</span><span style=\"background-color: #FFFEFE\">する</span><span style=\"background-color: #FFFEFE\">データ</span><span style=\"background-color: #FFFEFE\">量</span><span style=\"background-color: #FFFEFE\">により</span><span style=\"background-color: #FFFEFE\">異なる</span><span style=\"background-color: #FFFEFE\">場合</span><span style=\"background-color: #FFFEFE\">が</span><span style=\"background-color: #FFFEFE\">あり</span><span style=\"background-color: #FFFDFD\">ます</span><span style=\"background-color: #FFFEFE\">)。</span><span style=\"background-color: #FFFEFE\">GA</span><span style=\"background-color: #FFFEFE\">##LA</span><span style=\"background-color: #FFFEFE\">##X</span><span style=\"background-color: #FFFEFE\">##Y</span><span style=\"background-color: #FFF1F1\">##T</span><span style=\"background-color: #FFFCFC\">##ab</span><span style=\"background-color: #FFFEFE\">0</span><span style=\"background-color: #FFFEFE\">.</span><span style=\"background-color: #FFFEFE\">0</span><span style=\"background-color: #FFFEFE\">SC</span><span style=\"background-color: #FFFEFE\">-</span><span style=\"background-color: #FFFCFC\">00</span><span style=\"background-color: #FFE0E0\">D</span><span style=\"background-color: #FFFEFE\">の</span><span style=\"background-color: #FFFEFE\">ソフトウェア</span><span style=\"background-color: #FFFEFE\">更新</span><span style=\"background-color: #FFFEFE\">は</span><span style=\"background-color: #FFFEFE\">今回</span><span style=\"background-color: #FFFEFE\">で</span><span style=\"background-color: #FFFEFE\">0</span><span style=\"background-color: #FFFDFD\">回</span><span style=\"background-color: #FFFAFA\">目</span><span style=\"background-color: #FFCACA\">です</span><span style=\"background-color: #FFFEFE\">。</span><span style=\"background-color: #FF6D6D\">※</span><span style=\"background-color: #FFFBFB\">下記</span><span style=\"background-color: #FFFEFE\">以外</span><span style=\"background-color: #FFFEFE\">に</span><span style=\"background-color: #FFFEFE\">も</span><span style=\"background-color: #FFFEFE\">、</span><span style=\"background-color: #FFFEFE\">より</span><span style=\"background-color: #FFFEFE\">快適</span><span style=\"background-color: #FFFEFE\">に</span><span style=\"background-color: #FFFCFC\">ご</span><span style=\"background-color: #FFF4F4\">利用</span><span style=\"background-color: #FFFEFE\">いただ</span><span style=\"background-color: #FFFEFE\">##く</span><span style=\"background-color: #FFFEFE\">ため</span><span style=\"background-color: #FFFEFE\">の</span><span style=\"background-color: #FFFEFE\">更新</span><span style=\"background-color: #FFFEFE\">や</span><span style=\"background-color: #FFFEFE\">一部</span><span style=\"background-color: #FFFEFE\">仕様</span><span style=\"background-color: #FFFEFE\">および</span><span style=\"background-color: #FFFEFE\">表示</span><span style=\"background-color: #FFFEFE\">変更</span><span style=\"background-color: #FFFEFE\">など</span><span style=\"background-color: #FFFEFE\">が</span><span style=\"background-color: #FFFEFE\">含ま</span><span style=\"background-color: #FFFEFE\">れ</span><span style=\"background-color: #FFFEFE\">て</span><span style=\"background-color: #FFFEFE\">い</span><span style=\"background-color: #FFF0F0\">ます</span><span style=\"background-color: #FFFEFE\">。</span><span style=\"background-color: #FFFEFE\">改善</span><span style=\"background-color: #FFFEFE\">さ</span><span style=\"background-color: #FFFEFE\">れる</span><span style=\"background-color: #FFFDFD\">事象</span><span style=\"background-color: #FFFDFD\">・</span><span style=\"background-color: #FFF4F4\">Wi</span><span style=\"background-color: #FFFEFE\">-</span><span style=\"background-color: #FFFDFD\">Fi</span><span style=\"background-color: #FFFEFE\">を</span><span style=\"background-color: #FFFEFE\">利用</span><span style=\"background-color: #FFFEFE\">し</span><span style=\"background-color: #FFFEFE\">て</span><span style=\"background-color: #FFFEFE\">いる</span><span style=\"background-color: #FFFEFE\">際</span><span style=\"background-color: #FFFEFE\">に</span><span style=\"background-color: #FFFEFE\">、</span><span style=\"background-color: #FFF8F8\">タブレット</span><span style=\"background-color: #FFFEFE\">端末</span><span style=\"background-color: #FFFEFE\">本体</span><span style=\"background-color: #FFFEFE\">が</span><span style=\"background-color: #FFFEFE\">再</span><span style=\"background-color: #FFFEFE\">起動</span><span style=\"background-color: #FFFEFE\">する</span><span style=\"background-color: #FFFEFE\">場合</span><span style=\"background-color: #FFFEFE\">が</span><span style=\"background-color: #FFFEFE\">ある</span><span style=\"background-color: #FFFEFE\">。</span><span style=\"background-color: #FFD2D2\">ソフトウェア</span><span style=\"background-color: #FFFEFE\">更新</span><span style=\"background-color: #FFFEFE\">は</span><span style=\"background-color: #FFFEFE\">、</span><span style=\"background-color: #FFFEFE\">本体</span><span style=\"background-color: #FFFEFE\">のみ</span><span style=\"background-color: #FFFEFE\">で</span><span style=\"background-color: #FFFEFE\">パケット</span><span style=\"background-color: #FFFEFE\">通信</span><span style=\"background-color: #FFFEFE\">で</span><span style=\"background-color: #FFFEFE\">行う</span><span style=\"background-color: #FFFEFE\">方法</span><span style=\"background-color: #FFFEFE\">と</span><span style=\"background-color: #FFFEFE\">、</span><span style=\"background-color: #FFFEFE\">パソコン</span><span style=\"background-color: #FFFEFE\">に</span><span style=\"background-color: #FFFEFE\">USB</span><span style=\"background-color: #FFFEFE\">ケーブル</span><span style=\"background-color: #FFFEFE\">で</span><span style=\"background-color: #FFFEFE\">接続</span><span style=\"background-color: #FFFEFE\">し</span><span style=\"background-color: #FFFEFE\">て</span><span style=\"background-color: #FFFEFE\">行う</span><span style=\"background-color: #FFFEFE\">方法</span><span style=\"background-color: #FFFEFE\">が</span><span style=\"background-color: #FFFEFE\">用意</span><span style=\"background-color: #FFFEFE\">さ</span><span style=\"background-color: #FFFEFE\">れ</span><span style=\"background-color: #FFFEFE\">て</span><span style=\"background-color: #FFFDFD\">い</span><span style=\"background-color: #FFC7C7\">ます</span><span style=\"background-color: #FFFEFE\">。</span><span style=\"background-color: #FFFEFE\">操作</span><span style=\"background-color: #FFFEFE\">手順</span><span style=\"background-color: #FFF7F7\">は</span><span style=\"background-color: #FFFBFB\">、</span><span style=\"background-color: #FFF8F8\">それぞれ</span><span style=\"background-color: #FFFEFE\">「</span><span style=\"background-color: #FFFCFC\">端末</span><span style=\"background-color: #FFFEFE\">本体</span><span style=\"background-color: #FFFEFE\">による</span><span style=\"background-color: #FFFEFE\">操作</span><span style=\"background-color: #FFFEFE\">手順</span><span style=\"background-color: #FFFEFE\">|</span><span style=\"background-color: #FFD6D6\">お客</span><span style=\"background-color: #FFF2F2\">##様</span><span style=\"background-color: #FFFEFE\">サポート</span><span style=\"background-color: #FFFEFE\">|</span><span style=\"background-color: #FFFEFE\">NTT</span><span style=\"background-color: #FFE9E9\">ドコモ</span><span style=\"background-color: #FFFEFE\">」</span><span style=\"background-color: #FFFDFD\">および</span><span style=\"background-color: #FFFEFE\">「</span><span style=\"background-color: #FFFEFE\">パソコン</span><span style=\"background-color: #FFFEFE\">接続</span><span style=\"background-color: #FFFEFE\">による</span><span style=\"background-color: #FFFEFE\">操作</span><span style=\"background-color: #FFFEFE\">手順</span><span style=\"background-color: #FFFEFE\">|</span><span style=\"background-color: #FFE0E0\">お客</span><span style=\"background-color: #FFF8F8\">##様</span><span style=\"background-color: #FFFEFE\">サポート</span><span style=\"background-color: #FFFEFE\">|</span><span style=\"background-color: #FFFEFE\">NTT</span><span style=\"background-color: #FFE5E5\">ドコモ</span><span style=\"background-color: #FFFEFE\">」</span><span style=\"background-color: #FFFEFE\">を</span><span style=\"background-color: #FFFDFD\">参照</span><span style=\"background-color: #FFFEFE\">し</span><span style=\"background-color: #FFFBFB\">て</span><span style=\"background-color: #FFACAC\">ください</span><span style=\"background-color: #FFFEFE\">。</span><span style=\"background-color: #FFFEFE\">また</span><span style=\"background-color: #FFFEFE\">、</span><span style=\"background-color: #FFFEFE\">本体</span><span style=\"background-color: #FFFEFE\">のみ</span><span style=\"background-color: #FFFEFE\">で</span><span style=\"background-color: #FFFEFE\">更新</span><span style=\"background-color: #FFFEFE\">を</span><span style=\"background-color: #FFFEFE\">する</span><span style=\"background-color: #FFFEFE\">場合</span><span style=\"background-color: #FFFEFE\">に</span><span style=\"background-color: #FFFEFE\">は</span><span style=\"background-color: #FFFEFE\">、</span><span style=\"background-color: #FFFEFE\">自動</span><span style=\"background-color: #FFFEFE\">更新</span><span style=\"background-color: #FFFEFE\">に</span><span style=\"background-color: #FFFEFE\">非</span><span style=\"background-color: #FFFEFE\">対応</span><span style=\"background-color: #FFFEFE\">と</span><span style=\"background-color: #FFFEFE\">なっ</span><span style=\"background-color: #FFFEFE\">て</span><span style=\"background-color: #FFFEFE\">い</span><span style=\"background-color: #FFFCFC\">ます</span><span style=\"background-color: #FFFEFE\">ので</span><span style=\"background-color: #FFFEFE\">、</span><span style=\"background-color: #FFFEFE\">手動</span><span style=\"background-color: #FFFEFE\">で</span><span style=\"background-color: #FFFEFE\">ホーム</span><span style=\"background-color: #FFFEFE\">画面</span><span style=\"background-color: #FFFAFA\">で</span><span style=\"background-color: #FFFEFE\">メニュー</span><span style=\"background-color: #FFFEFE\">を</span><span style=\"background-color: #FFFEFE\">押し</span><span style=\"background-color: #FFFDFD\">て</span><span style=\"background-color: #FFFEFE\">、</span><span style=\"background-color: #FFFEFE\">設定</span><span style=\"background-color: #FFE9E9\">の</span><span style=\"background-color: #FFFDFD\">端末</span><span style=\"background-color: #FFFEFE\">情報</span><span style=\"background-color: #FFFDFD\">から</span><span style=\"background-color: #FFFEFE\">更新</span><span style=\"background-color: #FFFEFE\">を</span><span style=\"background-color: #FFFDFD\">行い</span><span style=\"background-color: #FFFCFC\">ます</span><span style=\"background-color: #FFFEFE\">。</span><span style=\"background-color: #FFFEFE\">また</span><span style=\"background-color: #FFFEFE\">、</span><span style=\"background-color: #FFFEFE\">更新</span><span style=\"background-color: #FFFEFE\">に</span><span style=\"background-color: #FFF6F6\">は</span><span style=\"background-color: #FFFEFE\">Google</span><span style=\"background-color: #FFFEFE\">アカウント</span><span style=\"background-color: #FFFEFE\">の</span><span style=\"background-color: #FFFEFE\">設定</span><span style=\"background-color: #FFFEFE\">が</span><span style=\"background-color: #FFFDFD\">必要</span><span style=\"background-color: #FFFEFE\">と</span><span style=\"background-color: #FFFEFE\">の</span><span style=\"background-color: #FFFEFE\">こと</span><span style=\"background-color: #FFE7E7\">です</span><span style=\"background-color: #FFFEFE\">。</span><span style=\"background-color: #FFFEFE\">パソコン</span><span style=\"background-color: #FFFEFE\">を</span><span style=\"background-color: #FFFEFE\">用い</span><span style=\"background-color: #FFFEFE\">て</span><span style=\"background-color: #FFFEFE\">更新</span><span style=\"background-color: #FFFEFE\">する</span><span style=\"background-color: #FFFEFE\">場合</span><span style=\"background-color: #FFFEFE\">は</span><span style=\"background-color: #FFFEFE\">、</span><span style=\"background-color: #FFFAFA\">事前</span><span style=\"background-color: #FFFEFE\">に</span><span style=\"background-color: #FFFEFE\">パソコン</span><span style=\"background-color: #FFFDFD\">に</span><span style=\"background-color: #FFFEFE\">サム</span><span style=\"background-color: #FFFDFD\">##スン</span><span style=\"background-color: #FFFEFE\">電子</span><span style=\"background-color: #FFFEFE\">製</span><span style=\"background-color: #FFFEFE\">の</span><span style=\"background-color: #FFFEFE\">ユーティ</span><span style=\"background-color: #FFFEFE\">##リティー</span><span style=\"background-color: #FFFEFE\">ソフト</span><span style=\"background-color: #FFFEFE\">「</span><span style=\"background-color: #FFFEFE\">Sam</span><span style=\"background-color: #FFFDFD\">##s</span><span style=\"background-color: #FFFDFD\">##ung</span><span style=\"background-color: #FFF1F1\">##K</span><span style=\"background-color: #FFFAFA\">##ies</span><span style=\"background-color: #FFFEFE\">」</span><span style=\"background-color: #FFFEFE\">を</span><span style=\"background-color: #FFFEFE\">ダウンロード</span><span style=\"background-color: #FFFEFE\">し</span><span style=\"background-color: #FFFEFE\">て</span><span style=\"background-color: #FFFEFE\">、</span><span style=\"background-color: #FFFEFE\">インストール</span><span style=\"background-color: #FFFDFD\">し</span><span style=\"background-color: #FFFEFE\">て</span><span style=\"background-color: #FFFEFE\">おく</span><span style=\"background-color: #FFFEFE\">必要</span><span style=\"background-color: #FFFEFE\">が</span><span style=\"background-color: #FFFDFD\">あり</span><span style=\"background-color: #FFF8F8\">ます</span><span style=\"background-color: #FFFEFE\">。</span><span style=\"background-color: #FFFBFB\">この</span><span style=\"background-color: #FFFDFD\">更新</span><span style=\"background-color: #FFDDDD\">で</span><span style=\"background-color: #FFD8D8\">、</span><span style=\"background-color: #FFFEFE\">ビル</span><span style=\"background-color: #FFFCFC\">##ド</span><span style=\"background-color: #FFFEFE\">番号</span><span style=\"background-color: #FFEDED\">が</span><span style=\"background-color: #FFFEFE\">「</span><span style=\"background-color: #FFFEFE\">HT</span><span style=\"background-color: #FFFEFE\">##J</span><span style=\"background-color: #FFFEFE\">00</span><span style=\"background-color: #FFFDFD\">B</span><span style=\"background-color: #FFFDFD\">.</span><span style=\"background-color: #FFFEFE\">0</span><span style=\"background-color: #FFFEFE\">DO</span><span style=\"background-color: #FFFEFE\">##M</span><span style=\"background-color: #FFFEFE\">##K</span><span style=\"background-color: #FFFEFE\">##K</span><span style=\"background-color: #FFFEFE\">0</span><span style=\"background-color: #FFFEFE\">SC</span><span style=\"background-color: #FFFEFE\">00</span><span style=\"background-color: #FFFEFE\">DO</span><span style=\"background-color: #FFFEFE\">##M</span><span style=\"background-color: #FFFEFE\">##K</span><span style=\"background-color: #FFFAFA\">##K</span><span style=\"background-color: #FFFEFE\">0</span><span style=\"background-color: #FFFEFE\">」</span><span style=\"background-color: #FFFEFE\">「</span><span style=\"background-color: #FFFEFE\">HT</span><span style=\"background-color: #FFFEFE\">##J</span><span style=\"background-color: #FFFEFE\">00</span><span style=\"background-color: #FFFEFE\">B</span><span style=\"background-color: #FFFEFE\">.</span><span style=\"background-color: #FFFEFE\">O</span><span style=\"background-color: #FFFEFE\">##ML</span><span style=\"background-color: #FFFEFE\">##D</span><span style=\"background-color: #FFFEFE\">0</span><span style=\"background-color: #FFFEFE\">SC</span><span style=\"background-color: #FFFEFE\">00</span><br><br>"
            ],
            "text/plain": [
              "<IPython.core.display.HTML object>"
            ]
          },
          "metadata": {
            "tags": []
          }
        },
        {
          "output_type": "display_data",
          "data": {
            "text/html": [
              "正解: homme<br>予測: homme<br><span style=\"background-color: #FFFEFE\">[CLS]</span><span style=\"background-color: #FFEAEA\">【</span><span style=\"background-color: #FFEEEE\">特集</span><span style=\"background-color: #FFDADA\">/</span><span style=\"background-color: #FFFCFC\">JO</span><span style=\"background-color: #FFFAFA\">##UR</span><span style=\"background-color: #FFFBFB\">##N</span><span style=\"background-color: #FFF4F4\">##E</span><span style=\"background-color: #FF3C3C\">##Y</span><span style=\"background-color: #FF1010\">】</span><span style=\"background-color: #FFFDFD\">刺激</span><span style=\"background-color: #FFFDFD\">的</span><span style=\"background-color: #FFFEFE\">で</span><span style=\"background-color: #FFFDFD\">優しい</span><span style=\"background-color: #FF5656\">アラブ</span><span style=\"background-color: #FFFEFE\">の</span><span style=\"background-color: #FFFDFD\">国</span><span style=\"background-color: #FFE5E5\">へ</span><span style=\"background-color: #FFFDFD\">(</span><span style=\"background-color: #FFFCFC\">0</span><span style=\"background-color: #FF9595\">/</span><span style=\"background-color: #FFE3E3\">0</span><span style=\"background-color: #FFF5F5\">)</span><span style=\"background-color: #FFC0C0\">みなさ</span><span style=\"background-color: #FFF3F3\">##ん</span><span style=\"background-color: #FFFDFD\">は</span><span style=\"background-color: #FFE0E0\">ドバイ</span><span style=\"background-color: #FFFEFE\">に</span><span style=\"background-color: #FFFBFB\">どの</span><span style=\"background-color: #FFEAEA\">よう</span><span style=\"background-color: #FFFDFD\">な</span><span style=\"background-color: #FFFCFC\">イメージ</span><span style=\"background-color: #FFFEFE\">を</span><span style=\"background-color: #FFFEFE\">お</span><span style=\"background-color: #FFFEFE\">持ち</span><span style=\"background-color: #FFECEC\">だろ</span><span style=\"background-color: #FFEDED\">う</span><span style=\"background-color: #FFFCFC\">か</span><span style=\"background-color: #FFF7F7\">。</span><span style=\"background-color: #FFFAFA\">オイル</span><span style=\"background-color: #FFFEFE\">マネー</span><span style=\"background-color: #FFFEFE\">が</span><span style=\"background-color: #FFFEFE\">渦巻</span><span style=\"background-color: #FFFEFE\">##く</span><span style=\"background-color: #FFFDFD\">リッチ</span><span style=\"background-color: #FFFEFE\">な</span><span style=\"background-color: #FFFCFC\">王国</span><span style=\"background-color: #FFF6F6\">?</span><span style=\"background-color: #FFFEFE\">高層</span><span style=\"background-color: #FFFBFB\">建築</span><span style=\"background-color: #FFFEFE\">が</span><span style=\"background-color: #FFFEFE\">立ち並</span><span style=\"background-color: #FFFEFE\">##ぶ</span><span style=\"background-color: #FFFEFE\">近代</span><span style=\"background-color: #FFFEFE\">的</span><span style=\"background-color: #FFFEFE\">な</span><span style=\"background-color: #FFF5F5\">メトロ</span><span style=\"background-color: #FFF6F6\">シティ</span><span style=\"background-color: #FFFAFA\">?</span><span style=\"background-color: #FFFBFB\">あるいは</span><span style=\"background-color: #FFFCFC\">世界</span><span style=\"background-color: #FFFEFE\">各国</span><span style=\"background-color: #FFFEFE\">の</span><span style=\"background-color: #FFFBFB\">セレ</span><span style=\"background-color: #FFFBFB\">##ブリ</span><span style=\"background-color: #FFCBCB\">##ティ</span><span style=\"background-color: #FFFEFE\">が</span><span style=\"background-color: #FFFEFE\">訪れる</span><span style=\"background-color: #FFF9F9\">高級</span><span style=\"background-color: #FFF6F6\">リゾート</span><span style=\"background-color: #FFFDFD\">地</span><span style=\"background-color: #FFF2F2\">?</span><span style=\"background-color: #FFFAFA\">もちろん</span><span style=\"background-color: #FFFCFC\">、</span><span style=\"background-color: #FFFDFD\">どれ</span><span style=\"background-color: #FFFEFE\">も</span><span style=\"background-color: #FFFEFE\">大</span><span style=\"background-color: #FFFDFD\">正解</span><span style=\"background-color: #FFBDBD\">。</span><span style=\"background-color: #FFF8F8\">ただし</span><span style=\"background-color: #FFFEFE\">、</span><span style=\"background-color: #FFFEFE\">実際</span><span style=\"background-color: #FFFEFE\">に</span><span style=\"background-color: #FFFCFC\">この</span><span style=\"background-color: #FFEEEE\">地</span><span style=\"background-color: #FFFEFE\">を</span><span style=\"background-color: #FFFDFD\">訪れ</span><span style=\"background-color: #FFFEFE\">て</span><span style=\"background-color: #FFFDFD\">みる</span><span style=\"background-color: #FFFEFE\">と</span><span style=\"background-color: #FFFEFE\">逆</span><span style=\"background-color: #FFFEFE\">に</span><span style=\"background-color: #FFFEFE\">どれ</span><span style=\"background-color: #FFFEFE\">も</span><span style=\"background-color: #FFFEFE\">完全</span><span style=\"background-color: #FFFEFE\">に</span><span style=\"background-color: #FFFEFE\">は</span><span style=\"background-color: #FFFEFE\">言い</span><span style=\"background-color: #FFFEFE\">得</span><span style=\"background-color: #FFFEFE\">て</span><span style=\"background-color: #FFFEFE\">い</span><span style=\"background-color: #FFFEFE\">ない</span><span style=\"background-color: #FFFDFD\">こと</span><span style=\"background-color: #FFFEFE\">に</span><span style=\"background-color: #FFFEFE\">気が</span><span style=\"background-color: #FFFEFE\">##つく</span><span style=\"background-color: #FFFBFB\">はず</span><span style=\"background-color: #FF9595\">だ</span><span style=\"background-color: #FFFEFE\">。</span><span style=\"background-color: #FFEDED\">ドバイ</span><span style=\"background-color: #FFFEFE\">に</span><span style=\"background-color: #FFFEFE\">限っ</span><span style=\"background-color: #FFFEFE\">た</span><span style=\"background-color: #FFF9F9\">話</span><span style=\"background-color: #FFFEFE\">で</span><span style=\"background-color: #FFFEFE\">は</span><span style=\"background-color: #FFFCFC\">ない</span><span style=\"background-color: #FFD4D4\">けれ</span><span style=\"background-color: #FFFAFA\">##ど</span><span style=\"background-color: #FFFDFD\">、</span><span style=\"background-color: #FFFCFC\">この</span><span style=\"background-color: #FFFEFE\">”</span><span style=\"background-color: #FFFEFE\">言い</span><span style=\"background-color: #FFFEFE\">得</span><span style=\"background-color: #FFFEFE\">て</span><span style=\"background-color: #FFFEFE\">い</span><span style=\"background-color: #FFFEFE\">ない</span><span style=\"background-color: #FFFDFD\">”</span><span style=\"background-color: #FFCECE\">部分</span><span style=\"background-color: #FFF3F3\">を</span><span style=\"background-color: #FFFDFD\">体感</span><span style=\"background-color: #FFFEFE\">する</span><span style=\"background-color: #FFFDFD\">こそ</span><span style=\"background-color: #FFDADA\">旅</span><span style=\"background-color: #FFFEFE\">の</span><span style=\"background-color: #FFF9F9\">醍醐</span><span style=\"background-color: #FFF5F5\">##味</span><span style=\"background-color: #FFDBDB\">。</span><span style=\"background-color: #FFFCFC\">l</span><span style=\"background-color: #FFFDFD\">##ive</span><span style=\"background-color: #FFFEFE\">##d</span><span style=\"background-color: #FFFCFC\">##oo</span><span style=\"background-color: #FFFBFB\">##r</span><span style=\"background-color: #FFF6F6\">##HO</span><span style=\"background-color: #FFEEEE\">##MM</span><span style=\"background-color: #FFB9B9\">##E</span><span style=\"background-color: #FFC3C3\">で</span><span style=\"background-color: #FFFCFC\">は</span><span style=\"background-color: #FFFDFD\">、</span><span style=\"background-color: #FFFAFA\">世界</span><span style=\"background-color: #FFFEFE\">各地</span><span style=\"background-color: #FFFEFE\">に</span><span style=\"background-color: #FFE7E7\">旅人</span><span style=\"background-color: #FFFCFC\">として</span><span style=\"background-color: #FFF7F7\">訪れ</span><span style=\"background-color: #FFF8F8\">、</span><span style=\"background-color: #FFF7F7\">そんな</span><span style=\"background-color: #FFFEFE\">”</span><span style=\"background-color: #FFFEFE\">言い</span><span style=\"background-color: #FFFEFE\">得</span><span style=\"background-color: #FFFEFE\">て</span><span style=\"background-color: #FFFEFE\">い</span><span style=\"background-color: #FFFEFE\">ない</span><span style=\"background-color: #FFFEFE\">”</span><span style=\"background-color: #FFFBFB\">部分</span><span style=\"background-color: #FFFEFE\">を</span><span style=\"background-color: #FFFEFE\">フュー</span><span style=\"background-color: #FFFEFE\">##チャー</span><span style=\"background-color: #FFFCFC\">し</span><span style=\"background-color: #FFFBFB\">て</span><span style=\"background-color: #FFDADA\">いき</span><span style=\"background-color: #FFF6F6\">たい</span><span style=\"background-color: #FFFCFC\">と</span><span style=\"background-color: #FF0909\">思う</span><span style=\"background-color: #FFFCFC\">。</span><span style=\"background-color: #FFCDCD\">旅人</span><span style=\"background-color: #FFFEFE\">の</span><span style=\"background-color: #FFFEFE\">心</span><span style=\"background-color: #FFFEFE\">を</span><span style=\"background-color: #FFFAFA\">動かす</span><span style=\"background-color: #FFFEFE\">多様</span><span style=\"background-color: #FFFEFE\">性</span><span style=\"background-color: #FFFEFE\">の</span><span style=\"background-color: #FFFEFE\">ある</span><span style=\"background-color: #FFFEFE\">街</span><span style=\"background-color: #FFFEFE\">000</span><span style=\"background-color: #FFFEFE\">m</span><span style=\"background-color: #FFFEFE\">の</span><span style=\"background-color: #FFFEFE\">高</span><span style=\"background-color: #FFFEFE\">さ</span><span style=\"background-color: #FFFEFE\">を</span><span style=\"background-color: #FFFEFE\">誇る</span><span style=\"background-color: #FFFEFE\">世界一</span><span style=\"background-color: #FFFEFE\">の</span><span style=\"background-color: #FFFEFE\">高層</span><span style=\"background-color: #FFFEFE\">建築</span><span style=\"background-color: #FFFEFE\">「</span><span style=\"background-color: #FFFCFC\">バージ</span><span style=\"background-color: #FFFEFE\">##ュ</span><span style=\"background-color: #FFFEFE\">##・</span><span style=\"background-color: #FFFEFE\">##カリ</span><span style=\"background-color: #FFFEFE\">##ファ</span><span style=\"background-color: #FFF2F2\">」</span><span style=\"background-color: #FFFEFE\">や</span><span style=\"background-color: #FFFEFE\">、</span><span style=\"background-color: #FFFEFE\">世界</span><span style=\"background-color: #FFFEFE\">最大</span><span style=\"background-color: #FFFEFE\">の</span><span style=\"background-color: #FFFEFE\">ショッピング</span><span style=\"background-color: #FFFEFE\">モール</span><span style=\"background-color: #FFFEFE\">「</span><span style=\"background-color: #FFF9F9\">ドバイ</span><span style=\"background-color: #FFFEFE\">・</span><span style=\"background-color: #FFFCFC\">モール</span><span style=\"background-color: #FFFBFB\">」</span><span style=\"background-color: #FFFDFD\">など</span><span style=\"background-color: #FFFBFB\">の</span><span style=\"background-color: #FFFEFE\">イメージ</span><span style=\"background-color: #FFFEFE\">が</span><span style=\"background-color: #FFFEFE\">強烈</span><span style=\"background-color: #FFFEFE\">な</span><span style=\"background-color: #FFFEFE\">せい</span><span style=\"background-color: #FFFEFE\">か</span><span style=\"background-color: #FFFEFE\">、</span><span style=\"background-color: #FFFEFE\">人工</span><span style=\"background-color: #FFFEFE\">的</span><span style=\"background-color: #FFFEFE\">な</span><span style=\"background-color: #FFFDFD\">近代</span><span style=\"background-color: #FFF0F0\">建築</span><span style=\"background-color: #FFFEFE\">が</span><span style=\"background-color: #FFFEFE\">立ち並</span><span style=\"background-color: #FFFEFE\">##ぶ</span><span style=\"background-color: #FFFEFE\">近</span><span style=\"background-color: #FFFDFD\">未来</span><span style=\"background-color: #FFFAFA\">都市</span><span style=\"background-color: #FFFEFE\">の</span><span style=\"background-color: #FFFEFE\">よう</span><span style=\"background-color: #FFFEFE\">に</span><span style=\"background-color: #FFFDFD\">お</span><span style=\"background-color: #FFFEFE\">考え</span><span style=\"background-color: #FFFEFE\">の</span><span style=\"background-color: #FFF2F2\">方</span><span style=\"background-color: #FFF6F6\">も</span><span style=\"background-color: #FFFEFE\">いる</span><span style=\"background-color: #FFF5F5\">かも</span><span style=\"background-color: #FFE5E5\">しれ</span><span style=\"background-color: #FFF1F1\">ない</span><span style=\"background-color: #FFFEFE\">。</span><span style=\"background-color: #FFF8F8\">だが</span><span style=\"background-color: #FFFEFE\">、</span><span style=\"background-color: #FFFBFB\">じ</span><span style=\"background-color: #FFFDFD\">##つ</span><span style=\"background-color: #FFFDFD\">##は</span><span style=\"background-color: #FFFDFD\">そんな</span><span style=\"background-color: #FFF9F9\">高層</span><span style=\"background-color: #FFFAFA\">建築</span><span style=\"background-color: #FFFEFE\">が</span><span style=\"background-color: #FFFEFE\">集まっ</span><span style=\"background-color: #FFFEFE\">て</span><span style=\"background-color: #FFFEFE\">いる</span><span style=\"background-color: #FFFEFE\">の</span><span style=\"background-color: #FFFEFE\">は</span><span style=\"background-color: #FFFEFE\">狭い</span><span style=\"background-color: #FFA8A8\">ドバイ</span><span style=\"background-color: #FFFEFE\">の</span><span style=\"background-color: #FFFEFE\">中</span><span style=\"background-color: #FFFEFE\">の</span><span style=\"background-color: #FFFEFE\">ほんの</span><span style=\"background-color: #FFFEFE\">一部</span><span style=\"background-color: #FFFDFD\">。</span><span style=\"background-color: #FFFEFE\">中心</span><span style=\"background-color: #FFFEFE\">街</span><span style=\"background-color: #FFFEFE\">から</span><span style=\"background-color: #FFFDFD\">クル</span><span style=\"background-color: #FFFCFC\">##マ</span><span style=\"background-color: #FFFEFE\">で</span><span style=\"background-color: #FFFEFE\">0</span><span style=\"background-color: #FFFEFE\">分</span><span style=\"background-color: #FFFEFE\">も</span><span style=\"background-color: #FFFEFE\">走</span><span style=\"background-color: #FFF7F7\">##れ</span><span style=\"background-color: #FFFEFE\">ば</span><span style=\"background-color: #FFFEFE\">、</span><span style=\"background-color: #FFFEFE\">すぐ</span><span style=\"background-color: #FFFEFE\">に</span><span style=\"background-color: #FFFEFE\">ローカル</span><span style=\"background-color: #FFFEFE\">の</span><span style=\"background-color: #FFF4F4\">人</span><span style=\"background-color: #FFFEFE\">たち</span><span style=\"background-color: #FFFEFE\">が</span><span style=\"background-color: #FFFEFE\">暮らす</span><span style=\"background-color: #FFE0E0\">住宅</span><span style=\"background-color: #FFFEFE\">地</span><span style=\"background-color: #FFFEFE\">に</span><span style=\"background-color: #FFDBDB\">なる</span><span style=\"background-color: #FFFEFE\">。</span><span style=\"background-color: #FFFCFC\">敬虔</span><span style=\"background-color: #FFFEFE\">な</span><span style=\"background-color: #FFFBFB\">イスラム</span><span style=\"background-color: #FFF5F5\">教徒</span><span style=\"background-color: #FFFEFE\">が</span><span style=\"background-color: #FFFEFE\">多い</span><span style=\"background-color: #FFF8F8\">この</span><span style=\"background-color: #FFF3F3\">国</span><span style=\"background-color: #FFFEFE\">は</span><span style=\"background-color: #FFF9F9\">モスク</span><span style=\"background-color: #FFFDFD\">の</span><span style=\"background-color: #FFFEFE\">多</span><span style=\"background-color: #FFF9F9\">さ</span><span style=\"background-color: #FFFEFE\">も</span><span style=\"background-color: #FFFDFD\">かなり</span><span style=\"background-color: #FFFEFE\">の</span><span style=\"background-color: #FFFEFE\">もの</span><span style=\"background-color: #FFFCFC\">。</span><span style=\"background-color: #FFFEFE\">戒</span><span style=\"background-color: #FFFEFE\">##律</span><span style=\"background-color: #FFFEFE\">が</span><span style=\"background-color: #FFFEFE\">厳しい</span><span style=\"background-color: #FFFDFD\">こと</span><span style=\"background-color: #FFFEFE\">で</span><span style=\"background-color: #FFFEFE\">知ら</span><span style=\"background-color: #FFFEFE\">れる</span><span style=\"background-color: #FFE7E7\">イスラム教</span><span style=\"background-color: #FFFEFE\">だけ</span><span style=\"background-color: #FFFEFE\">に</span><span style=\"background-color: #FFFEFE\">、</span><span style=\"background-color: #FFFEFE\">残念</span><span style=\"background-color: #FFFDFD\">ながら</span><span style=\"background-color: #FFF8F8\">異教</span><span style=\"background-color: #FFFDFD\">##徒</span><span style=\"background-color: #FFFEFE\">が</span><span style=\"background-color: #FFFEFE\">モスク</span><span style=\"background-color: #FFFEFE\">に</span><span style=\"background-color: #FFFEFE\">入る</span><span style=\"background-color: #FFFEFE\">こと</span><span style=\"background-color: #FFFEFE\">は</span><span style=\"background-color: #FFFEFE\">でき</span><span style=\"background-color: #FFFEFE\">ない</span><span style=\"background-color: #FFFEFE\">が</span><span style=\"background-color: #FFFDFD\">、</span><span style=\"background-color: #FFFCFC\">それでも</span><span style=\"background-color: #FFFEFE\">伝統</span><span style=\"background-color: #FFFEFE\">的</span><span style=\"background-color: #FFFEFE\">な</span><span style=\"background-color: #FFFDFD\">イスラム</span><span style=\"background-color: #FFFBFB\">建築</span><span style=\"background-color: #FFFEFE\">で</span><span style=\"background-color: #FFFEFE\">建て</span><span style=\"background-color: #FFFEFE\">られ</span><span style=\"background-color: #FFFEFE\">た</span><span style=\"background-color: #FFFCFC\">建物</span><span style=\"background-color: #FFFEFE\">を</span><span style=\"background-color: #FFFEFE\">見る</span><span style=\"background-color: #FFFEFE\">だけ</span><span style=\"background-color: #FFFEFE\">でも</span><span style=\"background-color: #FFFEFE\">かなり</span><span style=\"background-color: #FFFDFD\">楽しめる</span><span style=\"background-color: #FFFCFC\">と</span><span style=\"background-color: #FFAEAE\">思う</span><span style=\"background-color: #FFFEFE\">。</span><span style=\"background-color: #FFFEFE\">街</span><span style=\"background-color: #FFFEFE\">を</span><span style=\"background-color: #FFFEFE\">散</span><span style=\"background-color: #FFFEFE\">##策</span><span style=\"background-color: #FFFBFB\">し</span><span style=\"background-color: #FFFDFD\">て</span><span style=\"background-color: #FFF7F7\">いる</span><span style=\"background-color: #FFF9F9\">と</span><span style=\"background-color: #FFFCFC\">、</span><span style=\"background-color: #FFFEFE\">どこ</span><span style=\"background-color: #FFFEFE\">から</span><span style=\"background-color: #FFFEFE\">とも</span><span style=\"background-color: #FFFEFE\">なく</span><span style=\"background-color: #FFFEFE\">礼拝</span><span style=\"background-color: #FFFDFD\">時間</span><span style=\"background-color: #FFFDFD\">を</span><span style=\"background-color: #FFFAFA\">知らせる</span><span style=\"background-color: #FFFEFE\">アザ</span><span style=\"background-color: #FFFEFE\">##ーン</span><span style=\"background-color: #FFFEFE\">の</span><span style=\"background-color: #FFFEFE\">音</span><span style=\"background-color: #FFFEFE\">が</span><span style=\"background-color: #FFFEFE\">聞こえ</span><span style=\"background-color: #FFFEFE\">て</span><span style=\"background-color: #FFFAFA\">くる</span><span style=\"background-color: #FFFEFE\">。</span><span style=\"background-color: #FFF6F6\">この</span><span style=\"background-color: #FFFEFE\">音</span><span style=\"background-color: #FFFDFD\">も</span><span style=\"background-color: #FFFCFC\">なかなか</span><span style=\"background-color: #FFFDFD\">良い</span><span style=\"background-color: #FFFEFE\">もの</span><span style=\"background-color: #FFFEFE\">で</span><span style=\"background-color: #FFFEFE\">、</span><span style=\"background-color: #FFF5F5\">自分</span><span style=\"background-color: #FFFEFE\">が</span><span style=\"background-color: #FFFCFC\">イスラム</span><span style=\"background-color: #FFFEFE\">の</span><span style=\"background-color: #FFFBFB\">国</span><span style=\"background-color: #FFFEFE\">に</span><span style=\"background-color: #FFFEFE\">来</span><span style=\"background-color: #FFFEFE\">た</span><span style=\"background-color: #FFFEFE\">こと</span><span style=\"background-color: #FFFEFE\">を</span><span style=\"background-color: #FFFEFE\">強く</span><span style=\"background-color: #FFFEFE\">実感</span><span style=\"background-color: #FFFEFE\">さ</span><span style=\"background-color: #FFFEFE\">せ</span><span style=\"background-color: #FFFCFC\">て</span><span style=\"background-color: #FFECEC\">くれる</span><span style=\"background-color: #FFFEFE\">。</span><span style=\"background-color: #FFFDFD\">さらに</span><span style=\"background-color: #FFFEFE\">数</span><span style=\"background-color: #FFFEFE\">分</span><span style=\"background-color: #FFFEFE\">走</span><span style=\"background-color: #FFF0F0\">##れ</span><span style=\"background-color: #FFFEFE\">ば</span><span style=\"background-color: #FFFEFE\">そこ</span><span style=\"background-color: #FFFEFE\">は</span><span style=\"background-color: #FFFEFE\">広大</span><span style=\"background-color: #FFFEFE\">な</span><span style=\"background-color: #FFFEFE\">砂漠</span><span style=\"background-color: #FFFEFE\">地帯</span><span style=\"background-color: #FFF9F9\">。</span><span style=\"background-color: #FFFEFE\">見</span><span style=\"background-color: #FFFEFE\">##渡す</span><span style=\"background-color: #FFFEFE\">限り</span><span style=\"background-color: #FFFEFE\">砂</span><span style=\"background-color: #FFFEFE\">しか</span><span style=\"background-color: #FFFDFD\">ない</span><span style=\"background-color: #FFFEFE\">、</span><span style=\"background-color: #FFFDFD\">壮大</span><span style=\"background-color: #FFFEFE\">な</span><span style=\"background-color: #FFFEFE\">景色</span><span style=\"background-color: #FFFEFE\">を</span><span style=\"background-color: #FFFEFE\">目</span><span style=\"background-color: #FFFEFE\">の</span><span style=\"background-color: #FFFEFE\">前</span><span style=\"background-color: #FFFEFE\">に</span><span style=\"background-color: #FFFBFB\">する</span><span style=\"background-color: #FFFEFE\">と</span><span style=\"background-color: #FFFEFE\">、</span><span style=\"background-color: #FFFAFA\">つい</span><span style=\"background-color: #FFFEFE\">数</span><span style=\"background-color: #FFFEFE\">十</span><span style=\"background-color: #FFFEFE\">分</span><span style=\"background-color: #FFFEFE\">前</span><span style=\"background-color: #FFFCFC\">まで</span><span style=\"background-color: #FFFEFE\">自分</span><span style=\"background-color: #FFFEFE\">が</span><span style=\"background-color: #FFFBFB\">見</span><span style=\"background-color: #FFFEFE\">て</span><span style=\"background-color: #FFFEFE\">い</span><span style=\"background-color: #FFFEFE\">た</span><span style=\"background-color: #FFFEFE\">近代</span><span style=\"background-color: #FFFEFE\">的</span><span style=\"background-color: #FFFEFE\">な</span><span style=\"background-color: #FFFEFE\">未来</span><span style=\"background-color: #FFFCFC\">都市</span><span style=\"background-color: #FFFEFE\">が</span><span style=\"background-color: #FFFDFD\">まるで</span><span style=\"background-color: #FFFEFE\">夢</span><span style=\"background-color: #FFFEFE\">の</span><span style=\"background-color: #FFFEFE\">よう</span><span style=\"background-color: #FFFEFE\">に</span><span style=\"background-color: #FFFEFE\">さえ</span><span style=\"background-color: #FFFEFE\">感じ</span><span style=\"background-color: #FFF9F9\">られる</span><span style=\"background-color: #FFFEFE\">。</span><span style=\"background-color: #FFFEFE\">砂漠</span><span style=\"background-color: #FFFEFE\">に</span><span style=\"background-color: #FFFEFE\">行く</span><span style=\"background-color: #FFFBFB\">なら</span><span style=\"background-color: #FFFEFE\">お</span><span style=\"background-color: #FFFCFC\">勧め</span><span style=\"background-color: #FFF0F0\">し</span><span style=\"background-color: #FFF2F2\">たい</span><span style=\"background-color: #FFFEFE\">の</span><span style=\"background-color: #FFF5F5\">が</span><span style=\"background-color: #FFFEFE\">四</span><span style=\"background-color: #FFFEFE\">輪</span><span style=\"background-color: #FFFEFE\">駆動</span><span style=\"background-color: #FFFEFE\">車</span><span style=\"background-color: #FFFEFE\">を</span><span style=\"background-color: #FFFEFE\">使っ</span><span style=\"background-color: #FFFEFE\">て</span><span style=\"background-color: #FFFEFE\">縦横</span><span style=\"background-color: #FFFEFE\">##無</span><span style=\"background-color: #FFFEFE\">##尽</span><span style=\"background-color: #FFFEFE\">に</span><span style=\"background-color: #FFFEFE\">砂漠</span><span style=\"background-color: #FFFEFE\">を</span><span style=\"background-color: #FFFEFE\">走り</span><span style=\"background-color: #FFFEFE\">、</span><span style=\"background-color: #FFFEFE\">砂漠</span><span style=\"background-color: #FFFEFE\">で</span><span style=\"background-color: #FFF4F4\">食事</span><span style=\"background-color: #FFFEFE\">を</span><span style=\"background-color: #FFFAFA\">する</span><span style=\"background-color: #FFF7F7\">オ</span><span style=\"background-color: #FFFEFE\">##プシ</span><span style=\"background-color: #FFFEFE\">##ョ</span><span style=\"background-color: #FFFDFD\">##ナル</span><span style=\"background-color: #FFFBFB\">##ツアー</span><span style=\"background-color: #FFF4F4\">。</span><span style=\"background-color: #FFFDFD\">きっ</span><span style=\"background-color: #FFFEFE\">##と</span><span style=\"background-color: #FFD8D8\">ドバイ</span><span style=\"background-color: #FFFEFE\">を</span><span style=\"background-color: #FFFEFE\">切り</span><span style=\"background-color: #FFFDFD\">##開</span><br><br>"
            ],
            "text/plain": [
              "<IPython.core.display.HTML object>"
            ]
          },
          "metadata": {
            "tags": []
          }
        },
        {
          "output_type": "display_data",
          "data": {
            "text/html": [
              "正解: sports<br>予測: sports<br><span style=\"background-color: #FFFEFE\">[CLS]</span><span style=\"background-color: #FFE9E9\">新</span><span style=\"background-color: #FF-32-32\">記録</span><span style=\"background-color: #FFFEFE\">で</span><span style=\"background-color: #FFFBFB\">ロンドン</span><span style=\"background-color: #FFFEFE\">に</span><span style=\"background-color: #FFFEFE\">乗り</span><span style=\"background-color: #FFFDFD\">##込む</span><span style=\"background-color: #FFFBFB\">“</span><span style=\"background-color: #FFFCFC\">バタ</span><span style=\"background-color: #FFE6E6\">##フライ</span><span style=\"background-color: #FFFEFE\">の</span><span style=\"background-color: #FFF4F4\">女王</span><span style=\"background-color: #FFFAFA\">”</span><span style=\"background-color: #FF9797\">加藤</span><span style=\"background-color: #FFF7F7\">ゆか</span><span style=\"background-color: #FFFEFE\">0</span><span style=\"background-color: #FFF4F4\">日</span><span style=\"background-color: #FFFDFD\">に</span><span style=\"background-color: #FFFAFA\">行わ</span><span style=\"background-color: #FFFBFB\">れ</span><span style=\"background-color: #FFFCFC\">た</span><span style=\"background-color: #FFC6C6\">競泳</span><span style=\"background-color: #FFFEFE\">の</span><span style=\"background-color: #FFFAFA\">日本</span><span style=\"background-color: #FFCACA\">選手権</span><span style=\"background-color: #FFEBEB\">で</span><span style=\"background-color: #FFF0F0\">、</span><span style=\"background-color: #FFFBFB\">女子</span><span style=\"background-color: #FFFEFE\">000</span><span style=\"background-color: #FFFEFE\">メートル</span><span style=\"background-color: #FFFDFD\">バタ</span><span style=\"background-color: #FFEFEF\">##フライ</span><span style=\"background-color: #FFFEFE\">の</span><span style=\"background-color: #FFE3E3\">加藤</span><span style=\"background-color: #FFF5F5\">ゆか</span><span style=\"background-color: #FFFEFE\">(</span><span style=\"background-color: #FFFEFE\">00</span><span style=\"background-color: #FFF1F1\">歳</span><span style=\"background-color: #FFFEFE\">)</span><span style=\"background-color: #FFFBFB\">が</span><span style=\"background-color: #FFFEFE\">0</span><span style=\"background-color: #FFFAFA\">大会</span><span style=\"background-color: #FFFEFE\">連続</span><span style=\"background-color: #FFFEFE\">の</span><span style=\"background-color: #FFD3D3\">五輪</span><span style=\"background-color: #FFFAFA\">出場</span><span style=\"background-color: #FFFEFE\">を</span><span style=\"background-color: #FFFEFE\">決め</span><span style=\"background-color: #FFF6F6\">た</span><span style=\"background-color: #FFFAFA\">。</span><span style=\"background-color: #FFFEFE\">00</span><span style=\"background-color: #FFFDFD\">秒</span><span style=\"background-color: #FFFEFE\">00</span><span style=\"background-color: #FFFEFE\">と</span><span style=\"background-color: #FFFCFC\">、</span><span style=\"background-color: #FFFBFB\">自身</span><span style=\"background-color: #FFFEFE\">が</span><span style=\"background-color: #FFFEFE\">持つ</span><span style=\"background-color: #FFFEFE\">日本</span><span style=\"background-color: #FFFCFC\">新</span><span style=\"background-color: #FFFAFA\">記録</span><span style=\"background-color: #FFFEFE\">を</span><span style=\"background-color: #FFFEFE\">更新</span><span style=\"background-color: #FFFEFE\">し</span><span style=\"background-color: #FFFEFE\">て</span><span style=\"background-color: #FFFEFE\">の</span><span style=\"background-color: #FFE8E8\">五輪</span><span style=\"background-color: #FFF8F8\">切符</span><span style=\"background-color: #FFFBFB\">ゲッ</span><span style=\"background-color: #FFFDFD\">##ト</span><span style=\"background-color: #FF3232\">だ</span><span style=\"background-color: #FFFAFA\">。</span><span style=\"background-color: #FFFDFD\">前回</span><span style=\"background-color: #FFFEFE\">大会</span><span style=\"background-color: #FFFEFE\">の</span><span style=\"background-color: #FFFEFE\">北京</span><span style=\"background-color: #FFEEEE\">五輪</span><span style=\"background-color: #FFFEFE\">選考</span><span style=\"background-color: #FFFEFE\">で</span><span style=\"background-color: #FFFDFD\">は</span><span style=\"background-color: #FFFEFE\">ガ</span><span style=\"background-color: #FFFEFE\">##チ</span><span style=\"background-color: #FFFEFE\">##ガ</span><span style=\"background-color: #FFFEFE\">##チ</span><span style=\"background-color: #FFFEFE\">に</span><span style=\"background-color: #FFFEFE\">緊張</span><span style=\"background-color: #FFFEFE\">し</span><span style=\"background-color: #FFFEFE\">て</span><span style=\"background-color: #FFFEFE\">い</span><span style=\"background-color: #FFFEFE\">た</span><span style=\"background-color: #FFFDFD\">という</span><span style=\"background-color: #FF9696\">加藤</span><span style=\"background-color: #FFFDFD\">は</span><span style=\"background-color: #FFF9F9\">、</span><span style=\"background-color: #FFF8F8\">幾</span><span style=\"background-color: #FFFEFE\">##多</span><span style=\"background-color: #FFFEFE\">の</span><span style=\"background-color: #FFFCFC\">経験</span><span style=\"background-color: #FFFBFB\">を</span><span style=\"background-color: #FFFAFA\">得</span><span style=\"background-color: #FFFDFD\">て</span><span style=\"background-color: #FFFBFB\">、</span><span style=\"background-color: #FFFEFE\">強い</span><span style=\"background-color: #FFFEFE\">精神</span><span style=\"background-color: #FFFDFD\">力</span><span style=\"background-color: #FFFEFE\">を</span><span style=\"background-color: #FFFEFE\">培</span><span style=\"background-color: #FFFEFE\">##っ</span><span style=\"background-color: #FFFCFC\">た</span><span style=\"background-color: #FFFAFA\">。</span><span style=\"background-color: #FFF8F8\">記録</span><span style=\"background-color: #FFFCFC\">更新</span><span style=\"background-color: #FFFEFE\">で</span><span style=\"background-color: #FFFEFE\">の</span><span style=\"background-color: #FFF4F4\">五輪</span><span style=\"background-color: #FFFEFE\">出場</span><span style=\"background-color: #FFFCFC\">権</span><span style=\"background-color: #FFFEFE\">獲得</span><span style=\"background-color: #FFFCFC\">に</span><span style=\"background-color: #FF6868\">、</span><span style=\"background-color: #FFFEFE\">爽</span><span style=\"background-color: #FFFEFE\">##やか</span><span style=\"background-color: #FFFDFD\">な</span><span style=\"background-color: #FFFDFD\">笑顔</span><span style=\"background-color: #FFF3F3\">で</span><span style=\"background-color: #FFFDFD\">喜び</span><span style=\"background-color: #FFFEFE\">を</span><span style=\"background-color: #FFF8F8\">爆発</span><span style=\"background-color: #FFE5E5\">さ</span><span style=\"background-color: #FFC8C8\">せ</span><span style=\"background-color: #FFD6D6\">た</span><span style=\"background-color: #FFFAFA\">。</span><span style=\"background-color: #FFFBFB\">[UNK]</span><span style=\"background-color: #FFFAFA\">の</span><span style=\"background-color: #FFFEFE\">日本</span><span style=\"background-color: #FFC3C3\">女子</span><span style=\"background-color: #FFCFCF\">競泳</span><span style=\"background-color: #FFF1F1\">界</span><span style=\"background-color: #FFFDFD\">の</span><span style=\"background-color: #FFFAFA\">中</span><span style=\"background-color: #FFFBFB\">でも</span><span style=\"background-color: #FFEAEA\">、</span><span style=\"background-color: #FFA7A7\">加藤</span><span style=\"background-color: #FFFDFD\">は</span><span style=\"background-color: #FFFDFD\">美女</span><span style=\"background-color: #FFFDFD\">スイ</span><span style=\"background-color: #FFD3D3\">##マー</span><span style=\"background-color: #FFFEFE\">の</span><span style=\"background-color: #FFFDFD\">筆頭</span><span style=\"background-color: #FFFBFB\">に</span><span style=\"background-color: #FFF8F8\">数え</span><span style=\"background-color: #FFB3B3\">られる</span><span style=\"background-color: #FFFAFA\">。</span><span style=\"background-color: #FFFEFE\">目</span><span style=\"background-color: #FFFEFE\">##鼻</span><span style=\"background-color: #FFFEFE\">##立ち</span><span style=\"background-color: #FFFEFE\">の</span><span style=\"background-color: #FFFBFB\">整っ</span><span style=\"background-color: #FFFEFE\">た</span><span style=\"background-color: #FFFEFE\">顔</span><span style=\"background-color: #FFFEFE\">に</span><span style=\"background-color: #FFFCFC\">、</span><span style=\"background-color: #FFFEFE\">白く</span><span style=\"background-color: #FFFEFE\">透</span><span style=\"background-color: #FFFEFE\">##き</span><span style=\"background-color: #FFFEFE\">##通</span><span style=\"background-color: #FFFEFE\">##る</span><span style=\"background-color: #FFFEFE\">よう</span><span style=\"background-color: #FFFEFE\">な</span><span style=\"background-color: #FFFEFE\">肌</span><span style=\"background-color: #FFFEFE\">、</span><span style=\"background-color: #FFFDFD\">そして</span><span style=\"background-color: #FFFEFE\">鍛え</span><span style=\"background-color: #FFFEFE\">あげ</span><span style=\"background-color: #FFFEFE\">られ</span><span style=\"background-color: #FFFEFE\">た</span><span style=\"background-color: #FFF0F0\">アスリート</span><span style=\"background-color: #FFFEFE\">の</span><span style=\"background-color: #FFF1F1\">肉体</span><span style=\"background-color: #FFFEFE\">に</span><span style=\"background-color: #FFE4E4\">、</span><span style=\"background-color: #FFC4C4\">ネット</span><span style=\"background-color: #FFEAEA\">上</span><span style=\"background-color: #FFF3F3\">で</span><span style=\"background-color: #FFFDFD\">の</span><span style=\"background-color: #FFFAFA\">人気</span><span style=\"background-color: #FFF9F9\">も</span><span style=\"background-color: #FFFEFE\">上</span><span style=\"background-color: #FFF9F9\">##々</span><span style=\"background-color: #FFACAC\">だ</span><span style=\"background-color: #FFFAFA\">。</span><span style=\"background-color: #FFFDFD\">前回</span><span style=\"background-color: #FFFEFE\">の</span><span style=\"background-color: #FFFEFE\">北京</span><span style=\"background-color: #FFF5F5\">五輪</span><span style=\"background-color: #FFFDFD\">で</span><span style=\"background-color: #FFFEFE\">は</span><span style=\"background-color: #FFFDFD\">予選</span><span style=\"background-color: #FFFDFD\">敗退</span><span style=\"background-color: #FFFDFD\">で</span><span style=\"background-color: #FFFEFE\">悔</span><span style=\"background-color: #FFFEFE\">##し</span><span style=\"background-color: #FFFEFE\">##涙</span><span style=\"background-color: #FFFEFE\">を</span><span style=\"background-color: #FFFEFE\">呑</span><span style=\"background-color: #FFFEFE\">##ん</span><span style=\"background-color: #FFFEFE\">だ</span><span style=\"background-color: #FF-6D-6D\">加藤</span><span style=\"background-color: #FFEDED\">。</span><span style=\"background-color: #FFFEFE\">0</span><span style=\"background-color: #FFFCFC\">年間</span><span style=\"background-color: #FFFEFE\">の</span><span style=\"background-color: #FFFEFE\">濃</span><span style=\"background-color: #FFFDFD\">##密</span><span style=\"background-color: #FFFCFC\">な</span><span style=\"background-color: #FFFCFC\">時間</span><span style=\"background-color: #FFFEFE\">を</span><span style=\"background-color: #FFF3F3\">経</span><span style=\"background-color: #FFFEFE\">て</span><span style=\"background-color: #FFFEFE\">、</span><span style=\"background-color: #FFFEFE\">速く</span><span style=\"background-color: #FFFEFE\">、</span><span style=\"background-color: #FFFEFE\">より</span><span style=\"background-color: #FFFEFE\">美しく</span><span style=\"background-color: #FFFEFE\">なっ</span><span style=\"background-color: #FFFEFE\">た</span><span style=\"background-color: #FFFEFE\">「</span><span style=\"background-color: #FFFBFB\">バタ</span><span style=\"background-color: #FFEDED\">##フライ</span><span style=\"background-color: #FFFEFE\">の</span><span style=\"background-color: #FFF6F6\">女王</span><span style=\"background-color: #FF9696\">」</span><span style=\"background-color: #FFFBFB\">が</span><span style=\"background-color: #FFFDFD\">、</span><span style=\"background-color: #FFF8F8\">ロンドン</span><span style=\"background-color: #FFFEFE\">の</span><span style=\"background-color: #FFF9F9\">プール</span><span style=\"background-color: #FFFEFE\">を</span><span style=\"background-color: #FFFEFE\">沸</span><span style=\"background-color: #FFFBFB\">##かす</span><span style=\"background-color: #FFF7F7\">。</span><span style=\"background-color: #FF0A0A\">・</span><span style=\"background-color: #FFFDFD\">加藤</span><span style=\"background-color: #FFFEFE\">ゆか</span><span style=\"background-color: #FFFEFE\">フォト</span><br><br>"
            ],
            "text/plain": [
              "<IPython.core.display.HTML object>"
            ]
          },
          "metadata": {
            "tags": []
          }
        },
        {
          "output_type": "display_data",
          "data": {
            "text/html": [
              "正解: dokujo<br>予測: dokujo<br><span style=\"background-color: #FFFEFE\">[CLS]</span><span style=\"background-color: #FFF4F4\">資格</span><span style=\"background-color: #FFF4F4\">って</span><span style=\"background-color: #FFFCFC\">本当に</span><span style=\"background-color: #FFA9A9\">転職</span><span style=\"background-color: #FFFEFE\">に</span><span style=\"background-color: #FFFDFD\">有利</span><span style=\"background-color: #FFFCFC\">です</span><span style=\"background-color: #FFFEFE\">か</span><span style=\"background-color: #FFFAFA\">?</span><span style=\"background-color: #FFFEFE\">年</span><span style=\"background-color: #FFF7F7\">##明け</span><span style=\"background-color: #FFFDFD\">から</span><span style=\"background-color: #FFF8F8\">資格</span><span style=\"background-color: #FFFEFE\">や</span><span style=\"background-color: #FFFBFB\">講座</span><span style=\"background-color: #FFFCFC\">の</span><span style=\"background-color: #FFFEFE\">CM</span><span style=\"background-color: #FFFEFE\">や</span><span style=\"background-color: #FFFCFC\">広告</span><span style=\"background-color: #FFFDFD\">を</span><span style=\"background-color: #FFFDFD\">頻繁</span><span style=\"background-color: #FFFEFE\">に</span><span style=\"background-color: #FFFEFE\">目</span><span style=\"background-color: #FFFEFE\">に</span><span style=\"background-color: #FFF8F8\">する</span><span style=\"background-color: #FFFCFC\">よう</span><span style=\"background-color: #FFF8F8\">に</span><span style=\"background-color: #FFE7E7\">なっ</span><span style=\"background-color: #FFBABA\">た</span><span style=\"background-color: #FFF9F9\">。</span><span style=\"background-color: #FFFEFE\">心</span><span style=\"background-color: #FFFEFE\">##機</span><span style=\"background-color: #FFFEFE\">##一</span><span style=\"background-color: #FFFEFE\">##転</span><span style=\"background-color: #FFFEFE\">、</span><span style=\"background-color: #FFFDFD\">新しい</span><span style=\"background-color: #FFFEFE\">気持ち</span><span style=\"background-color: #FFFEFE\">で</span><span style=\"background-color: #FFFEFE\">何</span><span style=\"background-color: #FFF7F7\">か</span><span style=\"background-color: #FFFEFE\">に</span><span style=\"background-color: #FFFBFB\">チャレンジ</span><span style=\"background-color: #FFFEFE\">し</span><span style=\"background-color: #FFFEFE\">たい</span><span style=\"background-color: #FFFEFE\">という</span><span style=\"background-color: #FFF4F4\">人</span><span style=\"background-color: #FFFAFA\">も</span><span style=\"background-color: #FFFBFB\">多い</span><span style=\"background-color: #FF0606\">だろ</span><span style=\"background-color: #FF6363\">う</span><span style=\"background-color: #FFF8F8\">。</span><span style=\"background-color: #FFEBEB\">中でも</span><span style=\"background-color: #FFFEFE\">身</span><span style=\"background-color: #FFFEFE\">に</span><span style=\"background-color: #FFFEFE\">つけ</span><span style=\"background-color: #FFFEFE\">た</span><span style=\"background-color: #FFFDFD\">技術</span><span style=\"background-color: #FFFEFE\">や</span><span style=\"background-color: #FFFDFD\">教養</span><span style=\"background-color: #FFFEFE\">の</span><span style=\"background-color: #FFFEFE\">証</span><span style=\"background-color: #FFFEFE\">と</span><span style=\"background-color: #FFFDFD\">なり</span><span style=\"background-color: #FFFEFE\">、</span><span style=\"background-color: #FFFCFC\">転職</span><span style=\"background-color: #FFFEFE\">や</span><span style=\"background-color: #FFFEFE\">就職</span><span style=\"background-color: #FFFEFE\">、</span><span style=\"background-color: #FFF9F9\">起業</span><span style=\"background-color: #FFFEFE\">の</span><span style=\"background-color: #FFFDFD\">際</span><span style=\"background-color: #FFFEFE\">に</span><span style=\"background-color: #FFFEFE\">プラス</span><span style=\"background-color: #FFFEFE\">に</span><span style=\"background-color: #FFFEFE\">なる</span><span style=\"background-color: #FFFEFE\">こと</span><span style=\"background-color: #FFFEFE\">が</span><span style=\"background-color: #FFFAFA\">多い</span><span style=\"background-color: #FFF2F2\">資格</span><span style=\"background-color: #FFF5F5\">の</span><span style=\"background-color: #FFF1F1\">取得</span><span style=\"background-color: #FFFCFC\">を</span><span style=\"background-color: #FFFDFD\">考える</span><span style=\"background-color: #FF-C9-C9\">女性</span><span style=\"background-color: #FFFDFD\">は</span><span style=\"background-color: #FFFDFD\">多い</span><span style=\"background-color: #FFF8F8\">よう</span><span style=\"background-color: #FFC6C6\">だ</span><span style=\"background-color: #FFFEFE\">。</span><span style=\"background-color: #FFF9F9\">しかし</span><span style=\"background-color: #FFFDFD\">、</span><span style=\"background-color: #FFFDFD\">就職</span><span style=\"background-color: #FFFEFE\">に</span><span style=\"background-color: #FFFCFC\">有利</span><span style=\"background-color: #FFFEFE\">と</span><span style=\"background-color: #FFFAFA\">いわ</span><span style=\"background-color: #FFFDFD\">れる</span><span style=\"background-color: #FFF4F4\">資格</span><span style=\"background-color: #FFF8F8\">を</span><span style=\"background-color: #FFFEFE\">取得</span><span style=\"background-color: #FFFEFE\">し</span><span style=\"background-color: #FFFEFE\">て</span><span style=\"background-color: #FFFEFE\">も</span><span style=\"background-color: #FFFEFE\">、</span><span style=\"background-color: #FFFEFE\">未</span><span style=\"background-color: #FFFEFE\">経験</span><span style=\"background-color: #FFFEFE\">者</span><span style=\"background-color: #FFFEFE\">で</span><span style=\"background-color: #FFFEFE\">は</span><span style=\"background-color: #FFFBFB\">転職</span><span style=\"background-color: #FFFEFE\">し</span><span style=\"background-color: #FFFEFE\">よう</span><span style=\"background-color: #FFFEFE\">に</span><span style=\"background-color: #FFFEFE\">も</span><span style=\"background-color: #FFFEFE\">なかなか</span><span style=\"background-color: #FFFDFD\">採用</span><span style=\"background-color: #FFFEFE\">に</span><span style=\"background-color: #FFFDFD\">なら</span><span style=\"background-color: #FFFEFE\">ない</span><span style=\"background-color: #FFFDFD\">という</span><span style=\"background-color: #FFF6F6\">話</span><span style=\"background-color: #FFFBFB\">も</span><span style=\"background-color: #FFF9F9\">耳</span><span style=\"background-color: #FFFBFB\">に</span><span style=\"background-color: #FFADAD\">する</span><span style=\"background-color: #FFFEFE\">。</span><span style=\"background-color: #FFFCFC\">取得</span><span style=\"background-color: #FFFBFB\">し</span><span style=\"background-color: #FFFBFB\">た</span><span style=\"background-color: #FFE7E7\">資格</span><span style=\"background-color: #FFF8F8\">を</span><span style=\"background-color: #FFF9F9\">活かし</span><span style=\"background-color: #FFFEFE\">て</span><span style=\"background-color: #FFF5F5\">就職</span><span style=\"background-color: #FFFEFE\">し</span><span style=\"background-color: #FFFEFE\">た</span><span style=\"background-color: #FFC5C5\">女性</span><span style=\"background-color: #FFFDFD\">たち</span><span style=\"background-color: #FFFEFE\">は</span><span style=\"background-color: #FFFCFC\">どの</span><span style=\"background-color: #FFFBFB\">よう</span><span style=\"background-color: #FFFEFE\">に</span><span style=\"background-color: #FFF7F7\">仕事</span><span style=\"background-color: #FFFEFE\">を</span><span style=\"background-color: #FFFEFE\">決め</span><span style=\"background-color: #FFFEFE\">た</span><span style=\"background-color: #FFFDFD\">の</span><span style=\"background-color: #FFF7F7\">だろ</span><span style=\"background-color: #FFFAFA\">う</span><span style=\"background-color: #FFFEFE\">か</span><span style=\"background-color: #FFFDFD\">?</span><span style=\"background-color: #FFA0A0\">##「</span><span style=\"background-color: #FFFDFD\">通信</span><span style=\"background-color: #FFFDFD\">教育</span><span style=\"background-color: #FFFEFE\">で</span><span style=\"background-color: #FFFEFE\">医療</span><span style=\"background-color: #FFFDFD\">事務</span><span style=\"background-color: #FFFEFE\">の</span><span style=\"background-color: #FFF6F6\">資格</span><span style=\"background-color: #FFF2F2\">を</span><span style=\"background-color: #FFFBFB\">取得</span><span style=\"background-color: #FFFDFD\">し</span><span style=\"background-color: #FFFEFE\">た</span><span style=\"background-color: #FFFEFE\">ものの</span><span style=\"background-color: #FFFEFE\">、</span><span style=\"background-color: #FFFDFD\">半年</span><span style=\"background-color: #FFFEFE\">以上</span><span style=\"background-color: #FFFEFE\">も</span><span style=\"background-color: #FFFEFE\">転職</span><span style=\"background-color: #FFFEFE\">先</span><span style=\"background-color: #FFFEFE\">が</span><span style=\"background-color: #FFFEFE\">見つから</span><span style=\"background-color: #FFFEFE\">ず</span><span style=\"background-color: #FFFEFE\">に</span><span style=\"background-color: #FFFEFE\">い</span><span style=\"background-color: #FFFDFD\">まし</span><span style=\"background-color: #FFFEFE\">た</span><span style=\"background-color: #FFF3F3\">」</span><span style=\"background-color: #FFFEFE\">話し</span><span style=\"background-color: #FFFEFE\">て</span><span style=\"background-color: #FFFEFE\">くれ</span><span style=\"background-color: #FFFEFE\">た</span><span style=\"background-color: #FFFEFE\">の</span><span style=\"background-color: #FFFEFE\">は</span><span style=\"background-color: #FFFEFE\">カ</span><span style=\"background-color: #FFFEFE\">##ズ</span><span style=\"background-color: #FFFDFD\">ミ</span><span style=\"background-color: #FFFEFE\">さん</span><span style=\"background-color: #FFFDFD\">(</span><span style=\"background-color: #FFFEFE\">00</span><span style=\"background-color: #FF7676\">歳</span><span style=\"background-color: #FFFEFE\">・</span><span style=\"background-color: #FFFEFE\">医療</span><span style=\"background-color: #FFFEFE\">事務</span><span style=\"background-color: #FFF4F4\">パート</span><span style=\"background-color: #FFF8F8\">)</span><span style=\"background-color: #FF9F9F\">だ</span><span style=\"background-color: #FFF7F7\">。</span><span style=\"background-color: #FFDADA\">「</span><span style=\"background-color: #FFD9D9\">パート</span><span style=\"background-color: #FFFCFC\">の</span><span style=\"background-color: #FFFEFE\">募集</span><span style=\"background-color: #FFFDFD\">は</span><span style=\"background-color: #FFFEFE\">結</span><span style=\"background-color: #FFFEFE\">##構</span><span style=\"background-color: #FFFEFE\">あっ</span><span style=\"background-color: #FFFEFE\">た</span><span style=\"background-color: #FFFEFE\">ん</span><span style=\"background-color: #FFFEFE\">です</span><span style=\"background-color: #FFFEFE\">けど</span><span style=\"background-color: #FFFEFE\">、</span><span style=\"background-color: #FFF2F2\">私</span><span style=\"background-color: #FFFEFE\">が</span><span style=\"background-color: #FFFEFE\">希望</span><span style=\"background-color: #FFFEFE\">し</span><span style=\"background-color: #FFFEFE\">て</span><span style=\"background-color: #FFFEFE\">い</span><span style=\"background-color: #FFFEFE\">た</span><span style=\"background-color: #FFFEFE\">正</span><span style=\"background-color: #FFF8F8\">##社</span><span style=\"background-color: #FFFDFD\">##員</span><span style=\"background-color: #FFFEFE\">の</span><span style=\"background-color: #FFFEFE\">募集</span><span style=\"background-color: #FFFEFE\">は</span><span style=\"background-color: #FFFEFE\">少ない</span><span style=\"background-color: #FFFEFE\">し</span><span style=\"background-color: #FFFEFE\">、</span><span style=\"background-color: #FFFEFE\">あっ</span><span style=\"background-color: #FFFEFE\">て</span><span style=\"background-color: #FFFEFE\">も</span><span style=\"background-color: #FFFEFE\">数</span><span style=\"background-color: #FFFEFE\">十</span><span style=\"background-color: #FFFEFE\">倍</span><span style=\"background-color: #FFFEFE\">という</span><span style=\"background-color: #FFFEFE\">競争</span><span style=\"background-color: #FFFEFE\">率</span><span style=\"background-color: #FFFEFE\">で</span><span style=\"background-color: #FFFEFE\">、</span><span style=\"background-color: #FFFDFD\">しかも</span><span style=\"background-color: #FFFEFE\">経験</span><span style=\"background-color: #FFFDFD\">者</span><span style=\"background-color: #FFFEFE\">が</span><span style=\"background-color: #FFFEFE\">優遇</span><span style=\"background-color: #FFFEFE\">さ</span><span style=\"background-color: #FFFEFE\">れ</span><span style=\"background-color: #FFFEFE\">ます</span><span style=\"background-color: #FFFDFD\">から</span><span style=\"background-color: #FFE6E6\">...」</span><span style=\"background-color: #FFFDFD\">カ</span><span style=\"background-color: #FFFEFE\">##ズミ</span><span style=\"background-color: #FFFEFE\">さん</span><span style=\"background-color: #FFFBFB\">は</span><span style=\"background-color: #FFFDFD\">、</span><span style=\"background-color: #FFFEFE\">新聞</span><span style=\"background-color: #FFFEFE\">に</span><span style=\"background-color: #FFFEFE\">折り</span><span style=\"background-color: #FFF9F9\">##込ま</span><span style=\"background-color: #FFFAFA\">れる</span><span style=\"background-color: #FFFEFE\">求</span><span style=\"background-color: #FFFDFD\">##人</span><span style=\"background-color: #FFFEFE\">チ</span><span style=\"background-color: #FFFEFE\">##ラシ</span><span style=\"background-color: #FFFEFE\">を</span><span style=\"background-color: #FFFEFE\">チェック</span><span style=\"background-color: #FFFEFE\">する</span><span style=\"background-color: #FFFEFE\">うち</span><span style=\"background-color: #FFFEFE\">に</span><span style=\"background-color: #FFFCFC\">「</span><span style=\"background-color: #FFFEFE\">ひと</span><span style=\"background-color: #FFFEFE\">##まず</span><span style=\"background-color: #FFFDFD\">パート</span><span style=\"background-color: #FFFEFE\">で</span><span style=\"background-color: #FFFEFE\">経験</span><span style=\"background-color: #FFFEFE\">を</span><span style=\"background-color: #FFFEFE\">積ん</span><span style=\"background-color: #FFFEFE\">で</span><span style=\"background-color: #FFFEFE\">から</span><span style=\"background-color: #FFFEFE\">、</span><span style=\"background-color: #FFFEFE\">正</span><span style=\"background-color: #FFFEFE\">##社</span><span style=\"background-color: #FFFEFE\">##員</span><span style=\"background-color: #FFFEFE\">の</span><span style=\"background-color: #FFFEFE\">道</span><span style=\"background-color: #FFFEFE\">を</span><span style=\"background-color: #FFFEFE\">目指す</span><span style=\"background-color: #FFFEFE\">」</span><span style=\"background-color: #FFFDFD\">こと</span><span style=\"background-color: #FFF5F5\">を</span><span style=\"background-color: #FFFEFE\">考え</span><span style=\"background-color: #FFF9F9\">はじめ</span><span style=\"background-color: #FFFCFC\">た</span><span style=\"background-color: #FFF7F7\">そう</span><span style=\"background-color: #FFEFEF\">だ</span><span style=\"background-color: #FFFEFE\">。</span><span style=\"background-color: #FFF5F5\">「</span><span style=\"background-color: #FFFEFE\">考え</span><span style=\"background-color: #FFFEFE\">て</span><span style=\"background-color: #FFFEFE\">い</span><span style=\"background-color: #FFFEFE\">た</span><span style=\"background-color: #FFFEFE\">ほど</span><span style=\"background-color: #FFFEFE\">お</span><span style=\"background-color: #FFFAFA\">給料</span><span style=\"background-color: #FFFEFE\">は</span><span style=\"background-color: #FFFEFE\">得</span><span style=\"background-color: #FFFEFE\">られ</span><span style=\"background-color: #FFFEFE\">ませ</span><span style=\"background-color: #FFFEFE\">ん</span><span style=\"background-color: #FFFEFE\">が</span><span style=\"background-color: #FFFEFE\">、</span><span style=\"background-color: #FFFBFB\">修行</span><span style=\"background-color: #FFFEFE\">期間</span><span style=\"background-color: #FFFEFE\">だ</span><span style=\"background-color: #FFFEFE\">と</span><span style=\"background-color: #FFFEFE\">思っ</span><span style=\"background-color: #FFFEFE\">て</span><span style=\"background-color: #FFFEFE\">割り</span><span style=\"background-color: #FFFEFE\">##切る</span><span style=\"background-color: #FFFEFE\">こと</span><span style=\"background-color: #FFFEFE\">に</span><span style=\"background-color: #FFFEFE\">し</span><span style=\"background-color: #FFFDFD\">まし</span><span style=\"background-color: #FFFEFE\">た</span><span style=\"background-color: #FFFEFE\">(</span><span style=\"background-color: #FFF6F6\">笑</span><span style=\"background-color: #FFFDFD\">)」</span><span style=\"background-color: #FFFBFB\">と</span><span style=\"background-color: #FFCBCB\">の</span><span style=\"background-color: #FFFDFD\">こと</span><span style=\"background-color: #FFFEFE\">。</span><span style=\"background-color: #FFFEFE\">0</span><span style=\"background-color: #FFFEFE\">ヶ月</span><span style=\"background-color: #FFFEFE\">ほど</span><span style=\"background-color: #FFFEFE\">で</span><span style=\"background-color: #FFFEFE\">、</span><span style=\"background-color: #FFFEFE\">医療</span><span style=\"background-color: #FFFEFE\">事務</span><span style=\"background-color: #FFFEFE\">の</span><span style=\"background-color: #FFF4F4\">パート</span><span style=\"background-color: #FFFDFD\">が</span><span style=\"background-color: #FFFEFE\">決まっ</span><span style=\"background-color: #FFFBFB\">た</span><span style=\"background-color: #FFFEFE\">と</span><span style=\"background-color: #FFF2F2\">いう</span><span style=\"background-color: #FFFEFE\">。</span><span style=\"background-color: #FFEFEF\">ちなみに</span><span style=\"background-color: #FFFEFE\">、</span><span style=\"background-color: #FFFEFE\">調</span><span style=\"background-color: #FFFEFE\">##剤</span><span style=\"background-color: #FFFEFE\">薬局</span><span style=\"background-color: #FFFEFE\">に</span><span style=\"background-color: #FFFEFE\">勤務</span><span style=\"background-color: #FFFEFE\">する</span><span style=\"background-color: #FFFEFE\">方</span><span style=\"background-color: #FFFEFE\">の</span><span style=\"background-color: #FFFEFE\">話</span><span style=\"background-color: #FFFEFE\">で</span><span style=\"background-color: #FFFEFE\">は</span><span style=\"background-color: #FFFEFE\">、</span><span style=\"background-color: #FFFEFE\">地域</span><span style=\"background-color: #FFFEFE\">差</span><span style=\"background-color: #FFFEFE\">も</span><span style=\"background-color: #FFFEFE\">ある</span><span style=\"background-color: #FFFEFE\">が</span><span style=\"background-color: #FFFEFE\">、</span><span style=\"background-color: #FFFEFE\">医療</span><span style=\"background-color: #FFFEFE\">事務</span><span style=\"background-color: #FFFEFE\">の</span><span style=\"background-color: #FFF7F7\">パート</span><span style=\"background-color: #FFFEFE\">は</span><span style=\"background-color: #FFFEFE\">主婦</span><span style=\"background-color: #FFFEFE\">が</span><span style=\"background-color: #FFFEFE\">多く</span><span style=\"background-color: #FFFEFE\">、</span><span style=\"background-color: #FFFEFE\">お</span><span style=\"background-color: #FFFEFE\">##子</span><span style=\"background-color: #FFFEFE\">##さん</span><span style=\"background-color: #FFFEFE\">が</span><span style=\"background-color: #FFFEFE\">幼稚園</span><span style=\"background-color: #FFFEFE\">や</span><span style=\"background-color: #FFFEFE\">小学校</span><span style=\"background-color: #FFFEFE\">から</span><span style=\"background-color: #FFFEFE\">帰宅</span><span style=\"background-color: #FFFEFE\">する</span><span style=\"background-color: #FFFEFE\">まで</span><span style=\"background-color: #FFFEFE\">の</span><span style=\"background-color: #FFFEFE\">昼間</span><span style=\"background-color: #FFFEFE\">の</span><span style=\"background-color: #FFFEFE\">時間</span><span style=\"background-color: #FFFEFE\">帯</span><span style=\"background-color: #FFFEFE\">を</span><span style=\"background-color: #FFFEFE\">希望</span><span style=\"background-color: #FFFEFE\">する</span><span style=\"background-color: #FFFDFD\">人</span><span style=\"background-color: #FFFEFE\">が</span><span style=\"background-color: #FFFEFE\">多い</span><span style=\"background-color: #FFFEFE\">と</span><span style=\"background-color: #FFD8D8\">いう</span><span style=\"background-color: #FFFEFE\">。</span><span style=\"background-color: #FFFDFD\">一方</span><span style=\"background-color: #FFFEFE\">、</span><span style=\"background-color: #FFF3F3\">例えば</span><span style=\"background-color: #FFFEFE\">、</span><span style=\"background-color: #FFFEFE\">00</span><span style=\"background-color: #FFFEFE\">時</span><span style=\"background-color: #FFFEFE\">以降</span><span style=\"background-color: #FFFEFE\">や</span><span style=\"background-color: #FFFEFE\">夕方</span><span style=\"background-color: #FFFEFE\">から</span><span style=\"background-color: #FFFEFE\">夜</span><span style=\"background-color: #FFFEFE\">にかけて</span><span style=\"background-color: #FFFEFE\">の</span><span style=\"background-color: #FFFDFD\">パート</span><span style=\"background-color: #FFFEFE\">の</span><span style=\"background-color: #FFFEFE\">募集</span><span style=\"background-color: #FFFEFE\">に</span><span style=\"background-color: #FFFEFE\">は</span><span style=\"background-color: #FFFEFE\">、</span><span style=\"background-color: #FFFEFE\">ほとんど</span><span style=\"background-color: #FFFEFE\">応募</span><span style=\"background-color: #FFFEFE\">が</span><span style=\"background-color: #FFFEFE\">ない</span><span style=\"background-color: #FFFCFC\">らしい</span><span style=\"background-color: #FFFEFE\">。</span><span style=\"background-color: #FFF8F8\">もちろん</span><span style=\"background-color: #FFFEFE\">、</span><span style=\"background-color: #FFFEFE\">自分</span><span style=\"background-color: #FFFEFE\">の</span><span style=\"background-color: #FFFEFE\">希望</span><span style=\"background-color: #FFFEFE\">が</span><span style=\"background-color: #FFFEFE\">かな</span><span style=\"background-color: #FFFEFE\">##う</span><span style=\"background-color: #FFFEFE\">就職</span><span style=\"background-color: #FFFEFE\">や</span><span style=\"background-color: #FFFAFA\">転職</span><span style=\"background-color: #FFFEFE\">が</span><span style=\"background-color: #FFFEFE\">一番</span><span style=\"background-color: #FFFEFE\">いい</span><span style=\"background-color: #FFFEFE\">が</span><span style=\"background-color: #FFFEFE\">、</span><span style=\"background-color: #FFFEFE\">希望</span><span style=\"background-color: #FFF9F9\">する</span><span style=\"background-color: #FFFCFC\">職種</span><span style=\"background-color: #FFFEFE\">の</span><span style=\"background-color: #FFFEFE\">現状</span><span style=\"background-color: #FFFEFE\">を</span><span style=\"background-color: #FFFEFE\">ふ</span><span style=\"background-color: #FFFEFE\">##まえ</span><span style=\"background-color: #FFFEFE\">た</span><span style=\"background-color: #FFFEFE\">上</span><span style=\"background-color: #FFFEFE\">で</span><span style=\"background-color: #FFFEFE\">、</span><span style=\"background-color: #FFFEFE\">多少</span><span style=\"background-color: #FFFEFE\">の</span><span style=\"background-color: #FFFEFE\">妥協</span><span style=\"background-color: #FFFEFE\">を</span><span style=\"background-color: #FFFEFE\">すれ</span><span style=\"background-color: #FFFEFE\">ば</span><span style=\"background-color: #FFFEFE\">、</span><span style=\"background-color: #FFFEFE\">未</span><span style=\"background-color: #FFFEFE\">経験</span><span style=\"background-color: #FFFAFA\">者</span><span style=\"background-color: #FFFEFE\">に</span><span style=\"background-color: #FFFEFE\">も</span><span style=\"background-color: #FFFDFD\">チャンス</span><span style=\"background-color: #FFFEFE\">が</span><span style=\"background-color: #FFFEFE\">回っ</span><span style=\"background-color: #FFFEFE\">て</span><span style=\"background-color: #FFFEFE\">き</span><span style=\"background-color: #FFFEFE\">##やす</span><span style=\"background-color: #FFFEFE\">##い</span><span style=\"background-color: #FFFEFE\">と</span><span style=\"background-color: #FFFEFE\">いえ</span><span style=\"background-color: #FFFCFC\">そう</span><span style=\"background-color: #FFF4F4\">だ</span><span style=\"background-color: #FFFEFE\">。</span><span style=\"background-color: #FFFDFD\">キャリア</span><span style=\"background-color: #FFFEFE\">カウン</span><span style=\"background-color: #FFFEFE\">##セラー</span><span style=\"background-color: #FFFEFE\">の</span><span style=\"background-color: #FFFCFC\">資格</span><span style=\"background-color: #FFFEFE\">を</span><span style=\"background-color: #FFFEFE\">取得</span><span style=\"background-color: #FFFEFE\">し</span><span style=\"background-color: #FFFEFE\">、</span><span style=\"background-color: #FFFEFE\">システム</span><span style=\"background-color: #FFFEFE\">##エンジニア</span><span style=\"background-color: #FFFEFE\">から</span><span style=\"background-color: #FFFDFD\">キャリア</span><span style=\"background-color: #FFFEFE\">カウン</span><span style=\"background-color: #FFFEFE\">##セラー</span><span style=\"background-color: #FFFEFE\">へ</span><span style=\"background-color: #FFFEFE\">と</span><span style=\"background-color: #FFFCFC\">転職</span><span style=\"background-color: #FFFDFD\">し</span><span style=\"background-color: #FFFCFC\">た</span><span style=\"background-color: #FFFEFE\">チ</span><span style=\"background-color: #FFFEFE\">##カ</span><span style=\"background-color: #FFFEFE\">##コ</span><span style=\"background-color: #FFFEFE\">さん</span><span style=\"background-color: #FFFEFE\">(</span><span style=\"background-color: #FFFEFE\">00</span><span style=\"background-color: #FF-79-79\">歳</span><span style=\"background-color: #FFF9F9\">)</span><span style=\"background-color: #FFFAFA\">の</span><span style=\"background-color: #FFD8D8\">転職</span><span style=\"background-color: #FFFEFE\">体験</span><span style=\"background-color: #FFFCFC\">談</span><span style=\"background-color: #FFF3F3\">も</span><span style=\"background-color: #FF9090\">興味深い</span><span style=\"background-color: #FFF9F9\">。</span><br><br>"
            ],
            "text/plain": [
              "<IPython.core.display.HTML object>"
            ]
          },
          "metadata": {
            "tags": []
          }
        },
        {
          "output_type": "display_data",
          "data": {
            "text/html": [
              "正解: kaden<br>予測: kaden<br><span style=\"background-color: #FFFEFE\">[CLS]</span><span style=\"background-color: #FFABAB\">テレビ</span><span style=\"background-color: #FFFDFD\">離れ</span><span style=\"background-color: #FFFEFE\">なんて</span><span style=\"background-color: #FFFDFD\">関係</span><span style=\"background-color: #FFFEFE\">ない</span><span style=\"background-color: #FFFEFE\">!</span><span style=\"background-color: #FFFEFE\">##「</span><span style=\"background-color: #FFF7F7\">家政</span><span style=\"background-color: #FFE9E9\">婦</span><span style=\"background-color: #FFFEFE\">の</span><span style=\"background-color: #FFFEFE\">ミ</span><span style=\"background-color: #FFFBFB\">##タ</span><span style=\"background-color: #FFD5D5\">」</span><span style=\"background-color: #FFFDFD\">人気</span><span style=\"background-color: #FFFEFE\">が</span><span style=\"background-color: #FFFEFE\">すご</span><span style=\"background-color: #FFFEFE\">すぎる</span><span style=\"background-color: #FFF8F8\">!!</span><span style=\"background-color: #FFF9F9\">##【</span><span style=\"background-color: #FF1313\">話題</span><span style=\"background-color: #FF2D2D\">】</span><span style=\"background-color: #FFAEAE\">テレビ</span><span style=\"background-color: #FFFEFE\">離れ</span><span style=\"background-color: #FFFEFE\">や</span><span style=\"background-color: #FFFCFC\">視聴</span><span style=\"background-color: #FFFDFD\">率</span><span style=\"background-color: #FFFEFE\">不審</span><span style=\"background-color: #FFFEFE\">が</span><span style=\"background-color: #FFFEFE\">話題</span><span style=\"background-color: #FFFEFE\">に</span><span style=\"background-color: #FFFEFE\">なる</span><span style=\"background-color: #FFFEFE\">こと</span><span style=\"background-color: #FFFEFE\">が</span><span style=\"background-color: #FF1D1D\">多い</span><span style=\"background-color: #FFFEFE\">が</span><span style=\"background-color: #FFFEFE\">、</span><span style=\"background-color: #FFFEFE\">そんな</span><span style=\"background-color: #FFFEFE\">ネガ</span><span style=\"background-color: #FFFEFE\">##ティブ</span><span style=\"background-color: #FFFEFE\">な</span><span style=\"background-color: #FFFEFE\">話題</span><span style=\"background-color: #FFFEFE\">を</span><span style=\"background-color: #FFFEFE\">もの</span><span style=\"background-color: #FFFEFE\">と</span><span style=\"background-color: #FFFEFE\">も</span><span style=\"background-color: #FFFEFE\">し</span><span style=\"background-color: #FFFCFC\">ない</span><span style=\"background-color: #FFFEFE\">の</span><span style=\"background-color: #FFFEFE\">が</span><span style=\"background-color: #FFFEFE\">、</span><span style=\"background-color: #FFFEFE\">現在</span><span style=\"background-color: #FFDDDD\">日本テレビ</span><span style=\"background-color: #FFFAFA\">系</span><span style=\"background-color: #FFFEFE\">で</span><span style=\"background-color: #FFFAFA\">放送</span><span style=\"background-color: #FFFEFE\">さ</span><span style=\"background-color: #FFFEFE\">れ</span><span style=\"background-color: #FFFEFE\">て</span><span style=\"background-color: #FFFEFE\">いる</span><span style=\"background-color: #FFE5E5\">ドラマ</span><span style=\"background-color: #FFFEFE\">「</span><span style=\"background-color: #FFF7F7\">家政</span><span style=\"background-color: #FFFBFB\">婦</span><span style=\"background-color: #FFFEFE\">の</span><span style=\"background-color: #FFFEFE\">ミ</span><span style=\"background-color: #FFFDFD\">##タ</span><span style=\"background-color: #FF9E9E\">」</span><span style=\"background-color: #FF0606\">だ</span><span style=\"background-color: #FFFEFE\">。</span><span style=\"background-color: #FFB4B4\">松</span><span style=\"background-color: #FFFCFC\">##嶋</span><span style=\"background-color: #FFFEFE\">菜</span><span style=\"background-color: #FFFEFE\">##々</span><span style=\"background-color: #FFF9F9\">##子</span><span style=\"background-color: #FFEEEE\">主演</span><span style=\"background-color: #FFFEFE\">の</span><span style=\"background-color: #FF6767\">ドラマ</span><span style=\"background-color: #FFFEFE\">で</span><span style=\"background-color: #FFFEFE\">、</span><span style=\"background-color: #FFFEFE\">00</span><span style=\"background-color: #FFFDFD\">月</span><span style=\"background-color: #FFFEFE\">00</span><span style=\"background-color: #FFFEFE\">日</span><span style=\"background-color: #FFFEFE\">に</span><span style=\"background-color: #FFFDFD\">放送</span><span style=\"background-color: #FFFEFE\">さ</span><span style=\"background-color: #FFFEFE\">れ</span><span style=\"background-color: #FFFEFE\">た</span><span style=\"background-color: #FFFEFE\">第</span><span style=\"background-color: #FFFEFE\">0</span><span style=\"background-color: #FFFEFE\">話</span><span style=\"background-color: #FFFEFE\">の</span><span style=\"background-color: #FFFEFE\">平均</span><span style=\"background-color: #FFFEFE\">視聴</span><span style=\"background-color: #FFFDFD\">率</span><span style=\"background-color: #FFFEFE\">が</span><span style=\"background-color: #FFFEFE\">00</span><span style=\"background-color: #FFFEFE\">.</span><span style=\"background-color: #FFFEFE\">0</span><span style=\"background-color: #FFFEFE\">%</span><span style=\"background-color: #FFFEFE\">だっ</span><span style=\"background-color: #FFFCFC\">た</span><span style=\"background-color: #FFFEFE\">。</span><span style=\"background-color: #FFFEFE\">これ</span><span style=\"background-color: #FFFEFE\">は</span><span style=\"background-color: #FFFEFE\">今年</span><span style=\"background-color: #FFFCFC\">放送</span><span style=\"background-color: #FFFEFE\">さ</span><span style=\"background-color: #FFFEFE\">れ</span><span style=\"background-color: #FFFEFE\">た</span><span style=\"background-color: #FFDADA\">ドラマ</span><span style=\"background-color: #FFFEFE\">で</span><span style=\"background-color: #FFFEFE\">は</span><span style=\"background-color: #FFFEFE\">最高</span><span style=\"background-color: #FFFEFE\">の</span><span style=\"background-color: #FFFEFE\">視聴</span><span style=\"background-color: #FFF8F8\">率</span><span style=\"background-color: #FFF1F1\">だ</span><span style=\"background-color: #FFFEFE\">。</span><span style=\"background-color: #FFFEFE\">仕事</span><span style=\"background-color: #FFFEFE\">は</span><span style=\"background-color: #FFFEFE\">完璧</span><span style=\"background-color: #FFFEFE\">だ</span><span style=\"background-color: #FFFEFE\">が</span><span style=\"background-color: #FFFEFE\">一切</span><span style=\"background-color: #FFFEFE\">感情</span><span style=\"background-color: #FFFEFE\">を</span><span style=\"background-color: #FFFEFE\">見せ</span><span style=\"background-color: #FFFEFE\">ない</span><span style=\"background-color: #FFFDFD\">家政</span><span style=\"background-color: #FFD3D3\">婦</span><span style=\"background-color: #FFFEFE\">を</span><span style=\"background-color: #FF6666\">松</span><span style=\"background-color: #FFFCFC\">##嶋</span><span style=\"background-color: #FFFEFE\">菜</span><span style=\"background-color: #FFFEFE\">##々</span><span style=\"background-color: #FFF9F9\">##子</span><span style=\"background-color: #FFFEFE\">が</span><span style=\"background-color: #FFFDFD\">演じ</span><span style=\"background-color: #FFF8F8\">て</span><span style=\"background-color: #FF9A9A\">いる</span><span style=\"background-color: #FFFEFE\">。</span><span style=\"background-color: #FFFEFE\">家政</span><span style=\"background-color: #FF8585\">婦</span><span style=\"background-color: #FFFEFE\">の</span><span style=\"background-color: #FFFEFE\">多少</span><span style=\"background-color: #FFFEFE\">やり</span><span style=\"background-color: #FFFEFE\">すぎ</span><span style=\"background-color: #FFFEFE\">と</span><span style=\"background-color: #FFFEFE\">も</span><span style=\"background-color: #FFFEFE\">いえる</span><span style=\"background-color: #FFFEFE\">行動</span><span style=\"background-color: #FFFEFE\">から</span><span style=\"background-color: #FFFEFE\">目</span><span style=\"background-color: #FFFEFE\">が</span><span style=\"background-color: #FFFEFE\">離</span><span style=\"background-color: #FFFEFE\">##せ</span><span style=\"background-color: #FFFEFE\">ない</span><span style=\"background-color: #FFFDFD\">という</span><span style=\"background-color: #FFCBCB\">声</span><span style=\"background-color: #FFFBFB\">も</span><span style=\"background-color: #FFBEBE\">大きい</span><span style=\"background-color: #FFFEFE\">。</span><span style=\"background-color: #FFFDFD\">劇</span><span style=\"background-color: #FFFEFE\">中</span><span style=\"background-color: #FFFEFE\">で</span><span style=\"background-color: #FFF4F4\">松</span><span style=\"background-color: #FFFEFE\">##嶋</span><span style=\"background-color: #FFFEFE\">菜</span><span style=\"background-color: #FFFEFE\">##々</span><span style=\"background-color: #FFFCFC\">##子</span><span style=\"background-color: #FFFEFE\">が</span><span style=\"background-color: #FFFEFE\">持っ</span><span style=\"background-color: #FFFEFE\">て</span><span style=\"background-color: #FFFEFE\">いる</span><span style=\"background-color: #FFFEFE\">カバ</span><span style=\"background-color: #FFFEFE\">##ン</span><span style=\"background-color: #FFFEFE\">は</span><span style=\"background-color: #FFFEFE\">商品</span><span style=\"background-color: #FFFEFE\">化</span><span style=\"background-color: #FFFEFE\">さ</span><span style=\"background-color: #FFFEFE\">れ</span><span style=\"background-color: #FFFEFE\">、</span><span style=\"background-color: #FFFEFE\">公式</span><span style=\"background-color: #FFFBFB\">サイト</span><span style=\"background-color: #FFFEFE\">で</span><span style=\"background-color: #FFFEFE\">販売</span><span style=\"background-color: #FFFEFE\">さ</span><span style=\"background-color: #FFFEFE\">れ</span><span style=\"background-color: #FFFEFE\">て</span><span style=\"background-color: #FFFDFD\">いる</span><span style=\"background-color: #FFFEFE\">。</span><span style=\"background-color: #FFFEFE\">価格</span><span style=\"background-color: #FFFEFE\">は</span><span style=\"background-color: #FFFEFE\">0</span><span style=\"background-color: #FFFEFE\">万</span><span style=\"background-color: #FFFEFE\">000</span><span style=\"background-color: #FFFEFE\">##0</span><span style=\"background-color: #FFFEFE\">円</span><span style=\"background-color: #FFFEFE\">だ</span><span style=\"background-color: #FFFEFE\">が</span><span style=\"background-color: #FFFEFE\">こちら</span><span style=\"background-color: #FFFEFE\">も</span><span style=\"background-color: #FFFDFD\">人気</span><span style=\"background-color: #FFF5F5\">だ</span><span style=\"background-color: #FFFEFE\">。</span><span style=\"background-color: #FFFEFE\">最終</span><span style=\"background-color: #FFFCFC\">回</span><span style=\"background-color: #FFFEFE\">は</span><span style=\"background-color: #FFFEFE\">00</span><span style=\"background-color: #FFFEFE\">月</span><span style=\"background-color: #FFFEFE\">00</span><span style=\"background-color: #FFFEFE\">日</span><span style=\"background-color: #FFFEFE\">。</span><span style=\"background-color: #FFFEFE\">さらに</span><span style=\"background-color: #FFF9F9\">視聴</span><span style=\"background-color: #FFFDFD\">率</span><span style=\"background-color: #FFFEFE\">が</span><span style=\"background-color: #FFFEFE\">伸びる</span><span style=\"background-color: #FFFEFE\">可能</span><span style=\"background-color: #FFFEFE\">性</span><span style=\"background-color: #FFFEFE\">も</span><span style=\"background-color: #FFFEFE\">多く</span><span style=\"background-color: #FFFEFE\">、</span><span style=\"background-color: #FFFEFE\">要</span><span style=\"background-color: #FFFEFE\">注目</span><span style=\"background-color: #FFF6F6\">だ</span><span style=\"background-color: #FFFEFE\">。</span><span style=\"background-color: #FFFAFA\">家政</span><span style=\"background-color: #FFE4E4\">婦</span><span style=\"background-color: #FFFEFE\">の</span><span style=\"background-color: #FFFEFE\">ミ</span><span style=\"background-color: #FFFCFC\">##タ</span><span style=\"background-color: #FFECEC\">■</span><span style=\"background-color: #FFEBEB\">関連</span><span style=\"background-color: #FF-11-11\">記事</span><span style=\"background-color: #FFF2F2\">・</span><span style=\"background-color: #FFFEFE\">かわい</span><span style=\"background-color: #FFFEFE\">##い</span><span style=\"background-color: #FFFEFE\">姿</span><span style=\"background-color: #FFFEFE\">に</span><span style=\"background-color: #FFFEFE\">怒</span><span style=\"background-color: #FFFEFE\">##れ</span><span style=\"background-color: #FFFEFE\">ない</span><span style=\"background-color: #FFFEFE\">!</span><span style=\"background-color: #FFFEFE\">ねこ</span><span style=\"background-color: #FFFEFE\">界</span><span style=\"background-color: #FFFEFE\">の</span><span style=\"background-color: #FFFEFE\">ブーム</span><span style=\"background-color: #FFFEFE\">「</span><span style=\"background-color: #FFFEFE\">ご</span><span style=\"background-color: #FFFEFE\">##め</span><span style=\"background-color: #FFFEFE\">##ん</span><span style=\"background-color: #FFFEFE\">寝</span><span style=\"background-color: #FFE8E8\">」</span><span style=\"background-color: #FFFEFE\">は</span><span style=\"background-color: #FFF9F9\">ネット</span><span style=\"background-color: #FFFEFE\">で</span><span style=\"background-color: #FFFEFE\">も</span><span style=\"background-color: #FFFEFE\">話題</span><span style=\"background-color: #FFFEFE\">に</span><span style=\"background-color: #FFFEFE\">【</span><span style=\"background-color: #FFFAFA\">話題</span><span style=\"background-color: #FFFEFE\">】</span><span style=\"background-color: #FFB1B1\">・</span><span style=\"background-color: #FFFEFE\">豪</span><span style=\"background-color: #FFFEFE\">##徳</span><span style=\"background-color: #FFFEFE\">##寺</span><span style=\"background-color: #FFFEFE\">美</span><span style=\"background-color: #FFFEFE\">##鈴</span><span style=\"background-color: #FFFEFE\">お気に入り</span><span style=\"background-color: #FFFEFE\">の</span><span style=\"background-color: #FFFEFE\">レンジ</span><span style=\"background-color: #FFFEFE\">は</span><span style=\"background-color: #FFFEFE\">なに</span><span style=\"background-color: #FFFEFE\">?</span><span style=\"background-color: #FFFEFE\">##「</span><span style=\"background-color: #FFFEFE\">K</span><span style=\"background-color: #FFFEFE\">##iss</span><span style=\"background-color: #FFFEFE\">」</span><span style=\"background-color: #FFFEFE\">で</span><span style=\"background-color: #FFFEFE\">連載</span><span style=\"background-color: #FFFEFE\">スタート</span><span style=\"background-color: #FFFEFE\">の</span><span style=\"background-color: #FFFEFE\">「</span><span style=\"background-color: #FFFAFA\">家電</span><span style=\"background-color: #FFFEFE\">の</span><span style=\"background-color: #FFF8F8\">女</span><span style=\"background-color: #FFF5F5\">」</span><span style=\"background-color: #FFFEFE\">を</span><span style=\"background-color: #FFFEFE\">読ん</span><span style=\"background-color: #FFFEFE\">で</span><span style=\"background-color: #FFFEFE\">み</span><span style=\"background-color: #FFFEFE\">た</span><span style=\"background-color: #FFFCFC\">【</span><span style=\"background-color: #FFF6F6\">話題</span><span style=\"background-color: #FFFEFE\">】</span><span style=\"background-color: #FFE1E1\">・</span><span style=\"background-color: #FFFEFE\">Q</span><span style=\"background-color: #FFFEFE\">##R</span><span style=\"background-color: #FFFEFE\">コード</span><span style=\"background-color: #FFFEFE\">が</span><span style=\"background-color: #FFFEFE\">照明</span><span style=\"background-color: #FFFEFE\">に</span><span style=\"background-color: #FFFEFE\">なっ</span><span style=\"background-color: #FFFEFE\">た</span><span style=\"background-color: #FFFEFE\">「</span><span style=\"background-color: #FFFEFE\">W</span><span style=\"background-color: #FFFEFE\">##ood</span><span style=\"background-color: #FFFEFE\">##en</span><span style=\"background-color: #FFFEFE\">##Q</span><span style=\"background-color: #FFFEFE\">##RC</span><span style=\"background-color: #FFFEFE\">##ode</span><span style=\"background-color: #FFFEFE\">##St</span><span style=\"background-color: #FFFEFE\">##ool</span><span style=\"background-color: #FFFDFD\">」</span><span style=\"background-color: #FFFEFE\">が</span><span style=\"background-color: #FFFEFE\">おしゃ</span><span style=\"background-color: #FFFEFE\">##れ</span><span style=\"background-color: #FFFEFE\">すぎる</span><span style=\"background-color: #FFFAFA\">【</span><span style=\"background-color: #FFF9F9\">話題</span><span style=\"background-color: #FFFEFE\">】</span><span style=\"background-color: #FFE1E1\">・</span><span style=\"background-color: #FFFEFE\">クリスマス</span><span style=\"background-color: #FFFEFE\">は</span><span style=\"background-color: #FFD8D8\">テレビ</span><span style=\"background-color: #FFFEFE\">を</span><span style=\"background-color: #FFFEFE\">見</span><span style=\"background-color: #FFFEFE\">##よ</span><span style=\"background-color: #FFFEFE\">う</span><span style=\"background-color: #FFFEFE\">!</span><span style=\"background-color: #FFFEFE\">00</span><span style=\"background-color: #FFFEFE\">日</span><span style=\"background-color: #FFFEFE\">は</span><span style=\"background-color: #FFFEFE\">NHK</span><span style=\"background-color: #FFFDFD\">スペシャル</span><span style=\"background-color: #FFFEFE\">「</span><span style=\"background-color: #FFFDFD\">世界</span><span style=\"background-color: #FFFEFE\">を</span><span style=\"background-color: #FFFEFE\">変え</span><span style=\"background-color: #FFFEFE\">た</span><span style=\"background-color: #FFFEFE\">男</span><span style=\"background-color: #FFFEFE\">スティーブ</span><span style=\"background-color: #FFFEFE\">・</span><span style=\"background-color: #FFFEFE\">ジョ</span><span style=\"background-color: #FFF8F8\">##ブズ</span><span style=\"background-color: #FFFDFD\">」</span><span style=\"background-color: #FFFEFE\">が</span><span style=\"background-color: #FFFEFE\">放送</span><span style=\"background-color: #FFFEFE\">に</span><span style=\"background-color: #FFFEFE\">【</span><span style=\"background-color: #FFFEFE\">クリスマス</span><span style=\"background-color: #FFFEFE\">】</span><span style=\"background-color: #FF9090\">・</span><span style=\"background-color: #FFFEFE\">GRE</span><span style=\"background-color: #FFF5F5\">##E</span><span style=\"background-color: #FFFEFE\">の</span><span style=\"background-color: #FFFEFE\">アメリカ</span><span style=\"background-color: #FFFEFE\">で</span><span style=\"background-color: #FFFEFE\">の</span><span style=\"background-color: #FFFEFE\">本気</span><span style=\"background-color: #FFFEFE\">に</span><span style=\"background-color: #FFFDFD\">注目</span><span style=\"background-color: #FFFEFE\">!</span><span style=\"background-color: #FFFEFE\">開発</span><span style=\"background-color: #FFFEFE\">要員</span><span style=\"background-color: #FFFEFE\">を</span><span style=\"background-color: #FFFEFE\">倍</span><span style=\"background-color: #FFFEFE\">##増</span><span style=\"background-color: #FFFEFE\">へ</span><span style=\"background-color: #FFF8F8\">【</span><span style=\"background-color: #FFF8F8\">話題</span><span style=\"background-color: #FFFDFD\">】</span><br><br>"
            ],
            "text/plain": [
              "<IPython.core.display.HTML object>"
            ]
          },
          "metadata": {
            "tags": []
          }
        },
        {
          "output_type": "display_data",
          "data": {
            "text/html": [
              "正解: sports<br>予測: sports<br><span style=\"background-color: #FFFEFE\">[CLS]</span><span style=\"background-color: #FFF1F1\">宇佐</span><span style=\"background-color: #FFB9B9\">##美</span><span style=\"background-color: #FF6F6F\">移籍</span><span style=\"background-color: #FFFAFA\">失敗</span><span style=\"background-color: #FFFEFE\">に</span><span style=\"background-color: #FFFEFE\">「</span><span style=\"background-color: #FFFEFE\">0</span><span style=\"background-color: #FFC9C9\">億</span><span style=\"background-color: #FFFBFB\">の</span><span style=\"background-color: #FFFCFC\">価値</span><span style=\"background-color: #FFFEFE\">も</span><span style=\"background-color: #FFFEFE\">ない</span><span style=\"background-color: #FFFAFA\">の</span><span style=\"background-color: #FFFEFE\">か</span><span style=\"background-color: #FFFEFE\">」</span><span style=\"background-color: #FFFEFE\">の</span><span style=\"background-color: #FFD6D6\">声</span><span style=\"background-color: #FF9595\">バイエルン</span><span style=\"background-color: #FFFEFE\">・</span><span style=\"background-color: #FFFBFB\">ミュンヘン</span><span style=\"background-color: #FFFEFE\">(</span><span style=\"background-color: #FFEDED\">ドイツ</span><span style=\"background-color: #FFF9F9\">)</span><span style=\"background-color: #FFE3E3\">は</span><span style=\"background-color: #FFFEFE\">0</span><span style=\"background-color: #FFF9F9\">日</span><span style=\"background-color: #FFE9E9\">、</span><span style=\"background-color: #FFFEFE\">G</span><span style=\"background-color: #FFECEC\">大阪</span><span style=\"background-color: #FFFEFE\">から</span><span style=\"background-color: #FFFEFE\">0</span><span style=\"background-color: #FFFEFE\">年間</span><span style=\"background-color: #FFFEFE\">の</span><span style=\"background-color: #FFFEFE\">期限</span><span style=\"background-color: #FFFEFE\">付き</span><span style=\"background-color: #FFFEFE\">で</span><span style=\"background-color: #FFF9F9\">獲得</span><span style=\"background-color: #FFFEFE\">し</span><span style=\"background-color: #FFFEFE\">て</span><span style=\"background-color: #FFFEFE\">いる</span><span style=\"background-color: #FFFAFA\">日本</span><span style=\"background-color: #FFB6B6\">代表</span><span style=\"background-color: #FFFEFE\">MF</span><span style=\"background-color: #FFFEFE\">宇佐</span><span style=\"background-color: #FFFBFB\">##美</span><span style=\"background-color: #FFFEFE\">貴</span><span style=\"background-color: #FFFAFA\">##史</span><span style=\"background-color: #FFFEFE\">(</span><span style=\"background-color: #FFFEFE\">00</span><span style=\"background-color: #FFF8F8\">歳</span><span style=\"background-color: #FFFEFE\">)</span><span style=\"background-color: #FFFEFE\">について</span><span style=\"background-color: #FFFAFA\">、</span><span style=\"background-color: #FFFEFE\">完全</span><span style=\"background-color: #FFF8F8\">移籍</span><span style=\"background-color: #FFFEFE\">の</span><span style=\"background-color: #FFFDFD\">買い取り</span><span style=\"background-color: #FFF7F7\">オプション</span><span style=\"background-color: #FFFEFE\">を</span><span style=\"background-color: #FFFEFE\">行使</span><span style=\"background-color: #FFFEFE\">し</span><span style=\"background-color: #FFFEFE\">ない</span><span style=\"background-color: #FFFEFE\">こと</span><span style=\"background-color: #FFFEFE\">を</span><span style=\"background-color: #FFF9F9\">明らか</span><span style=\"background-color: #FFFDFD\">に</span><span style=\"background-color: #FFF9F9\">し</span><span style=\"background-color: #FFDEDE\">た</span><span style=\"background-color: #FFFEFE\">。</span><span style=\"background-color: #FFFBFB\">すでに</span><span style=\"background-color: #FFFEFE\">G</span><span style=\"background-color: #FFFAFA\">大阪</span><span style=\"background-color: #FFFEFE\">に</span><span style=\"background-color: #FFFEFE\">連絡</span><span style=\"background-color: #FFFEFE\">ず</span><span style=\"background-color: #FFFEFE\">##み</span><span style=\"background-color: #FFFEFE\">で</span><span style=\"background-color: #FFFAFA\">、</span><span style=\"background-color: #FFF5F5\">宇佐</span><span style=\"background-color: #FF8F8F\">##美</span><span style=\"background-color: #FFFEFE\">は</span><span style=\"background-color: #FFF2F2\">レンタル</span><span style=\"background-color: #FFFEFE\">期限</span><span style=\"background-color: #FFFEFE\">の</span><span style=\"background-color: #FFFEFE\">0</span><span style=\"background-color: #FFFEFE\">月</span><span style=\"background-color: #FFFEFE\">以降</span><span style=\"background-color: #FFFEFE\">に</span><span style=\"background-color: #FFFEFE\">新た</span><span style=\"background-color: #FFFEFE\">な</span><span style=\"background-color: #FFF4F4\">チーム</span><span style=\"background-color: #FFFEFE\">を</span><span style=\"background-color: #FFFEFE\">探す</span><span style=\"background-color: #FFFDFD\">。</span><span style=\"background-color: #FFFCFC\">宇佐</span><span style=\"background-color: #FFEDED\">##美</span><span style=\"background-color: #FFFEFE\">の</span><span style=\"background-color: #FFFEFE\">完全</span><span style=\"background-color: #FFF1F1\">移籍</span><span style=\"background-color: #FFFEFE\">に</span><span style=\"background-color: #FFFEFE\">は</span><span style=\"background-color: #FFFEFE\">0</span><span style=\"background-color: #FFFBFB\">億</span><span style=\"background-color: #FFFEFE\">円</span><span style=\"background-color: #FFFEFE\">の</span><span style=\"background-color: #FFFDFD\">移籍</span><span style=\"background-color: #FFFBFB\">金</span><span style=\"background-color: #FFFEFE\">が</span><span style=\"background-color: #FFFDFD\">かかる</span><span style=\"background-color: #FFFEFE\">が</span><span style=\"background-color: #FFFEFE\">、</span><span style=\"background-color: #FF7474\">バイエルン</span><span style=\"background-color: #FFFEFE\">は</span><span style=\"background-color: #FFFDFD\">この</span><span style=\"background-color: #FFFBFB\">金額</span><span style=\"background-color: #FFFEFE\">に</span><span style=\"background-color: #FFFEFE\">難色</span><span style=\"background-color: #FFFEFE\">を</span><span style=\"background-color: #FFFEFE\">示し</span><span style=\"background-color: #FFFEFE\">た</span><span style=\"background-color: #FFFCFC\">形</span><span style=\"background-color: #FF1212\">だ</span><span style=\"background-color: #FFFEFE\">。</span><span style=\"background-color: #FFF3F3\">もっとも</span><span style=\"background-color: #FFF5F5\">、</span><span style=\"background-color: #FFFBFB\">移籍</span><span style=\"background-color: #FFFDFD\">市場</span><span style=\"background-color: #FFFCFC\">における</span><span style=\"background-color: #FFFEFE\">0</span><span style=\"background-color: #FFFCFC\">億</span><span style=\"background-color: #FFF4F4\">円</span><span style=\"background-color: #FFFDFD\">という</span><span style=\"background-color: #FFF4F4\">数字</span><span style=\"background-color: #FFFDFD\">は</span><span style=\"background-color: #FFFDFD\">、</span><span style=\"background-color: #FFFEFE\">相対</span><span style=\"background-color: #FFFEFE\">的</span><span style=\"background-color: #FFFEFE\">に</span><span style=\"background-color: #FFFEFE\">は</span><span style=\"background-color: #FFFEFE\">さし</span><span style=\"background-color: #FFFEFE\">##て</span><span style=\"background-color: #FFFBFB\">高額</span><span style=\"background-color: #FFFDFD\">で</span><span style=\"background-color: #FFFEFE\">は</span><span style=\"background-color: #FFA2A2\">ない</span><span style=\"background-color: #FFFEFE\">。</span><span style=\"background-color: #FFF6F6\">移籍</span><span style=\"background-color: #FFFEFE\">が</span><span style=\"background-color: #FFFEFE\">成立</span><span style=\"background-color: #FFFEFE\">は</span><span style=\"background-color: #FFFEFE\">し</span><span style=\"background-color: #FFFEFE\">なかっ</span><span style=\"background-color: #FFFEFE\">た</span><span style=\"background-color: #FFFEFE\">が</span><span style=\"background-color: #FFFDFD\">、</span><span style=\"background-color: #FFFDFD\">本田</span><span style=\"background-color: #FFFEFE\">圭</span><span style=\"background-color: #FFFEFE\">佑</span><span style=\"background-color: #FFFEFE\">の</span><span style=\"background-color: #FFFDFD\">移籍</span><span style=\"background-color: #FFFBFB\">金</span><span style=\"background-color: #FFF6F6\">として</span><span style=\"background-color: #FFFEFE\">CS</span><span style=\"background-color: #FFFEFE\">##KA</span><span style=\"background-color: #FFF8F8\">モスクワ</span><span style=\"background-color: #FFFEFE\">が</span><span style=\"background-color: #FFFEFE\">ラ</span><span style=\"background-color: #FFFCFC\">##ツィオ</span><span style=\"background-color: #FFFEFE\">に</span><span style=\"background-color: #FFFEFE\">提示</span><span style=\"background-color: #FFFEFE\">し</span><span style=\"background-color: #FFFEFE\">た</span><span style=\"background-color: #FFFEFE\">額</span><span style=\"background-color: #FFFEFE\">は</span><span style=\"background-color: #FFFEFE\">00</span><span style=\"background-color: #FFFEFE\">億</span><span style=\"background-color: #FFFEFE\">円</span><span style=\"background-color: #FFFEFE\">と</span><span style=\"background-color: #FFFEFE\">も</span><span style=\"background-color: #FFFEFE\">言わ</span><span style=\"background-color: #FFFEFE\">れ</span><span style=\"background-color: #FFFEFE\">て</span><span style=\"background-color: #FFFBFB\">いる</span><span style=\"background-color: #FFFEFE\">。</span><span style=\"background-color: #FFF9F9\">宇佐</span><span style=\"background-color: #FFDADA\">##美</span><span style=\"background-color: #FFFEFE\">は</span><span style=\"background-color: #FFFDFD\">、</span><span style=\"background-color: #FFFBFB\">本田</span><span style=\"background-color: #FFFEFE\">の</span><span style=\"background-color: #FFFEFE\">約</span><span style=\"background-color: #FFFEFE\">0</span><span style=\"background-color: #FFFEFE\">分の</span><span style=\"background-color: #FFFDFD\">0</span><span style=\"background-color: #FFFAFA\">の</span><span style=\"background-color: #FFFAFA\">価格</span><span style=\"background-color: #FFFEFE\">で</span><span style=\"background-color: #FFFEFE\">すら</span><span style=\"background-color: #FFFEFE\">取引</span><span style=\"background-color: #FFFEFE\">さ</span><span style=\"background-color: #FFFEFE\">れ</span><span style=\"background-color: #FFFEFE\">なかっ</span><span style=\"background-color: #FFFEFE\">た</span><span style=\"background-color: #FFFEFE\">という</span><span style=\"background-color: #FFFEFE\">こと</span><span style=\"background-color: #FFFEFE\">に</span><span style=\"background-color: #FFFDFD\">なる</span><span style=\"background-color: #FFFEFE\">。</span><span style=\"background-color: #FFF5F5\">この</span><span style=\"background-color: #FFF2F2\">移籍</span><span style=\"background-color: #FFFEFE\">不</span><span style=\"background-color: #FFFDFD\">##成</span><span style=\"background-color: #FFFAFA\">##立</span><span style=\"background-color: #FFFBFB\">について</span><span style=\"background-color: #FFFCFC\">、</span><span style=\"background-color: #FFFBFB\">ネット</span><span style=\"background-color: #FFD3D3\">上</span><span style=\"background-color: #FFF7F7\">で</span><span style=\"background-color: #FFFCFC\">は</span><span style=\"background-color: #FFFEFE\">「</span><span style=\"background-color: #FFFEFE\">0</span><span style=\"background-color: #FFF2F2\">億</span><span style=\"background-color: #FFF8F8\">の</span><span style=\"background-color: #FFFDFD\">価値</span><span style=\"background-color: #FFFEFE\">も</span><span style=\"background-color: #FFFEFE\">ない</span><span style=\"background-color: #FFFEFE\">の</span><span style=\"background-color: #FFFEFE\">か</span><span style=\"background-color: #FFF9F9\">よ</span><span style=\"background-color: #FFFEFE\">」</span><span style=\"background-color: #FFFDFD\">「</span><span style=\"background-color: #FFFCFC\">ユニ</span><span style=\"background-color: #FFFEFE\">販売</span><span style=\"background-color: #FFFEFE\">力</span><span style=\"background-color: #FFFEFE\">も</span><span style=\"background-color: #FFFEFE\">含め</span><span style=\"background-color: #FFFEFE\">て</span><span style=\"background-color: #FFFEFE\">の</span><span style=\"background-color: #FFFCFC\">評価</span><span style=\"background-color: #FFFEFE\">か</span><span style=\"background-color: #FFFEFE\">」</span><span style=\"background-color: #FFFAFA\">「</span><span style=\"background-color: #FFFEFE\">転</span><span style=\"background-color: #FFF8F8\">##売</span><span style=\"background-color: #FFFEFE\">し</span><span style=\"background-color: #FFFEFE\">て</span><span style=\"background-color: #FFFEFE\">も</span><span style=\"background-color: #FFFEFE\">0</span><span style=\"background-color: #FFFDFD\">億</span><span style=\"background-color: #FFFEFE\">以上</span><span style=\"background-color: #FFFEFE\">の</span><span style=\"background-color: #FFFEFE\">値</span><span style=\"background-color: #FFFEFE\">は</span><span style=\"background-color: #FFFEFE\">つか</span><span style=\"background-color: #FFFEFE\">ない</span><span style=\"background-color: #FFFEFE\">と</span><span style=\"background-color: #FFFEFE\">判断</span><span style=\"background-color: #FFFEFE\">さ</span><span style=\"background-color: #FFFEFE\">れ</span><span style=\"background-color: #FFFEFE\">た</span><span style=\"background-color: #FFFEFE\">の</span><span style=\"background-color: #FFFEFE\">か</span><span style=\"background-color: #FFFEFE\">」</span><span style=\"background-color: #FFFBFB\">「</span><span style=\"background-color: #FFFEFE\">将来</span><span style=\"background-color: #FFFEFE\">性</span><span style=\"background-color: #FFFEFE\">を</span><span style=\"background-color: #FFFEFE\">含め</span><span style=\"background-color: #FFFEFE\">て</span><span style=\"background-color: #FFFEFE\">0</span><span style=\"background-color: #FFFAFA\">億</span><span style=\"background-color: #FFFDFD\">出す</span><span style=\"background-color: #FFFEFE\">価値</span><span style=\"background-color: #FFFEFE\">が</span><span style=\"background-color: #FFFEFE\">ない</span><span style=\"background-color: #FFFEFE\">と</span><span style=\"background-color: #FFFEFE\">判断</span><span style=\"background-color: #FFFEFE\">さ</span><span style=\"background-color: #FFFEFE\">れ</span><span style=\"background-color: #FFFEFE\">た</span><span style=\"background-color: #FFFEFE\">」</span><span style=\"background-color: #FFF2F2\">と</span><span style=\"background-color: #FFFDFD\">、</span><span style=\"background-color: #FFBDBD\">バイエルン</span><span style=\"background-color: #FFFEFE\">の</span><span style=\"background-color: #FFFEFE\">評価</span><span style=\"background-color: #FFFEFE\">が</span><span style=\"background-color: #FFFEFE\">あまりに</span><span style=\"background-color: #FFFEFE\">辛</span><span style=\"background-color: #FFFEFE\">##辣</span><span style=\"background-color: #FFFEFE\">な</span><span style=\"background-color: #FFFEFE\">こと</span><span style=\"background-color: #FFFEFE\">に</span><span style=\"background-color: #FFFEFE\">驚き</span><span style=\"background-color: #FFFEFE\">の</span><span style=\"background-color: #FFEAEA\">声</span><span style=\"background-color: #FFF9F9\">が</span><span style=\"background-color: #FFE6E6\">挙がっ</span><span style=\"background-color: #FFC0C0\">て</span><span style=\"background-color: #FF-48-48\">いる</span><span style=\"background-color: #FFFEFE\">。</span><span style=\"background-color: #FFF6F6\">もっとも</span><span style=\"background-color: #FFFEFE\">、</span><span style=\"background-color: #FFFDFD\">宇佐</span><span style=\"background-color: #FFE6E6\">##美</span><span style=\"background-color: #FFFEFE\">は</span><span style=\"background-color: #FFFEFE\">まだ</span><span style=\"background-color: #FFFEFE\">00</span><span style=\"background-color: #FFFEFE\">歳</span><span style=\"background-color: #FFFEFE\">の</span><span style=\"background-color: #FFFEFE\">若手</span><span style=\"background-color: #FFFEFE\">に</span><span style=\"background-color: #FFFBFB\">過ぎ</span><span style=\"background-color: #FFFEFE\">ない</span><span style=\"background-color: #FFFEFE\">。</span><span style=\"background-color: #FFEFEF\">レンタル</span><span style=\"background-color: #FFFEFE\">期限</span><span style=\"background-color: #FFFEFE\">が</span><span style=\"background-color: #FFFEFE\">切れ</span><span style=\"background-color: #FFFEFE\">##る</span><span style=\"background-color: #FFFEFE\">0</span><span style=\"background-color: #FFFDFD\">月</span><span style=\"background-color: #FFFEFE\">以降</span><span style=\"background-color: #FFFEFE\">、</span><span style=\"background-color: #FFFDFD\">どの</span><span style=\"background-color: #FFFEFE\">よう</span><span style=\"background-color: #FFFEFE\">な</span><span style=\"background-color: #FFFCFC\">キャリア</span><span style=\"background-color: #FFFEFE\">を</span><span style=\"background-color: #FFFEFE\">積み</span><span style=\"background-color: #FFFEFE\">##上げ</span><span style=\"background-color: #FFFEFE\">て</span><span style=\"background-color: #FFFEFE\">いく</span><span style=\"background-color: #FFFEFE\">か</span><span style=\"background-color: #FFFEFE\">、</span><span style=\"background-color: #FFFEFE\">これから</span><span style=\"background-color: #FFFEFE\">の</span><span style=\"background-color: #FFFEFE\">活躍</span><span style=\"background-color: #FFFEFE\">が</span><span style=\"background-color: #FFFCFC\">注目</span><span style=\"background-color: #FFFDFD\">さ</span><span style=\"background-color: #FFF8F8\">れる</span><span style=\"background-color: #FFFEFE\">。</span><span style=\"background-color: #FF1414\">■</span><span style=\"background-color: #FF7878\">関連</span><span style=\"background-color: #FFA9A9\">リンク</span><span style=\"background-color: #FFFCFC\">・</span><span style=\"background-color: #FFF5F5\">バイエルン</span><span style=\"background-color: #FFFDFD\">、</span><span style=\"background-color: #FFFDFD\">宇佐</span><span style=\"background-color: #FFF7F7\">##美</span><span style=\"background-color: #FFFEFE\">の</span><span style=\"background-color: #FFFEFE\">完全</span><span style=\"background-color: #FFFAFA\">移籍</span><span style=\"background-color: #FFFEFE\">で</span><span style=\"background-color: #FFFEFE\">の</span><span style=\"background-color: #FFFEFE\">獲得</span><span style=\"background-color: #FFFEFE\">に</span><span style=\"background-color: #FFFDFD\">難色</span><span style=\"background-color: #FFFEFE\">「</span><span style=\"background-color: #FFFDFD\">難しい</span><span style=\"background-color: #FFFAFA\">問題</span><span style=\"background-color: #FFFDFD\">」</span><span style=\"background-color: #FF6666\">・</span><span style=\"background-color: #FFF6F6\">宇佐</span><span style=\"background-color: #FFFBFB\">##美</span><span style=\"background-color: #FFFDFD\">嫁</span><span style=\"background-color: #FFFEFE\">の</span><span style=\"background-color: #FFFEFE\">日記</span><span style=\"background-color: #FFFEFE\">が</span><span style=\"background-color: #FFFEFE\">「</span><span style=\"background-color: #FFFEFE\">ラピ</span><span style=\"background-color: #FFFEFE\">##ュ</span><span style=\"background-color: #FFC9C9\">##タ</span><span style=\"background-color: #FFFEFE\">」</span><span style=\"background-color: #FFFEFE\">すぎる</span><span style=\"background-color: #FFFEFE\">と</span><span style=\"background-color: #FFFEFE\">話題</span><span style=\"background-color: #FFFEFE\">に</span><span style=\"background-color: #FFEDED\">・</span><span style=\"background-color: #FFFEFE\">まだ</span><span style=\"background-color: #FFFEFE\">##ま</span><span style=\"background-color: #FFFEFE\">##だ</span><span style=\"background-color: #FFFEFE\">足り</span><span style=\"background-color: #FFFEFE\">ない</span><span style=\"background-color: #FFFEFE\">!</span><span style=\"background-color: #FFFEFE\">日本人</span><span style=\"background-color: #FFF6F6\">選手</span><span style=\"background-color: #FFFEFE\">は</span><span style=\"background-color: #FFFEFE\">もっと</span><span style=\"background-color: #FFFEFE\">本</span><span style=\"background-color: #FFFEFE\">##場</span><span style=\"background-color: #FFF9F9\">欧州</span><span style=\"background-color: #FFFEFE\">を</span><span style=\"background-color: #FFFEFE\">目指</span><span style=\"background-color: #FFFDFD\">##せ</span><span style=\"background-color: #FFFEFE\">!!</span><br><br>"
            ],
            "text/plain": [
              "<IPython.core.display.HTML object>"
            ]
          },
          "metadata": {
            "tags": []
          }
        },
        {
          "output_type": "display_data",
          "data": {
            "text/html": [
              "正解: IT<br>予測: IT<br><span style=\"background-color: #FFFEFE\">[CLS]</span><span style=\"background-color: #FFFDFD\">スマ</span><span style=\"background-color: #FFCFCF\">##ホ</span><span style=\"background-color: #FFFEFE\">も</span><span style=\"background-color: #FFFEFE\">バッテリー</span><span style=\"background-color: #FFFCFC\">パック</span><span style=\"background-color: #FFFEFE\">も</span><span style=\"background-color: #FFEAEA\">コレ</span><span style=\"background-color: #FFFEFE\">0</span><span style=\"background-color: #FFF7F7\">台</span><span style=\"background-color: #FFFEFE\">で</span><span style=\"background-color: #FFFDFD\">OK</span><span style=\"background-color: #FFF0F0\">!</span><span style=\"background-color: #FFFEFE\">欲</span><span style=\"background-color: #FFFDFD\">##張り</span><span style=\"background-color: #FFF8F8\">な</span><span style=\"background-color: #FFFDFD\">マルチ</span><span style=\"background-color: #FFFEFE\">充電</span><span style=\"background-color: #FFFBFB\">器</span><span style=\"background-color: #FF2F2F\">【</span><span style=\"background-color: #FF2C2C\">イケ</span><span style=\"background-color: #FFD5D5\">##ショップ</span><span style=\"background-color: #FFFEFE\">の</span><span style=\"background-color: #FFFEFE\">レア</span><span style=\"background-color: #FF5B5B\">物</span><span style=\"background-color: #FF8A8A\">】</span><span style=\"background-color: #FFFDFD\">最近</span><span style=\"background-color: #FFFEFE\">の</span><span style=\"background-color: #FFD6D6\">スマート</span><span style=\"background-color: #FFA2A2\">フォン</span><span style=\"background-color: #FFFEFE\">は</span><span style=\"background-color: #FFFEFE\">、</span><span style=\"background-color: #FFE9E9\">本格</span><span style=\"background-color: #FFF8F8\">デジ</span><span style=\"background-color: #FFFEFE\">##カ</span><span style=\"background-color: #FFFCFC\">##メ</span><span style=\"background-color: #FFFEFE\">として</span><span style=\"background-color: #FFFEFE\">使え</span><span style=\"background-color: #FFFEFE\">たり</span><span style=\"background-color: #FFFEFE\">、</span><span style=\"background-color: #FFF9F9\">パソコン</span><span style=\"background-color: #FFFEFE\">なみ</span><span style=\"background-color: #FFFEFE\">に</span><span style=\"background-color: #FFFAFA\">ネット</span><span style=\"background-color: #FFFBFB\">サーフィン</span><span style=\"background-color: #FFFEFE\">が</span><span style=\"background-color: #FFFEFE\">でき</span><span style=\"background-color: #FFFEFE\">たり</span><span style=\"background-color: #FFFEFE\">、</span><span style=\"background-color: #FFFCFC\">無料</span><span style=\"background-color: #FFF9F9\">通話</span><span style=\"background-color: #FFFEFE\">が</span><span style=\"background-color: #FFFEFE\">でき</span><span style=\"background-color: #FFFEFE\">たり</span><span style=\"background-color: #FFFCFC\">と</span><span style=\"background-color: #FFFAFA\">、</span><span style=\"background-color: #FFEBEB\">驚く</span><span style=\"background-color: #FFFDFD\">ほど</span><span style=\"background-color: #FFFAFA\">便利</span><span style=\"background-color: #FFFAFA\">な</span><span style=\"background-color: #FFFCFC\">機能</span><span style=\"background-color: #FFFBFB\">が</span><span style=\"background-color: #FFFBFB\">詰</span><span style=\"background-color: #FFE7E7\">##まっ</span><span style=\"background-color: #FFF6F6\">て</span><span style=\"background-color: #FFF6F6\">いる</span><span style=\"background-color: #FFFEFE\">。</span><span style=\"background-color: #FFFDFD\">高性能</span><span style=\"background-color: #FFFEFE\">・</span><span style=\"background-color: #FFFEFE\">多</span><span style=\"background-color: #FFFCFC\">機能</span><span style=\"background-color: #FFFEFE\">な</span><span style=\"background-color: #FFFBFB\">の</span><span style=\"background-color: #FFF2F2\">は</span><span style=\"background-color: #FFFEFE\">いい</span><span style=\"background-color: #FFFEFE\">が</span><span style=\"background-color: #FFFEFE\">、</span><span style=\"background-color: #FFFEFE\">使い</span><span style=\"background-color: #FFFEFE\">すぎ</span><span style=\"background-color: #FFFEFE\">や</span><span style=\"background-color: #FFFDFD\">高性能</span><span style=\"background-color: #FFFEFE\">なる</span><span style=\"background-color: #FFFEFE\">が</span><span style=\"background-color: #FFFEFE\">ゆえ</span><span style=\"background-color: #FFFEFE\">の</span><span style=\"background-color: #FFFDFD\">電池</span><span style=\"background-color: #FFFEFE\">切れ</span><span style=\"background-color: #FFFEFE\">に</span><span style=\"background-color: #FFFEFE\">悩まさ</span><span style=\"background-color: #FFFEFE\">れ</span><span style=\"background-color: #FFFEFE\">て</span><span style=\"background-color: #FFFEFE\">いる</span><span style=\"background-color: #FFC7C7\">人</span><span style=\"background-color: #FFFEFE\">は</span><span style=\"background-color: #FFFEFE\">意外</span><span style=\"background-color: #FFFEFE\">##と</span><span style=\"background-color: #FFF7F7\">多い</span><span style=\"background-color: #FFFEFE\">。</span><span style=\"background-color: #FF5A5A\">ユーザー</span><span style=\"background-color: #FFFEFE\">の</span><span style=\"background-color: #FFFEFE\">中</span><span style=\"background-color: #FFFEFE\">に</span><span style=\"background-color: #FFFEFE\">は</span><span style=\"background-color: #FFFEFE\">、</span><span style=\"background-color: #FFFEFE\">予備</span><span style=\"background-color: #FFFEFE\">の</span><span style=\"background-color: #FFFDFD\">バッテリー</span><span style=\"background-color: #FFFDFD\">パック</span><span style=\"background-color: #FFFEFE\">を</span><span style=\"background-color: #FFFEFE\">購入</span><span style=\"background-color: #FFFEFE\">し</span><span style=\"background-color: #FFFEFE\">て</span><span style=\"background-color: #FFFEFE\">いる</span><span style=\"background-color: #FFF7F7\">人</span><span style=\"background-color: #FFFEFE\">も</span><span style=\"background-color: #FFFEFE\">いる</span><span style=\"background-color: #FFE0E0\">だろ</span><span style=\"background-color: #FFC8C8\">う</span><span style=\"background-color: #FFFEFE\">。</span><span style=\"background-color: #FFFEFE\">予備</span><span style=\"background-color: #FFFEFE\">バッテリー</span><span style=\"background-color: #FFFEFE\">は</span><span style=\"background-color: #FFFEFE\">、</span><span style=\"background-color: #FFF8F8\">スマート</span><span style=\"background-color: #FFFEFE\">フォン</span><span style=\"background-color: #FFFEFE\">の</span><span style=\"background-color: #FFFEFE\">裏</span><span style=\"background-color: #FFFEFE\">蓋</span><span style=\"background-color: #FFFEFE\">を</span><span style=\"background-color: #FFFEFE\">外し</span><span style=\"background-color: #FFFEFE\">て</span><span style=\"background-color: #FFFEFE\">交換</span><span style=\"background-color: #FFFEFE\">し</span><span style=\"background-color: #FFFEFE\">ない</span><span style=\"background-color: #FFFEFE\">と</span><span style=\"background-color: #FFFEFE\">なら</span><span style=\"background-color: #FFFCFC\">ず</span><span style=\"background-color: #FFFEFE\">、</span><span style=\"background-color: #FFFDFD\">バッテリー</span><span style=\"background-color: #FFFEFE\">に</span><span style=\"background-color: #FFFDFD\">対応</span><span style=\"background-color: #FFFEFE\">し</span><span style=\"background-color: #FFFEFE\">た</span><span style=\"background-color: #FFFEFE\">専用</span><span style=\"background-color: #FFFEFE\">充電</span><span style=\"background-color: #FFFEFE\">機</span><span style=\"background-color: #FFFEFE\">で</span><span style=\"background-color: #FFFEFE\">ない</span><span style=\"background-color: #FFFEFE\">と</span><span style=\"background-color: #FFFEFE\">充電</span><span style=\"background-color: #FFFDFD\">でき</span><span style=\"background-color: #FFF9F9\">ない</span><span style=\"background-color: #FFFEFE\">。</span><span style=\"background-color: #FFFDFD\">「</span><span style=\"background-color: #FFC7C7\">イケ</span><span style=\"background-color: #FFD1D1\">##ショップ</span><span style=\"background-color: #FFFEFE\">の</span><span style=\"background-color: #FFFEFE\">レア</span><span style=\"background-color: #FF6A6A\">物</span><span style=\"background-color: #FF7B7B\">」</span><span style=\"background-color: #FFDDDD\">で</span><span style=\"background-color: #FFCDCD\">は</span><span style=\"background-color: #FFFDFD\">、</span><span style=\"background-color: #FFD1D1\">スマート</span><span style=\"background-color: #FFD3D3\">フォン</span><span style=\"background-color: #FFFEFE\">の</span><span style=\"background-color: #FFFDFD\">悩み</span><span style=\"background-color: #FFFEFE\">を</span><span style=\"background-color: #FFFEFE\">解消</span><span style=\"background-color: #FFFEFE\">する</span><span style=\"background-color: #FFFDFD\">様々</span><span style=\"background-color: #FFFEFE\">な</span><span style=\"background-color: #FFFEFE\">充電</span><span style=\"background-color: #FFFEFE\">器</span><span style=\"background-color: #FFFEFE\">を</span><span style=\"background-color: #FFFDFD\">紹介</span><span style=\"background-color: #FFDEDE\">し</span><span style=\"background-color: #FFC6C6\">て</span><span style=\"background-color: #FF7676\">き</span><span style=\"background-color: #FFF8F8\">た</span><span style=\"background-color: #FFFDFD\">が</span><span style=\"background-color: #FFFCFC\">、</span><span style=\"background-color: #FFFBFB\">今回</span><span style=\"background-color: #FFFDFD\">の</span><span style=\"background-color: #FFFEFE\">オス</span><span style=\"background-color: #FFFEFE\">##ス</span><span style=\"background-color: #FFFEFE\">##メ</span><span style=\"background-color: #FFFEFE\">は</span><span style=\"background-color: #FFFEFE\">、</span><span style=\"background-color: #FFFEFE\">本体</span><span style=\"background-color: #FFFEFE\">だけ</span><span style=\"background-color: #FFFEFE\">で</span><span style=\"background-color: #FFFEFE\">なく</span><span style=\"background-color: #FFFEFE\">、</span><span style=\"background-color: #FFFEFE\">サイズ</span><span style=\"background-color: #FFFEFE\">の</span><span style=\"background-color: #FFFEFE\">違う</span><span style=\"background-color: #FFFEFE\">予備</span><span style=\"background-color: #FFFCFC\">バッテリー</span><span style=\"background-color: #FFFEFE\">も</span><span style=\"background-color: #FFFEFE\">充電</span><span style=\"background-color: #FFFEFE\">できる</span><span style=\"background-color: #FFFEFE\">マルチ</span><span style=\"background-color: #FFFEFE\">な</span><span style=\"background-color: #FFFEFE\">充電</span><span style=\"background-color: #FFFDFD\">器</span><span style=\"background-color: #FFFEFE\">「</span><span style=\"background-color: #FFFEFE\">Mobile</span><span style=\"background-color: #FFFEFE\">##P</span><span style=\"background-color: #FFF8F8\">##ower</span><span style=\"background-color: #FFFCFC\">##Station</span><span style=\"background-color: #FFFEFE\">000</span><span style=\"background-color: #FFFEFE\">##0</span><span style=\"background-color: #FFFEFE\">m</span><span style=\"background-color: #FFFEFE\">##A</span><span style=\"background-color: #FFFEFE\">##h</span><span style=\"background-color: #FFF1F1\">」</span><span style=\"background-color: #FF0606\">だ</span><span style=\"background-color: #FFF8F8\">。</span><span style=\"background-color: #FFFCFC\">■</span><span style=\"background-color: #FFFEFE\">USB</span><span style=\"background-color: #FFFEFE\">出力</span><span style=\"background-color: #FFFEFE\">で</span><span style=\"background-color: #FFF9F9\">スマート</span><span style=\"background-color: #FFFEFE\">フォン</span><span style=\"background-color: #FFFEFE\">や</span><span style=\"background-color: #FFFEFE\">携帯</span><span style=\"background-color: #FFFEFE\">を</span><span style=\"background-color: #FFFEFE\">充電</span><span style=\"background-color: #FFFBFB\">本</span><span style=\"background-color: #FFD6D6\">製品</span><span style=\"background-color: #FFFEFE\">は</span><span style=\"background-color: #FFFEFE\">、</span><span style=\"background-color: #FFFEFE\">000</span><span style=\"background-color: #FFFEFE\">##0</span><span style=\"background-color: #FFFEFE\">m</span><span style=\"background-color: #FFFEFE\">##A</span><span style=\"background-color: #FFFEFE\">##h</span><span style=\"background-color: #FFFEFE\">の</span><span style=\"background-color: #FFFEFE\">高</span><span style=\"background-color: #FFFEFE\">容量</span><span style=\"background-color: #FFFEFE\">バッテリー</span><span style=\"background-color: #FFF5F5\">だ</span><span style=\"background-color: #FFFBFB\">。</span><span style=\"background-color: #FFFEFE\">USB</span><span style=\"background-color: #FFFEFE\">ポート</span><span style=\"background-color: #FFFEFE\">を</span><span style=\"background-color: #FFFEFE\">備え</span><span style=\"background-color: #FFFEFE\">て</span><span style=\"background-color: #FFFEFE\">おり</span><span style=\"background-color: #FFFEFE\">、</span><span style=\"background-color: #FFFEFE\">USB</span><span style=\"background-color: #FFFEFE\">ポート</span><span style=\"background-color: #FFFEFE\">経由</span><span style=\"background-color: #FFFEFE\">で</span><span style=\"background-color: #FFFEFE\">スマート</span><span style=\"background-color: #FFFEFE\">フォン</span><span style=\"background-color: #FFFEFE\">や</span><span style=\"background-color: #FFFEFE\">携帯</span><span style=\"background-color: #FFFEFE\">電話</span><span style=\"background-color: #FFFEFE\">を</span><span style=\"background-color: #FFFEFE\">同</span><span style=\"background-color: #FFFBFB\">端末</span><span style=\"background-color: #FFFEFE\">に</span><span style=\"background-color: #FFFCFC\">付属</span><span style=\"background-color: #FFFEFE\">の</span><span style=\"background-color: #FFFEFE\">充電</span><span style=\"background-color: #FFFEFE\">ケーブル</span><span style=\"background-color: #FFFEFE\">で</span><span style=\"background-color: #FFFEFE\">本体</span><span style=\"background-color: #FFFEFE\">を</span><span style=\"background-color: #FFFEFE\">充電</span><span style=\"background-color: #FFFEFE\">する</span><span style=\"background-color: #FFFEFE\">こと</span><span style=\"background-color: #FFFEFE\">が</span><span style=\"background-color: #FFFEFE\">できる</span><span style=\"background-color: #FFFEFE\">。</span><span style=\"background-color: #FFFEFE\">出力</span><span style=\"background-color: #FFFEFE\">は</span><span style=\"background-color: #FFFEFE\">、</span><span style=\"background-color: #FFFEFE\">0</span><span style=\"background-color: #FFFBFB\">V</span><span style=\"background-color: #FFFEFE\">0</span><span style=\"background-color: #FFFCFC\">A</span><span style=\"background-color: #FFFEFE\">と</span><span style=\"background-color: #FFFEFE\">高</span><span style=\"background-color: #FFFEFE\">出力</span><span style=\"background-color: #FFFEFE\">な</span><span style=\"background-color: #FFFDFD\">ので</span><span style=\"background-color: #FFFEFE\">、</span><span style=\"background-color: #FFFEFE\">安定</span><span style=\"background-color: #FFFEFE\">し</span><span style=\"background-color: #FFFEFE\">た</span><span style=\"background-color: #FFFEFE\">高速</span><span style=\"background-color: #FFFEFE\">充電</span><span style=\"background-color: #FFFEFE\">が</span><span style=\"background-color: #FFFEFE\">可能</span><span style=\"background-color: #FFFBFB\">だ</span><span style=\"background-color: #FFFEFE\">。</span><span style=\"background-color: #FFFEFE\">スマート</span><span style=\"background-color: #FFFEFE\">フォン</span><span style=\"background-color: #FFFEFE\">や</span><span style=\"background-color: #FFFEFE\">携帯</span><span style=\"background-color: #FFFEFE\">電話</span><span style=\"background-color: #FFFEFE\">を</span><span style=\"background-color: #FFFEFE\">充電</span><span style=\"background-color: #FFFEFE\">できる</span><span style=\"background-color: #FFF6F6\">■</span><span style=\"background-color: #FFFDFD\">どんな</span><span style=\"background-color: #FFFEFE\">サイズ</span><span style=\"background-color: #FFFEFE\">の</span><span style=\"background-color: #FFFEFE\">バッテリー</span><span style=\"background-color: #FFFEFE\">パック</span><span style=\"background-color: #FFFEFE\">で</span><span style=\"background-color: #FFFEFE\">も</span><span style=\"background-color: #FFFEFE\">直接</span><span style=\"background-color: #FFFEFE\">充電</span><span style=\"background-color: #FFFCFC\">本</span><span style=\"background-color: #FF6565\">製品</span><span style=\"background-color: #FFFEFE\">の</span><span style=\"background-color: #FFFEFE\">一番</span><span style=\"background-color: #FFFEFE\">の</span><span style=\"background-color: #FFFDFD\">魅力</span><span style=\"background-color: #FFFCFC\">は</span><span style=\"background-color: #FFFEFE\">、</span><span style=\"background-color: #FFFEFE\">高</span><span style=\"background-color: #FFFEFE\">さ</span><span style=\"background-color: #FFFEFE\">00</span><span style=\"background-color: #FFFEFE\">mm</span><span style=\"background-color: #FFFEFE\">〜</span><span style=\"background-color: #FFFEFE\">00</span><span style=\"background-color: #FFFEFE\">mm</span><span style=\"background-color: #FFFDFD\">。</span><span style=\"background-color: #FFFEFE\">バッテリー</span><span style=\"background-color: #FFFEFE\">の</span><span style=\"background-color: #FFFEFE\">プラス</span><span style=\"background-color: #FFFEFE\">##ーマ</span><span style=\"background-color: #FFFEFE\">##イ</span><span style=\"background-color: #FFFEFE\">##ナス</span><span style=\"background-color: #FFFEFE\">の</span><span style=\"background-color: #FFFEFE\">端子</span><span style=\"background-color: #FFFEFE\">の</span><span style=\"background-color: #FFFEFE\">幅</span><span style=\"background-color: #FFFEFE\">が</span><span style=\"background-color: #FFFEFE\">00</span><span style=\"background-color: #FFFEFE\">mm</span><span style=\"background-color: #FFFEFE\">まで</span><span style=\"background-color: #FFFEFE\">の</span><span style=\"background-color: #FFFEFE\">もの</span><span style=\"background-color: #FFFEFE\">なら</span><span style=\"background-color: #FFFEFE\">直接</span><span style=\"background-color: #FFFEFE\">充電</span><span style=\"background-color: #FFFEFE\">できる</span><span style=\"background-color: #FFFEFE\">端子</span><span style=\"background-color: #FFFEFE\">を</span><span style=\"background-color: #FFFEFE\">備え</span><span style=\"background-color: #FFFEFE\">て</span><span style=\"background-color: #FFFEFE\">いる</span><span style=\"background-color: #FFFEFE\">点</span><span style=\"background-color: #FFE4E4\">だ</span><span style=\"background-color: #FFFEFE\">。</span><span style=\"background-color: #FFFEFE\">予備</span><span style=\"background-color: #FFFEFE\">の</span><span style=\"background-color: #FFFEFE\">バッテリー</span><span style=\"background-color: #FFFEFE\">パック</span><span style=\"background-color: #FFFEFE\">を</span><span style=\"background-color: #FFFEFE\">所有</span><span style=\"background-color: #FFFEFE\">し</span><span style=\"background-color: #FFFEFE\">て</span><span style=\"background-color: #FFFEFE\">いれ</span><span style=\"background-color: #FFFEFE\">ば</span><span style=\"background-color: #FFFEFE\">、</span><span style=\"background-color: #FFFCFC\">その</span><span style=\"background-color: #FFFEFE\">バッテリー</span><span style=\"background-color: #FFFEFE\">パック</span><span style=\"background-color: #FFFEFE\">を</span><span style=\"background-color: #FFFBFB\">スマート</span><span style=\"background-color: #FFFEFE\">フォン</span><span style=\"background-color: #FFFEFE\">に</span><span style=\"background-color: #FFFEFE\">入れる</span><span style=\"background-color: #FFFEFE\">こと</span><span style=\"background-color: #FFFEFE\">なし</span><span style=\"background-color: #FFFEFE\">に</span><span style=\"background-color: #FFFEFE\">充電</span><span style=\"background-color: #FFFEFE\">する</span><span style=\"background-color: #FFFEFE\">こと</span><span style=\"background-color: #FFFEFE\">が</span><span style=\"background-color: #FFFEFE\">できる</span><span style=\"background-color: #FFFEFE\">。</span><span style=\"background-color: #FFFEFE\">※</span><span style=\"background-color: #FFFEFE\">出力</span><span style=\"background-color: #FFFEFE\">は</span><span style=\"background-color: #FFFEFE\">0</span><span style=\"background-color: #FFF8F8\">V</span><span style=\"background-color: #FFFEFE\">な</span><span style=\"background-color: #FFF6F6\">ので</span><span style=\"background-color: #FFFEFE\">、</span><span style=\"background-color: #FFFEFE\">バッテリー</span><span style=\"background-color: #FFFEFE\">パック</span><span style=\"background-color: #FFFEFE\">の</span><span style=\"background-color: #FFFEFE\">仕様</span><span style=\"background-color: #FFFEFE\">を</span><span style=\"background-color: #FFFEFE\">確認</span><span style=\"background-color: #FFFEFE\">の</span><span style=\"background-color: #FFFDFD\">こと</span><span style=\"background-color: #FFFAFA\">。</span><span style=\"background-color: #FFFEFE\">バッテリー</span><span style=\"background-color: #FFFEFE\">パック</span><span style=\"background-color: #FFFEFE\">の</span><span style=\"background-color: #FFFEFE\">端子</span><span style=\"background-color: #FFFEFE\">が</span><span style=\"background-color: #FFFEFE\">、</span><span style=\"background-color: #FFFEFE\">本</span><span style=\"background-color: #FFCDCD\">製品</span><span style=\"background-color: #FFFEFE\">の</span><span style=\"background-color: #FFFEFE\">充電</span><span style=\"background-color: #FFFEFE\">端子</span><span style=\"background-color: #FFFEFE\">と</span><span style=\"background-color: #FFFEFE\">接触</span><span style=\"background-color: #FFFEFE\">できる</span><span style=\"background-color: #FFFEFE\">位置</span><span style=\"background-color: #FFFEFE\">に</span><span style=\"background-color: #FFFEFE\">ない</span><span style=\"background-color: #FFFEFE\">場合</span><span style=\"background-color: #FFFEFE\">は</span><span style=\"background-color: #FFFEFE\">充電</span><span style=\"background-color: #FFFEFE\">でき</span><span style=\"background-color: #FFFEFE\">ない</span><span style=\"background-color: #FFFEFE\">。</span><span style=\"background-color: #FFFEFE\">バッテリー</span><span style=\"background-color: #FFFEFE\">パック</span><span style=\"background-color: #FFFEFE\">の</span><span style=\"background-color: #FFFEFE\">充電</span><span style=\"background-color: #FFFEFE\">は</span><span style=\"background-color: #FFFEFE\">水平</span><span style=\"background-color: #FFFEFE\">な</span><span style=\"background-color: #FFFEFE\">場所</span><span style=\"background-color: #FFFEFE\">で</span><span style=\"background-color: #FFFEFE\">行い</span><span style=\"background-color: #FFFEFE\">、</span><span style=\"background-color: #FFFEFE\">充電</span><span style=\"background-color: #FFFEFE\">中</span><span style=\"background-color: #FFFEFE\">は</span><span style=\"background-color: #FFFEFE\">本</span><span style=\"background-color: #FFFBFB\">製品</span><span style=\"background-color: #FFFEFE\">を</span><span style=\"background-color: #FFFEFE\">動かさ</span><span style=\"background-color: #FFFEFE\">ない</span><span style=\"background-color: #FFFEFE\">こと</span><span style=\"background-color: #FFF4F4\">。</span><span style=\"background-color: #FFFDFD\">全て</span><span style=\"background-color: #FFFEFE\">の</span><span style=\"background-color: #FFFEFE\">バッテリー</span><span style=\"background-color: #FFFEFE\">パック</span><span style=\"background-color: #FFFEFE\">へ</span><span style=\"background-color: #FFFEFE\">の</span><span style=\"background-color: #FFFEFE\">対応</span><span style=\"background-color: #FFFEFE\">を</span><span style=\"background-color: #FFFEFE\">保証</span><span style=\"background-color: #FFFAFA\">する</span><span style=\"background-color: #FFFEFE\">もの</span><span style=\"background-color: #FFFEFE\">で</span><span style=\"background-color: #FFFEFE\">は</span><span style=\"background-color: #FFFBFB\">ない</span><span style=\"background-color: #FFF9F9\">。</span><span style=\"background-color: #FFFEFE\">N</span><span style=\"background-color: #FFFEFE\">##i</span><span style=\"background-color: #FFFBFB\">-</span><span style=\"background-color: #FFFEFE\">MH</span><span style=\"background-color: #FFF7F7\">(</span><span style=\"background-color: #FFFEFE\">ニッケル</span><span style=\"background-color: #FFFEFE\">水素</span><span style=\"background-color: #FFFEFE\">)</span><span style=\"background-color: #FFFEFE\">タイプ</span><span style=\"background-color: #FFFEFE\">の</span><span style=\"background-color: #FFFEFE\">バッテリー</span><span style=\"background-color: #FFFEFE\">パック</span><span style=\"background-color: #FFFEFE\">に</span><span style=\"background-color: #FFFEFE\">は</span><span style=\"background-color: #FFFEFE\">対応</span><span style=\"background-color: #FFFDFD\">し</span><span style=\"background-color: #FFFCFC\">て</span><span style=\"background-color: #FFFDFD\">い</span><span style=\"background-color: #FFFCFC\">ない</span><span style=\"background-color: #FFFEFE\">。</span><span style=\"background-color: #FFFEFE\">バッテリー</span><span style=\"background-color: #FFFEFE\">パック</span><span style=\"background-color: #FFFEFE\">を</span><span style=\"background-color: #FFFEFE\">直接</span><span style=\"background-color: #FFFEFE\">充電</span><span style=\"background-color: #FFFDFD\">できる</span><span style=\"background-color: #FFFEFE\">■</span><span style=\"background-color: #FFFEFE\">内蔵</span><span style=\"background-color: #FFFDFD\">バッテリー</span><span style=\"background-color: #FFFEFE\">は</span><span style=\"background-color: #FFFEFE\">USB</span><span style=\"background-color: #FFFEFE\">で</span><span style=\"background-color: #FFFEFE\">も</span><span style=\"background-color: #FFFEFE\">AC</span><span style=\"background-color: #FFFEFE\">で</span><span style=\"background-color: #FFFEFE\">も</span><span style=\"background-color: #FFFEFE\">充電</span><span style=\"background-color: #FFFAFA\">できる</span><span style=\"background-color: #FFFEFE\">内蔵</span><span style=\"background-color: #FFFEFE\">バッテリー</span><span style=\"background-color: #FFFEFE\">の</span><span style=\"background-color: #FFFEFE\">充電</span><span style=\"background-color: #FFFEFE\">方法</span><span style=\"background-color: #FFFDFD\">が</span><span style=\"background-color: #FFFEFE\">気</span><span style=\"background-color: #FFFEFE\">に</span><br><br>"
            ],
            "text/plain": [
              "<IPython.core.display.HTML object>"
            ]
          },
          "metadata": {
            "tags": []
          }
        },
        {
          "output_type": "display_data",
          "data": {
            "text/html": [
              "正解: movie<br>予測: movie<br><span style=\"background-color: #FFFDFD\">[CLS]</span><span style=\"background-color: #FFC5C5\">インタビュー</span><span style=\"background-color: #FFDBDB\">:</span><span style=\"background-color: #FFF7F7\">桜</span><span style=\"background-color: #FFFDFD\">庭</span><span style=\"background-color: #FFFDFD\">な</span><span style=\"background-color: #FFF8F8\">なみ</span><span style=\"background-color: #FFC5C5\">「</span><span style=\"background-color: #FFFEFE\">叩</span><span style=\"background-color: #FFFEFE\">##か</span><span style=\"background-color: #FFFDFD\">れ</span><span style=\"background-color: #FFFEFE\">、</span><span style=\"background-color: #FFFCFC\">それでも</span><span style=\"background-color: #FFF0F0\">向かっ</span><span style=\"background-color: #FFFEFE\">て</span><span style=\"background-color: #FFFDFD\">いき</span><span style=\"background-color: #FFE8E8\">まし</span><span style=\"background-color: #FFB1B1\">た</span><span style=\"background-color: #FFE9E9\">」</span><span style=\"background-color: #FFFEFE\">清</span><span style=\"background-color: #FFD7D7\">##純</span><span style=\"background-color: #FFFDFD\">派</span><span style=\"background-color: #FF7272\">女優</span><span style=\"background-color: #FFFEFE\">として</span><span style=\"background-color: #FFFEFE\">、</span><span style=\"background-color: #FFFCFC\">テレビ</span><span style=\"background-color: #FFFEFE\">や</span><span style=\"background-color: #FFEFEF\">映画</span><span style=\"background-color: #FFFEFE\">、</span><span style=\"background-color: #FFF5F5\">グラビア</span><span style=\"background-color: #FFFEFE\">など</span><span style=\"background-color: #FFFEFE\">で</span><span style=\"background-color: #FFE5E5\">活躍</span><span style=\"background-color: #FFE4E4\">し</span><span style=\"background-color: #FFF2F2\">て</span><span style=\"background-color: #FFEAEA\">いる</span><span style=\"background-color: #FFF9F9\">桜</span><span style=\"background-color: #FFFBFB\">##庭</span><span style=\"background-color: #FFFDFD\">な</span><span style=\"background-color: #FFEDED\">なみ</span><span style=\"background-color: #FFD4D4\">。</span><span style=\"background-color: #FFE5E5\">デビュー</span><span style=\"background-color: #FFFBFB\">前</span><span style=\"background-color: #FFFBFB\">より</span><span style=\"background-color: #FFFCFC\">、</span><span style=\"background-color: #FFFBFB\">その</span><span style=\"background-color: #FFD8D8\">容姿</span><span style=\"background-color: #FFFDFD\">は</span><span style=\"background-color: #FFFDFD\">地元</span><span style=\"background-color: #FFE3E3\">鹿児島</span><span style=\"background-color: #FFFEFE\">で</span><span style=\"background-color: #FFFEFE\">話題</span><span style=\"background-color: #FFFDFD\">に</span><span style=\"background-color: #FFF8F8\">なっ</span><span style=\"background-color: #FFF7F7\">て</span><span style=\"background-color: #FFE5E5\">おり</span><span style=\"background-color: #FFF5F5\">、</span><span style=\"background-color: #FFFDFD\">「</span><span style=\"background-color: #FFFEFE\">もの</span><span style=\"background-color: #FFFEFE\">##凄</span><span style=\"background-color: #FFFEFE\">##い</span><span style=\"background-color: #FF8585\">美少女</span><span style=\"background-color: #FFFEFE\">が</span><span style=\"background-color: #FFFEFE\">いる</span><span style=\"background-color: #FFFEFE\">」</span><span style=\"background-color: #FFFDFD\">という</span><span style=\"background-color: #FFFEFE\">噂</span><span style=\"background-color: #FFFDFD\">を</span><span style=\"background-color: #FFFAFA\">聞き</span><span style=\"background-color: #FFF8F8\">事務所</span><span style=\"background-color: #FFFBFB\">が</span><span style=\"background-color: #FFEEEE\">スカウト</span><span style=\"background-color: #FFFBFB\">に</span><span style=\"background-color: #FFF7F7\">向かっ</span><span style=\"background-color: #FFF7F7\">た</span><span style=\"background-color: #FFF4F4\">という</span><span style=\"background-color: #FFEBEB\">逸話</span><span style=\"background-color: #FFE8E8\">も</span><span style=\"background-color: #FF4040\">ある</span><span style=\"background-color: #FFFEFE\">。</span><span style=\"background-color: #FFFBFB\">そんな</span><span style=\"background-color: #FFFBFB\">笑顔</span><span style=\"background-color: #FFFEFE\">が</span><span style=\"background-color: #FFFEFE\">かわい</span><span style=\"background-color: #FFFEFE\">##い</span><span style=\"background-color: #FFF6F6\">桜</span><span style=\"background-color: #FFFBFB\">庭</span><span style=\"background-color: #FFFCFC\">が</span><span style=\"background-color: #FFFDFD\">、</span><span style=\"background-color: #FFFEFE\">00</span><span style=\"background-color: #FFF8F8\">月</span><span style=\"background-color: #FFFEFE\">0</span><span style=\"background-color: #FFFAFA\">日</span><span style=\"background-color: #FFFDFD\">から</span><span style=\"background-color: #FFF0F0\">全国</span><span style=\"background-color: #FFFDFD\">ロード</span><span style=\"background-color: #FFF7F7\">##ショー</span><span style=\"background-color: #FFF7F7\">と</span><span style=\"background-color: #FFEEEE\">なる</span><span style=\"background-color: #FFFEFE\">『</span><span style=\"background-color: #FFFEFE\">天国</span><span style=\"background-color: #FFFEFE\">から</span><span style=\"background-color: #FFFEFE\">の</span><span style=\"background-color: #FFFEFE\">エール</span><span style=\"background-color: #FF-3E-3E\">』</span><span style=\"background-color: #FFFCFC\">に</span><span style=\"background-color: #FFF4F4\">出演</span><span style=\"background-color: #FFF7F7\">。</span><span style=\"background-color: #FFFAFA\">沖縄</span><span style=\"background-color: #FFFEFE\">で</span><span style=\"background-color: #FFFEFE\">の</span><span style=\"background-color: #FFFBFB\">撮影</span><span style=\"background-color: #FFFEFE\">の</span><span style=\"background-color: #FFFEFE\">こと</span><span style=\"background-color: #FFFEFE\">や</span><span style=\"background-color: #FFF7F7\">阿部</span><span style=\"background-color: #FFFEFE\">寛</span><span style=\"background-color: #FFFDFD\">と</span><span style=\"background-color: #FFFEFE\">の</span><span style=\"background-color: #FFFEFE\">共演</span><span style=\"background-color: #FFFEFE\">の</span><span style=\"background-color: #FFFEFE\">こと</span><span style=\"background-color: #FFFEFE\">、</span><span style=\"background-color: #FFF7F7\">そして</span><span style=\"background-color: #FFFEFE\">、</span><span style=\"background-color: #FFFEFE\">自身</span><span style=\"background-color: #FFFEFE\">の</span><span style=\"background-color: #FFFDFD\">家族</span><span style=\"background-color: #FFFEFE\">の</span><span style=\"background-color: #FFFEFE\">こと</span><span style=\"background-color: #FFFEFE\">など</span><span style=\"background-color: #FFFEFE\">、</span><span style=\"background-color: #FFDEDE\">ファン</span><span style=\"background-color: #FFFEFE\">に</span><span style=\"background-color: #FFFEFE\">は</span><span style=\"background-color: #FFFEFE\">たま</span><span style=\"background-color: #FFFEFE\">##ら</span><span style=\"background-color: #FFFEFE\">##ない</span><span style=\"background-color: #FFFEFE\">裏</span><span style=\"background-color: #FFFDFD\">##話</span><span style=\"background-color: #FFFEFE\">を</span><span style=\"background-color: #FFFDFD\">語っ</span><span style=\"background-color: #FFFBFB\">て</span><span style=\"background-color: #FFDCDC\">くれ</span><span style=\"background-color: #FFB4B4\">た</span><span style=\"background-color: #FFFEFE\">。</span><span style=\"background-color: #FFF9F9\">(『</span><span style=\"background-color: #FFFEFE\">天国</span><span style=\"background-color: #FFFEFE\">から</span><span style=\"background-color: #FFFEFE\">の</span><span style=\"background-color: #FFFEFE\">エール</span><span style=\"background-color: #FFDCDC\">』</span><span style=\"background-color: #FFA1A1\">作品</span><span style=\"background-color: #FFD1D1\">詳細</span><span style=\"background-color: #FFFBFB\">は</span><span style=\"background-color: #FF7C7C\">こちら</span><span style=\"background-color: #FFD7D7\">)</span><span style=\"background-color: #FF5858\">##—</span><span style=\"background-color: #FFECEC\">##—</span><span style=\"background-color: #FFFDFD\">沖縄</span><span style=\"background-color: #FFFEFE\">で</span><span style=\"background-color: #FFFEFE\">の</span><span style=\"background-color: #FFFBFB\">撮影</span><span style=\"background-color: #FFFEFE\">は</span><span style=\"background-color: #FFFEFE\">、</span><span style=\"background-color: #FFFEFE\">いか</span><span style=\"background-color: #FFFEFE\">##が</span><span style=\"background-color: #FFFEFE\">でし</span><span style=\"background-color: #FFFEFE\">た</span><span style=\"background-color: #FFFEFE\">か</span><span style=\"background-color: #FFFEFE\">?</span><span style=\"background-color: #FFFEFE\">いつも</span><span style=\"background-color: #FFFEFE\">の</span><span style=\"background-color: #FFFDFD\">撮影</span><span style=\"background-color: #FFFEFE\">と</span><span style=\"background-color: #FFFEFE\">異なる</span><span style=\"background-color: #FFFEFE\">点</span><span style=\"background-color: #FFFEFE\">は</span><span style=\"background-color: #FFFEFE\">何</span><span style=\"background-color: #FFFEFE\">か</span><span style=\"background-color: #FFFEFE\">あり</span><span style=\"background-color: #FFFEFE\">まし</span><span style=\"background-color: #FFFEFE\">た</span><span style=\"background-color: #FFFEFE\">か</span><span style=\"background-color: #FFFEFE\">?</span><span style=\"background-color: #FFF3F3\">桜</span><span style=\"background-color: #FFFDFD\">庭</span><span style=\"background-color: #FFFEFE\">な</span><span style=\"background-color: #FFFCFC\">な</span><span style=\"background-color: #FFF6F6\">み</span><span style=\"background-color: #FFE4E4\">(</span><span style=\"background-color: #FFFBFB\">以下</span><span style=\"background-color: #FFFDFD\">、</span><span style=\"background-color: #FFEBEB\">桜</span><span style=\"background-color: #FFE5E5\">##庭</span><span style=\"background-color: #FF8B8B\">):</span><span style=\"background-color: #FFFDFD\">この</span><span style=\"background-color: #FFEAEA\">映画</span><span style=\"background-color: #FFFEFE\">は</span><span style=\"background-color: #FFFEFE\">、</span><span style=\"background-color: #FFFEFE\">実</span><span style=\"background-color: #FFFCFC\">##話</span><span style=\"background-color: #FFFEFE\">な</span><span style=\"background-color: #FFFEFE\">ので</span><span style=\"background-color: #FFFEFE\">、</span><span style=\"background-color: #FFFEFE\">その</span><span style=\"background-color: #FFFEFE\">実際</span><span style=\"background-color: #FFFEFE\">の</span><span style=\"background-color: #FFFEFE\">現場</span><span style=\"background-color: #FFFEFE\">で</span><span style=\"background-color: #FFFBFB\">撮影</span><span style=\"background-color: #FFFEFE\">出来</span><span style=\"background-color: #FFFEFE\">た</span><span style=\"background-color: #FFFEFE\">こと</span><span style=\"background-color: #FFFEFE\">が</span><span style=\"background-color: #FFFEFE\">すご</span><span style=\"background-color: #FFFEFE\">##く</span><span style=\"background-color: #FFFEFE\">ありが</span><span style=\"background-color: #FFFEFE\">##たか</span><span style=\"background-color: #FFFEFE\">##っ</span><span style=\"background-color: #FFFEFE\">た</span><span style=\"background-color: #FFF9F9\">です</span><span style=\"background-color: #FFFEFE\">。</span><span style=\"background-color: #FFF0F0\">沖縄</span><span style=\"background-color: #FFFEFE\">の</span><span style=\"background-color: #FFFEFE\">雰囲気</span><span style=\"background-color: #FFFEFE\">って</span><span style=\"background-color: #FFFEFE\">、</span><span style=\"background-color: #FFFEFE\">すご</span><span style=\"background-color: #FFFEFE\">##く</span><span style=\"background-color: #FFFEFE\">の</span><span style=\"background-color: #FFFEFE\">##ん</span><span style=\"background-color: #FFFEFE\">##び</span><span style=\"background-color: #FFFEFE\">##り</span><span style=\"background-color: #FFFEFE\">と</span><span style=\"background-color: #FFFEFE\">し</span><span style=\"background-color: #FFFEFE\">て</span><span style=\"background-color: #FFFEFE\">いる</span><span style=\"background-color: #FFFEFE\">ので</span><span style=\"background-color: #FFFEFE\">、</span><span style=\"background-color: #FFFAFA\">現場</span><span style=\"background-color: #FFFEFE\">の</span><span style=\"background-color: #FFFEFE\">雰囲気</span><span style=\"background-color: #FFFEFE\">も</span><span style=\"background-color: #FFFEFE\">すご</span><span style=\"background-color: #FFFEFE\">##く</span><span style=\"background-color: #FFFEFE\">温</span><span style=\"background-color: #FFFEFE\">##かかっ</span><span style=\"background-color: #FFFDFD\">た</span><span style=\"background-color: #FFF8F8\">です</span><span style=\"background-color: #FFFEFE\">。</span><span style=\"background-color: #FFFEFE\">東京</span><span style=\"background-color: #FFFEFE\">だ</span><span style=\"background-color: #FFFEFE\">と</span><span style=\"background-color: #FFFEFE\">、</span><span style=\"background-color: #FFFEFE\">すご</span><span style=\"background-color: #FFFEFE\">##く</span><span style=\"background-color: #FFFEFE\">バタ</span><span style=\"background-color: #FFFEFE\">##バタ</span><span style=\"background-color: #FFFEFE\">し</span><span style=\"background-color: #FFFEFE\">て</span><span style=\"background-color: #FFFEFE\">いる</span><span style=\"background-color: #FFFEFE\">感じ</span><span style=\"background-color: #FFFEFE\">な</span><span style=\"background-color: #FFFEFE\">ん</span><span style=\"background-color: #FFFEFE\">です</span><span style=\"background-color: #FFFEFE\">けど</span><span style=\"background-color: #FFFEFE\">、</span><span style=\"background-color: #FFFEFE\">ゆっくり</span><span style=\"background-color: #FFEDED\">撮影</span><span style=\"background-color: #FFFEFE\">を</span><span style=\"background-color: #FFFDFD\">楽しむ</span><span style=\"background-color: #FFFEFE\">こと</span><span style=\"background-color: #FFFEFE\">が</span><span style=\"background-color: #FFFEFE\">出来</span><span style=\"background-color: #FFE9E9\">まし</span><span style=\"background-color: #FFFDFD\">た</span><span style=\"background-color: #FFFEFE\">。</span><span style=\"background-color: #FFFCFC\">—</span><span style=\"background-color: #FFF8F8\">##—</span><span style=\"background-color: #FFFEFE\">バンド</span><span style=\"background-color: #FFFEFE\">活動</span><span style=\"background-color: #FFFEFE\">を</span><span style=\"background-color: #FFFEFE\">する</span><span style=\"background-color: #FFFCFC\">高校生</span><span style=\"background-color: #FFFEFE\">の</span><span style=\"background-color: #FFFEFE\">一</span><span style=\"background-color: #FFFEFE\">人</span><span style=\"background-color: #FFFEFE\">で</span><span style=\"background-color: #FFFEFE\">ある</span><span style=\"background-color: #FFFEFE\">比</span><span style=\"background-color: #FFFEFE\">##嘉</span><span style=\"background-color: #FFFEFE\">アヤ</span><span style=\"background-color: #FFFEFE\">役</span><span style=\"background-color: #FFFEFE\">として</span><span style=\"background-color: #FFFCFC\">出演</span><span style=\"background-color: #FFFDFD\">し</span><span style=\"background-color: #FFFCFC\">て</span><span style=\"background-color: #FFFCFC\">い</span><span style=\"background-color: #FFFBFB\">ます</span><span style=\"background-color: #FFFEFE\">が</span><span style=\"background-color: #FFFEFE\">、</span><span style=\"background-color: #FFFEFE\">“</span><span style=\"background-color: #FFFEFE\">演じる</span><span style=\"background-color: #FFFEFE\">”</span><span style=\"background-color: #FFFEFE\">だけ</span><span style=\"background-color: #FFFEFE\">で</span><span style=\"background-color: #FFFEFE\">は</span><span style=\"background-color: #FFFEFE\">なく</span><span style=\"background-color: #FFFEFE\">、</span><span style=\"background-color: #FFFEFE\">“</span><span style=\"background-color: #FFFEFE\">歌う</span><span style=\"background-color: #FFFEFE\">”</span><span style=\"background-color: #FFFEFE\">こと</span><span style=\"background-color: #FFFEFE\">も</span><span style=\"background-color: #FFFEFE\">し</span><span style=\"background-color: #FFFEFE\">なけれ</span><span style=\"background-color: #FFFEFE\">ば</span><span style=\"background-color: #FFFEFE\">なら</span><span style=\"background-color: #FFFEFE\">なかっ</span><span style=\"background-color: #FFFEFE\">た</span><span style=\"background-color: #FFFEFE\">こと</span><span style=\"background-color: #FFFEFE\">は</span><span style=\"background-color: #FFFEFE\">いか</span><span style=\"background-color: #FFFEFE\">##が</span><span style=\"background-color: #FFF4F4\">でし</span><span style=\"background-color: #FFFDFD\">た</span><span style=\"background-color: #FFFEFE\">か</span><span style=\"background-color: #FFFCFC\">?</span><span style=\"background-color: #FF5252\">桜</span><span style=\"background-color: #FFFAFA\">庭</span><span style=\"background-color: #FFEFEF\">:</span><span style=\"background-color: #FFFEFE\">役</span><span style=\"background-color: #FFFEFE\">で</span><span style=\"background-color: #FFFEFE\">歌う</span><span style=\"background-color: #FFFEFE\">こと</span><span style=\"background-color: #FFFEFE\">は</span><span style=\"background-color: #FFFEFE\">初めて</span><span style=\"background-color: #FFFEFE\">だっ</span><span style=\"background-color: #FFFEFE\">た</span><span style=\"background-color: #FFFEFE\">ので</span><span style=\"background-color: #FFFEFE\">、</span><span style=\"background-color: #FFFEFE\">役</span><span style=\"background-color: #FFFEFE\">に</span><span style=\"background-color: #FFFEFE\">なり</span><span style=\"background-color: #FFFEFE\">きっ</span><span style=\"background-color: #FFFEFE\">て</span><span style=\"background-color: #FFFEFE\">、</span><span style=\"background-color: #FFFEFE\">気持ち</span><span style=\"background-color: #FFFEFE\">を</span><span style=\"background-color: #FFFEFE\">伝える</span><span style=\"background-color: #FFFEFE\">よう</span><span style=\"background-color: #FFFEFE\">に</span><span style=\"background-color: #FFFEFE\">歌う</span><span style=\"background-color: #FFFEFE\">こと</span><span style=\"background-color: #FFFEFE\">は</span><span style=\"background-color: #FFFEFE\">すご</span><span style=\"background-color: #FFFEFE\">##く</span><span style=\"background-color: #FFFEFE\">難しかっ</span><span style=\"background-color: #FFFEFE\">た</span><span style=\"background-color: #FFF8F8\">です</span><span style=\"background-color: #FFFEFE\">。</span><span style=\"background-color: #FFFAFA\">でも</span><span style=\"background-color: #FFFEFE\">、</span><span style=\"background-color: #FFFEFE\">仲</span><span style=\"background-color: #FFFEFE\">##宗</span><span style=\"background-color: #FFFEFE\">##根</span><span style=\"background-color: #FFFEFE\">陽</span><span style=\"background-color: #FFFEFE\">(</span><span style=\"background-color: #FFFEFE\">ひ</span><span style=\"background-color: #FFFDFD\">##かる</span><span style=\"background-color: #FFFEFE\">)</span><span style=\"background-color: #FFFEFE\">さん</span><span style=\"background-color: #FFFEFE\">の</span><span style=\"background-color: #FFFEFE\">奥</span><span style=\"background-color: #FFFEFE\">##様</span><span style=\"background-color: #FFFEFE\">や</span><span style=\"background-color: #FFFEFE\">お</span><span style=\"background-color: #FFFEFE\">##母</span><span style=\"background-color: #FFFEFE\">##様</span><span style=\"background-color: #FFFEFE\">が</span><span style=\"background-color: #FFFEFE\">来</span><span style=\"background-color: #FFFEFE\">て</span><span style=\"background-color: #FFFEFE\">くだ</span><span style=\"background-color: #FFFEFE\">##さ</span><span style=\"background-color: #FFFEFE\">##っ</span><span style=\"background-color: #FFFEFE\">て</span><span style=\"background-color: #FFFEFE\">、</span><span style=\"background-color: #FFFEFE\">口</span><span style=\"background-color: #FFFEFE\">##ず</span><span style=\"background-color: #FFFEFE\">##さん</span><span style=\"background-color: #FFFEFE\">で</span><span style=\"background-color: #FFFEFE\">くだ</span><span style=\"background-color: #FFFEFE\">##さ</span><span style=\"background-color: #FFFEFE\">##っ</span><span style=\"background-color: #FFFEFE\">たり</span><span style=\"background-color: #FFFEFE\">し</span><span style=\"background-color: #FFFEFE\">て</span><span style=\"background-color: #FFFEFE\">いる</span><span style=\"background-color: #FFFEFE\">の</span><span style=\"background-color: #FFFEFE\">を</span><span style=\"background-color: #FFFEFE\">見</span><span style=\"background-color: #FFFEFE\">た</span><span style=\"background-color: #FFFEFE\">時</span><span style=\"background-color: #FFFEFE\">は</span><span style=\"background-color: #FFFEFE\">、</span><span style=\"background-color: #FFFEFE\">すご</span><span style=\"background-color: #FFFEFE\">##く</span><span style=\"background-color: #FFFEFE\">こっ</span><span style=\"background-color: #FFFEFE\">##ち</span><span style=\"background-color: #FFFEFE\">も</span><span style=\"background-color: #FFFEFE\">感動</span><span style=\"background-color: #FFFEFE\">し</span><span style=\"background-color: #FFFEFE\">ちゃ</span><span style=\"background-color: #FFFEFE\">##い</span><span style=\"background-color: #FFFEFE\">まし</span><span style=\"background-color: #FFFEFE\">た</span><span style=\"background-color: #FFFDFD\">ね</span><span style=\"background-color: #FFFEFE\">。</span><span style=\"background-color: #FFFEFE\">明るい</span><span style=\"background-color: #FFFEFE\">ライブ</span><span style=\"background-color: #FFFEFE\">の</span><span style=\"background-color: #FFFEFE\">シーン</span><span style=\"background-color: #FFFEFE\">だっ</span><span style=\"background-color: #FFFEFE\">た</span><span style=\"background-color: #FFFEFE\">ん</span><span style=\"background-color: #FFFEFE\">です</span><span style=\"background-color: #FFFEFE\">けど</span><span style=\"background-color: #FFFEFE\">、</span><span style=\"background-color: #FFFEFE\">バンド</span><span style=\"background-color: #FFFEFE\">メンバー</span><span style=\"background-color: #FFFEFE\">の</span><span style=\"background-color: #FFFEFE\">0</span><span style=\"background-color: #FFFEFE\">人</span><span style=\"background-color: #FFFEFE\">(</span><span style=\"background-color: #FFF4F4\">桜</span><span style=\"background-color: #FFFEFE\">庭</span><span style=\"background-color: #FFFEFE\">な</span><span style=\"background-color: #FFFAFA\">なみ</span><span style=\"background-color: #FFFEFE\">、</span><span style=\"background-color: #FFFCFC\">矢野</span><span style=\"background-color: #FFFEFE\">聖人</span><span style=\"background-color: #FFFEFE\">、</span><span style=\"background-color: #FFFEFE\">森</span><span style=\"background-color: #FFFEFE\">##崎</span><span style=\"background-color: #FFFEFE\">ウィン</span><span style=\"background-color: #FFFEFE\">、</span><span style=\"background-color: #FFFEFE\">野村</span><span style=\"background-color: #FFFEFE\">周</span><span style=\"background-color: #FFFEFE\">##平</span><span style=\"background-color: #FFFEFE\">)</span><span style=\"background-color: #FFFEFE\">とも</span><span style=\"background-color: #FFFEFE\">「</span><span style=\"background-color: #FFFEFE\">泣き</span><span style=\"background-color: #FFFEFE\">そう</span><span style=\"background-color: #FFFEFE\">だ</span><span style=\"background-color: #FFFEFE\">!」</span><span style=\"background-color: #FFFEFE\">って</span><span style=\"background-color: #FFFEFE\">言っ</span><span style=\"background-color: #FFFEFE\">て</span><span style=\"background-color: #FFFEFE\">い</span><span style=\"background-color: #FFF6F6\">まし</span><span style=\"background-color: #FFFEFE\">た</span><span style=\"background-color: #FFFEFE\">。</span><span style=\"background-color: #FFF9F9\">—</span><span style=\"background-color: #FFFDFD\">##—</span><span style=\"background-color: #FFFEFE\">本物</span><span style=\"background-color: #FFFEFE\">の</span><span style=\"background-color: #FFFEFE\">お</span><span style=\"background-color: #FFF3F3\">##母</span><span style=\"background-color: #FFF9F9\">##さん</span><span style=\"background-color: #FFFEFE\">たち</span><span style=\"background-color: #FFFEFE\">にとって</span><span style=\"background-color: #FFFEFE\">は</span><span style=\"background-color: #FFFEFE\">、</span><span style=\"background-color: #FFFEFE\">思い</span><span style=\"background-color: #FFFEFE\">##入れ</span><span style=\"background-color: #FFFEFE\">が</span><span style=\"background-color: #FFFEFE\">強い</span><span style=\"background-color: #FFFEFE\">曲</span><span style=\"background-color: #FFFEFE\">です</span><span style=\"background-color: #FFFEFE\">よ</span><span style=\"background-color: #FFFEFE\">ね</span><span style=\"background-color: #FFFEFE\">。</span><span style=\"background-color: #FFFEFE\">口</span><span style=\"background-color: #FFFEFE\">##ず</span><span style=\"background-color: #FFFEFE\">##さん</span><span style=\"background-color: #FFFEFE\">で</span><span style=\"background-color: #FFFEFE\">もらえ</span><span style=\"background-color: #FFFEFE\">た</span><span style=\"background-color: #FFFEFE\">という</span><span style=\"background-color: #FFFEFE\">こと</span><span style=\"background-color: #FFFEFE\">は</span><span style=\"background-color: #FFFEFE\">気持ち</span><span style=\"background-color: #FFFEFE\">が</span><span style=\"background-color: #FFFEFE\">伝わっ</span><span style=\"background-color: #FFFEFE\">た</span><span style=\"background-color: #FFFEFE\">の</span><span style=\"background-color: #FFFEFE\">で</span><span style=\"background-color: #FFFEFE\">は</span><span style=\"background-color: #FFFEFE\">ない</span><span style=\"background-color: #FFFDFD\">でしょ</span><span style=\"background-color: #FFFEFE\">う</span><span style=\"background-color: #FFFEFE\">か</span><span style=\"background-color: #FFFEFE\">。</span><span style=\"background-color: #FFFEFE\">ところ</span><span style=\"background-color: #FFFDFD\">##で</span><span style=\"background-color: #FFFEFE\">、</span><span style=\"background-color: #FFFEFE\">お</span><span style=\"background-color: #FFFEFE\">##母</span><span style=\"background-color: #FFFEFE\">##さん</span><br><br>"
            ],
            "text/plain": [
              "<IPython.core.display.HTML object>"
            ]
          },
          "metadata": {
            "tags": []
          }
        },
        {
          "output_type": "display_data",
          "data": {
            "text/html": [
              "正解: news<br>予測: news<br><span style=\"background-color: #FFFEFE\">[CLS]</span><span style=\"background-color: #FFFEFE\">PS</span><span style=\"background-color: #FFFEFE\">0</span><span style=\"background-color: #FFFEFE\">の</span><span style=\"background-color: #FFFEFE\">酷</span><span style=\"background-color: #FFFEFE\">##い</span><span style=\"background-color: #FFFCFC\">仕様</span><span style=\"background-color: #FFFEFE\">に</span><span style=\"background-color: #FF0F0F\">ネット</span><span style=\"background-color: #FFFEFE\">で</span><span style=\"background-color: #FFFBFB\">批判</span><span style=\"background-color: #FFFCFC\">殺到</span><span style=\"background-color: #FFEDED\">ソニー</span><span style=\"background-color: #FFFEFE\">##・</span><span style=\"background-color: #FFFEFE\">##コンピュータ</span><span style=\"background-color: #FFFEFE\">##エンタテインメント</span><span style=\"background-color: #FFFEFE\">(</span><span style=\"background-color: #FFFEFE\">SC</span><span style=\"background-color: #FFFCFC\">##E</span><span style=\"background-color: #FFFEFE\">)</span><span style=\"background-color: #FFFEFE\">が</span><span style=\"background-color: #FFFEFE\">PS</span><span style=\"background-color: #FFFEFE\">0</span><span style=\"background-color: #FFFEFE\">で</span><span style=\"background-color: #FFFEFE\">展開</span><span style=\"background-color: #FFFEFE\">し</span><span style=\"background-color: #FFFEFE\">て</span><span style=\"background-color: #FFFEFE\">いる</span><span style=\"background-color: #FFFEFE\">、</span><span style=\"background-color: #FFE4E4\">プレイステーション</span><span style=\"background-color: #FFFEFE\">##ネットワーク</span><span style=\"background-color: #FFFEFE\">(</span><span style=\"background-color: #FFFEFE\">PS</span><span style=\"background-color: #FFFEFE\">##N</span><span style=\"background-color: #FFFEFE\">)</span><span style=\"background-color: #FFFEFE\">の</span><span style=\"background-color: #FFFEFE\">サービス</span><span style=\"background-color: #FFFEFE\">で</span><span style=\"background-color: #FFFEFE\">、</span><span style=\"background-color: #FFF3F3\">ゲーム</span><span style=\"background-color: #FFFEFE\">の</span><span style=\"background-color: #FFFEFE\">プレー</span><span style=\"background-color: #FFFEFE\">履歴</span><span style=\"background-color: #FFFEFE\">、</span><span style=\"background-color: #FFFEFE\">録画</span><span style=\"background-color: #FFFEFE\">履歴</span><span style=\"background-color: #FFFEFE\">が</span><span style=\"background-color: #FFFEFE\">丸</span><span style=\"background-color: #FFFEFE\">##見</span><span style=\"background-color: #FFFEFE\">##え</span><span style=\"background-color: #FFFEFE\">に</span><span style=\"background-color: #FFFEFE\">なっ</span><span style=\"background-color: #FFFEFE\">て</span><span style=\"background-color: #FFFEFE\">いる</span><span style=\"background-color: #FFFEFE\">こと</span><span style=\"background-color: #FFFEFE\">に対して</span><span style=\"background-color: #FFEEEE\">ネット</span><span style=\"background-color: #FFFEFE\">掲示板</span><span style=\"background-color: #FFFCFC\">に</span><span style=\"background-color: #FFF9F9\">批判</span><span style=\"background-color: #FFFDFD\">が</span><span style=\"background-color: #FFDCDC\">殺到</span><span style=\"background-color: #FF8888\">し</span><span style=\"background-color: #FFCECE\">て</span><span style=\"background-color: #FF-1B-1B\">いる</span><span style=\"background-color: #FFFEFE\">。</span><span style=\"background-color: #FFFEFE\">事</span><span style=\"background-color: #FFFEFE\">の</span><span style=\"background-color: #FFFEFE\">発端</span><span style=\"background-color: #FFFDFD\">は</span><span style=\"background-color: #FFFDFD\">セキュリティ</span><span style=\"background-color: #FFFEFE\">研究</span><span style=\"background-color: #FFFCFC\">者</span><span style=\"background-color: #FFFEFE\">で</span><span style=\"background-color: #FFFEFE\">ある</span><span style=\"background-color: #FFC7C7\">高木</span><span style=\"background-color: #FFFCFC\">浩</span><span style=\"background-color: #FF4949\">##光</span><span style=\"background-color: #FFF0F0\">氏</span><span style=\"background-color: #FFFEFE\">が</span><span style=\"background-color: #FFFEFE\">自身</span><span style=\"background-color: #FFFEFE\">の</span><span style=\"background-color: #FFFEFE\">ブログ</span><span style=\"background-color: #FFF9F9\">で</span><span style=\"background-color: #FFFBFB\">、</span><span style=\"background-color: #FFFEFE\">自分</span><span style=\"background-color: #FFFEFE\">の</span><span style=\"background-color: #FFFEFE\">PS</span><span style=\"background-color: #FFFEFE\">0</span><span style=\"background-color: #FFFEFE\">ID</span><span style=\"background-color: #FFFEFE\">を</span><span style=\"background-color: #FFFCFC\">ネット</span><span style=\"background-color: #FFFEFE\">で</span><span style=\"background-color: #FFFEFE\">検索</span><span style=\"background-color: #FFFEFE\">し</span><span style=\"background-color: #FFFEFE\">た</span><span style=\"background-color: #FFFEFE\">ところ</span><span style=\"background-color: #FFFEFE\">、</span><span style=\"background-color: #FFFEFE\">自分</span><span style=\"background-color: #FFFEFE\">の</span><span style=\"background-color: #FFF2F2\">ゲーム</span><span style=\"background-color: #FFFEFE\">プロフィール</span><span style=\"background-color: #FFFEFE\">が</span><span style=\"background-color: #FFFEFE\">勝手</span><span style=\"background-color: #FFFEFE\">に</span><span style=\"background-color: #FFFEFE\">公開</span><span style=\"background-color: #FFFEFE\">さ</span><span style=\"background-color: #FFFEFE\">れ</span><span style=\"background-color: #FFFEFE\">て</span><span style=\"background-color: #FFFEFE\">いる</span><span style=\"background-color: #FFFEFE\">の</span><span style=\"background-color: #FFFEFE\">を</span><span style=\"background-color: #FFFEFE\">発見</span><span style=\"background-color: #FFFEFE\">し</span><span style=\"background-color: #FFFEFE\">た</span><span style=\"background-color: #FFFEFE\">こと</span><span style=\"background-color: #FFFDFD\">に</span><span style=\"background-color: #FF0D0D\">始まる</span><span style=\"background-color: #FFFEFE\">。</span><span style=\"background-color: #FF9090\">高木</span><span style=\"background-color: #FFF5F5\">氏</span><span style=\"background-color: #FFFDFD\">が</span><span style=\"background-color: #FFFDFD\">さらに</span><span style=\"background-color: #FFFCFC\">検証</span><span style=\"background-color: #FFFEFE\">を</span><span style=\"background-color: #FFFEFE\">加え</span><span style=\"background-color: #FFFEFE\">た</span><span style=\"background-color: #FFFCFC\">ところ</span><span style=\"background-color: #FFFCFC\">、</span><span style=\"background-color: #FFFEFE\">その</span><span style=\"background-color: #FFFEFE\">プロフィール</span><span style=\"background-color: #FFFEFE\">に</span><span style=\"background-color: #FFFDFD\">は</span><span style=\"background-color: #FFFEFE\">自分</span><span style=\"background-color: #FFFEFE\">が</span><span style=\"background-color: #FFFEFE\">今</span><span style=\"background-color: #FFFEFE\">まで</span><span style=\"background-color: #FFFDFD\">プレイ</span><span style=\"background-color: #FFFEFE\">し</span><span style=\"background-color: #FFFEFE\">て</span><span style=\"background-color: #FFFEFE\">き</span><span style=\"background-color: #FFFEFE\">た</span><span style=\"background-color: #FFFEFE\">ゲーム</span><span style=\"background-color: #FFFEFE\">や</span><span style=\"background-color: #FFFEFE\">、</span><span style=\"background-color: #FFFEFE\">PS</span><span style=\"background-color: #FFFEFE\">0</span><span style=\"background-color: #FFFEFE\">内蔵</span><span style=\"background-color: #FFFEFE\">の</span><span style=\"background-color: #FFFEFE\">HD</span><span style=\"background-color: #FFFEFE\">##D</span><span style=\"background-color: #FFFEFE\">に</span><span style=\"background-color: #FFFEFE\">録画</span><span style=\"background-color: #FFFEFE\">も</span><span style=\"background-color: #FFFEFE\">出来る</span><span style=\"background-color: #FFFEFE\">”</span><span style=\"background-color: #FFFEFE\">トル</span><span style=\"background-color: #FFFEFE\">##ネ</span><span style=\"background-color: #FFFEFE\">”</span><span style=\"background-color: #FFFEFE\">の</span><span style=\"background-color: #FFFEFE\">録画</span><span style=\"background-color: #FFFEFE\">履歴</span><span style=\"background-color: #FFFEFE\">が</span><span style=\"background-color: #FFFEFE\">丸</span><span style=\"background-color: #FFFEFE\">##見</span><span style=\"background-color: #FFFEFE\">##え</span><span style=\"background-color: #FFFEFE\">の</span><span style=\"background-color: #FFFEFE\">状態</span><span style=\"background-color: #FFFEFE\">で</span><span style=\"background-color: #FFFEFE\">、</span><span style=\"background-color: #FFFEFE\">SC</span><span style=\"background-color: #FFFDFD\">##E</span><span style=\"background-color: #FFFEFE\">に</span><span style=\"background-color: #FFFEFE\">問い合わせ</span><span style=\"background-color: #FFFEFE\">た</span><span style=\"background-color: #FFFDFD\">ところ</span><span style=\"background-color: #FFFEFE\">、</span><span style=\"background-color: #FFFEFE\">非公開</span><span style=\"background-color: #FFFEFE\">設定</span><span style=\"background-color: #FFFEFE\">に</span><span style=\"background-color: #FFFEFE\">する</span><span style=\"background-color: #FFFEFE\">手段</span><span style=\"background-color: #FFFEFE\">も</span><span style=\"background-color: #FFFEFE\">ない</span><span style=\"background-color: #FFFEFE\">こと</span><span style=\"background-color: #FFFEFE\">も</span><span style=\"background-color: #FFFEFE\">確認</span><span style=\"background-color: #FFFEFE\">し</span><span style=\"background-color: #FFFCFC\">た</span><span style=\"background-color: #FFFEFE\">。</span><span style=\"background-color: #FFFEFE\">0</span><span style=\"background-color: #FFF8F8\">日</span><span style=\"background-color: #FFFEFE\">、</span><span style=\"background-color: #FF8D8D\">高木</span><span style=\"background-color: #FFF7F7\">氏</span><span style=\"background-color: #FFFEFE\">が</span><span style=\"background-color: #FFFEFE\">自身</span><span style=\"background-color: #FFFEFE\">の</span><span style=\"background-color: #FFFEFE\">ブログ</span><span style=\"background-color: #FFFEFE\">で</span><span style=\"background-color: #FFFDFD\">この</span><span style=\"background-color: #FFFEFE\">事実</span><span style=\"background-color: #FFFEFE\">を</span><span style=\"background-color: #FFFEFE\">告発</span><span style=\"background-color: #FFFEFE\">し</span><span style=\"background-color: #FFFEFE\">た</span><span style=\"background-color: #FFFEFE\">直後</span><span style=\"background-color: #FFFEFE\">から</span><span style=\"background-color: #FFFEFE\">、</span><span style=\"background-color: #FFF9F9\">ネット</span><span style=\"background-color: #FFFEFE\">で</span><span style=\"background-color: #FFFEFE\">は</span><span style=\"background-color: #FFFEFE\">大きな</span><span style=\"background-color: #FFDEDE\">話題</span><span style=\"background-color: #FFFEFE\">と</span><span style=\"background-color: #FFFCFC\">なり</span><span style=\"background-color: #FFFEFE\">、</span><span style=\"background-color: #FFFEFE\">現在</span><span style=\"background-color: #FFFEFE\">は</span><span style=\"background-color: #FFFDFD\">炎上</span><span style=\"background-color: #FFFEFE\">の</span><span style=\"background-color: #FFFEFE\">様相</span><span style=\"background-color: #FFFEFE\">を</span><span style=\"background-color: #FFFEFE\">呈し</span><span style=\"background-color: #FFFCFC\">て</span><span style=\"background-color: #FFDFDF\">いる</span><span style=\"background-color: #FFFEFE\">。</span><span style=\"background-color: #FFF7F7\">ネット</span><span style=\"background-color: #FFFEFE\">掲示板</span><span style=\"background-color: #FFFAFA\">で</span><span style=\"background-color: #FFFDFD\">は</span><span style=\"background-color: #FFFEFE\">、</span><span style=\"background-color: #FFFEFE\">「</span><span style=\"background-color: #FFFEFE\">プライ</span><span style=\"background-color: #FFFEFE\">##バ</span><span style=\"background-color: #FFFEFE\">##ジー</span><span style=\"background-color: #FFFEFE\">って</span><span style=\"background-color: #FFFEFE\">何</span><span style=\"background-color: #FFFEFE\">?」</span><span style=\"background-color: #FFFEFE\">##「</span><span style=\"background-color: #FFFDFD\">技術</span><span style=\"background-color: #FFFEFE\">力</span><span style=\"background-color: #FFFEFE\">も</span><span style=\"background-color: #FFFEFE\">ない</span><span style=\"background-color: #FFFEFE\">のに</span><span style=\"background-color: #FFAFAF\">オンライン</span><span style=\"background-color: #FFFEFE\">を</span><span style=\"background-color: #FFFEFE\">重視</span><span style=\"background-color: #FFFEFE\">する</span><span style=\"background-color: #FFFEFE\">な</span><span style=\"background-color: #FFFEFE\">」</span><span style=\"background-color: #FFFEFE\">など</span><span style=\"background-color: #FFFEFE\">、</span><span style=\"background-color: #FFFEFE\">厳しい</span><span style=\"background-color: #FFFEFE\">批判</span><span style=\"background-color: #FFFEFE\">が</span><span style=\"background-color: #FFFBFB\">寄せ</span><span style=\"background-color: #FFFDFD\">られ</span><span style=\"background-color: #FFFEFE\">て</span><span style=\"background-color: #FFFDFD\">いる</span><span style=\"background-color: #FFFEFE\">ものの</span><span style=\"background-color: #FFFEFE\">、</span><span style=\"background-color: #FFFEFE\">0</span><span style=\"background-color: #FFF5F5\">日</span><span style=\"background-color: #FFFDFD\">現在</span><span style=\"background-color: #FFFEFE\">、</span><span style=\"background-color: #FFDBDB\">ソニー</span><span style=\"background-color: #FFFEFE\">##・</span><span style=\"background-color: #FFFEFE\">##コンピュータ</span><span style=\"background-color: #FFFEFE\">##エンタテインメント</span><span style=\"background-color: #FFFEFE\">から</span><span style=\"background-color: #FFFEFE\">この</span><span style=\"background-color: #FFFEFE\">件</span><span style=\"background-color: #FFFEFE\">に関する</span><span style=\"background-color: #FFFEFE\">声明</span><span style=\"background-color: #FFFEFE\">は</span><span style=\"background-color: #FFF3F3\">発表</span><span style=\"background-color: #FFFBFB\">さ</span><span style=\"background-color: #FFFCFC\">れ</span><span style=\"background-color: #FFFEFE\">て</span><span style=\"background-color: #FFFDFD\">い</span><span style=\"background-color: #FFECEC\">ない</span><span style=\"background-color: #FFFEFE\">。</span><span style=\"background-color: #FFFEFE\">また</span><span style=\"background-color: #FFFEFE\">、</span><span style=\"background-color: #FFFAFA\">ユーザー</span><span style=\"background-color: #FFFEFE\">の</span><span style=\"background-color: #FFFEFE\">中</span><span style=\"background-color: #FFFEFE\">に</span><span style=\"background-color: #FFFEFE\">は</span><span style=\"background-color: #FFFEFE\">、</span><span style=\"background-color: #FFFEFE\">批判</span><span style=\"background-color: #FFFEFE\">のみ</span><span style=\"background-color: #FFFEFE\">なら</span><span style=\"background-color: #FFFEFE\">ず</span><span style=\"background-color: #FFFEFE\">、</span><span style=\"background-color: #FFFEFE\">「</span><span style=\"background-color: #FFFEFE\">恥</span><span style=\"background-color: #FFFEFE\">##ずか</span><span style=\"background-color: #FFFEFE\">##しい</span><span style=\"background-color: #FFF2F2\">ゲーム</span><span style=\"background-color: #FFFEFE\">が</span><span style=\"background-color: #FFFEFE\">でき</span><span style=\"background-color: #FFFEFE\">ない</span><span style=\"background-color: #FFFEFE\">」</span><span style=\"background-color: #FFFEFE\">「</span><span style=\"background-color: #FFFDFD\">録画</span><span style=\"background-color: #FFFEFE\">する</span><span style=\"background-color: #FFFEFE\">こと</span><span style=\"background-color: #FFFEFE\">を</span><span style=\"background-color: #FFFEFE\">ため</span><span style=\"background-color: #FFFEFE\">##らっ</span><span style=\"background-color: #FFFEFE\">て</span><span style=\"background-color: #FFFEFE\">しまう</span><span style=\"background-color: #FFFEFE\">」</span><span style=\"background-color: #FFFEFE\">など</span><span style=\"background-color: #FFFEFE\">、</span><span style=\"background-color: #FFFEFE\">不安</span><span style=\"background-color: #FFFEFE\">の</span><span style=\"background-color: #FFF9F9\">声</span><span style=\"background-color: #FFFCFC\">も</span><span style=\"background-color: #FFF8F8\">上がっ</span><span style=\"background-color: #FFFDFD\">て</span><span style=\"background-color: #FFFAFA\">おり</span><span style=\"background-color: #FFFEFE\">、</span><span style=\"background-color: #FFFEFE\">他人</span><span style=\"background-color: #FFFEFE\">の</span><span style=\"background-color: #FFF7F7\">ゲーム</span><span style=\"background-color: #FFFEFE\">プレー</span><span style=\"background-color: #FFFEFE\">履歴</span><span style=\"background-color: #FFFEFE\">、</span><span style=\"background-color: #FFFEFE\">録画</span><span style=\"background-color: #FFFEFE\">履歴</span><span style=\"background-color: #FFFEFE\">が</span><span style=\"background-color: #FFFEFE\">晒さ</span><span style=\"background-color: #FFFEFE\">れ</span><span style=\"background-color: #FFFEFE\">炎上</span><span style=\"background-color: #FFFEFE\">する</span><span style=\"background-color: #FFFEFE\">といった</span><span style=\"background-color: #FFFEFE\">事態</span><span style=\"background-color: #FFFEFE\">も</span><span style=\"background-color: #FFFEFE\">懸念</span><span style=\"background-color: #FFF7F7\">さ</span><span style=\"background-color: #FFE0E0\">れ</span><span style=\"background-color: #FFFAFA\">て</span><span style=\"background-color: #FFC8C8\">いる</span><span style=\"background-color: #FFFEFE\">。</span><span style=\"background-color: #FF0303\">【</span><span style=\"background-color: #FF0000\">関連</span><span style=\"background-color: #FF-5-5\">情報</span><span style=\"background-color: #FFFDFD\">】</span><span style=\"background-color: #FF2323\">・</span><span style=\"background-color: #FFFEFE\">なぜ</span><span style=\"background-color: #FFFBFB\">ソニー</span><span style=\"background-color: #FFFEFE\">が</span><span style=\"background-color: #FFFEFE\">駄</span><span style=\"background-color: #FFFEFE\">##目</span><span style=\"background-color: #FFFEFE\">で</span><span style=\"background-color: #FFFEFE\">アップル</span><span style=\"background-color: #FFFEFE\">や</span><span style=\"background-color: #FFFEFE\">マイクロソフト</span><span style=\"background-color: #FFFEFE\">は</span><span style=\"background-color: #FFFEFE\">良い</span><span style=\"background-color: #FFFEFE\">の</span><span style=\"background-color: #FFFEFE\">か</span><span style=\"background-color: #FFFDFD\">・</span><span style=\"background-color: #FFFBFB\">ソニー</span><span style=\"background-color: #FFFEFE\">が</span><span style=\"background-color: #FFFEFE\">全</span><span style=\"background-color: #FFFBFB\">プレイヤー</span><span style=\"background-color: #FFFEFE\">の</span><span style=\"background-color: #FFFEFE\">PS</span><span style=\"background-color: #FFFEFE\">##N</span><span style=\"background-color: #FFFEFE\">ゲーム</span><span style=\"background-color: #FFFEFE\">履歴</span><span style=\"background-color: #FFFEFE\">を</span><span style=\"background-color: #FFFEFE\">勝手</span><span style=\"background-color: #FFFEFE\">に</span><span style=\"background-color: #FFFEFE\">公開</span><span style=\"background-color: #FFFEFE\">恥</span><span style=\"background-color: #FFFEFE\">##ずか</span><span style=\"background-color: #FFFEFE\">##しい</span><span style=\"background-color: #FFF8F8\">ゲーム</span><span style=\"background-color: #FFFEFE\">を</span><span style=\"background-color: #FFFEFE\">プレイ</span><span style=\"background-color: #FFFEFE\">し</span><span style=\"background-color: #FFFEFE\">た</span><span style=\"background-color: #FFFEFE\">奴</span><span style=\"background-color: #FFFEFE\">は</span><span style=\"background-color: #FFFEFE\">人生</span><span style=\"background-color: #FFFEFE\">終了</span><span style=\"background-color: #FFFEFE\">w</span><br><br>"
            ],
            "text/plain": [
              "<IPython.core.display.HTML object>"
            ]
          },
          "metadata": {
            "tags": []
          }
        },
        {
          "output_type": "stream",
          "text": [
            "[I 201102 07:57:23 <ipython-input-9-589a59641233>:343] ------Finished Explanation------\n"
          ],
          "name": "stderr"
        }
      ]
    }
  ]
}